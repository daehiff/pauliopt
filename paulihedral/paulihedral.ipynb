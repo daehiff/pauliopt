{
 "cells": [
  {
   "cell_type": "code",
   "execution_count": 1,
   "id": "f08a2062",
   "metadata": {},
   "source": [
    "from benchmark.mypauli import *\n",
    "from parallel_bl import *\n",
    "from tools import *\n",
    "from qiskit import transpile\n",
    "import time\n",
    "import synthesis_FT\n",
    "\n",
    "ctime = time.time\n",
    "parr = [[pauliString('XXXII', 1.0),pauliString('XXIII', 1.0)],[pauliString('XXIXI', 1.0),pauliString('XXIIX', 1.0)]]\n",
    "nq = len(parr[0][0])\n",
    "length = nq//2 # `length' is a hyperparameter, and can be adjusted for best performance\n",
    "t0 = ctime()\n",
    "a1 = depth_oriented_scheduling(parr, length=length, maxiter=30)\n",
    "qc = synthesis_FT.block_opt_FT(a1)\n",
    "print('PH, Time costed:', ctime()-t0, flush=True)\n",
    "t0 = ctime()\n",
    "qc2 = transpile(qc, basis_gates=['u3', 'cx'], optimization_level=3)\n",
    "print_qc(qc2)\n",
    "qc = synthesis_FT.qiskit_synthesis(a1)\n",
    "print('Qiskit, Time costed:', ctime()-t0, flush=True)\n",
    "t0 = ctime()\n",
    "qc2 = transpile(qc, basis_gates=['u3', 'cx'], optimization_level=3)\n",
    "print_qc(qc2)"
   ],
   "outputs": []
  },
  {
   "cell_type": "code",
   "execution_count": null,
   "id": "5c282cd5",
   "metadata": {},
   "source": [
    "%run table2.py"
   ],
   "outputs": []
  },
  {
   "cell_type": "code",
   "execution_count": null,
   "id": "ffc2efe7",
   "metadata": {},
   "source": [
    "%run table3.py"
   ],
   "outputs": []
  },
  {
   "cell_type": "code",
   "execution_count": 2,
   "id": "7f605bce",
   "metadata": {},
   "source": [
    "%run table4.py"
   ],
   "outputs": []
  },
  {
   "cell_type": "code",
   "execution_count": null,
   "id": "82507b88",
   "metadata": {},
   "source": [],
   "outputs": []
  }
 ],
 "metadata": {
  "kernelspec": {
   "display_name": "Python 3 (ipykernel)",
   "language": "python",
   "name": "python3"
  },
  "language_info": {
   "codemirror_mode": {
    "name": "ipython",
    "version": 3
   },
   "file_extension": ".py",
   "mimetype": "text/x-python",
   "name": "python",
   "nbconvert_exporter": "python",
   "pygments_lexer": "ipython3",
   "version": "3.8.12"
  }
 },
 "nbformat": 4,
 "nbformat_minor": 5
}
