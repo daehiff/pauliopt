{
 "cells": [
  {
   "cell_type": "markdown",
   "metadata": {
    "slideshow": {
     "slide_type": "slide"
    }
   },
   "source": [
    "# Readme examples"
   ]
  },
  {
   "cell_type": "markdown",
   "metadata": {
    "slideshow": {
     "slide_type": "subslide"
    }
   },
   "source": [
    "Changing working directory from `./notebooks/` to `./`, in order to import the Python packages defined in the repository."
   ]
  },
  {
   "cell_type": "code",
   "execution_count": null,
   "metadata": {},
   "outputs": [],
   "source": [
    "import os\n",
    "\n",
    "DEBUG = True\n",
    "try:\n",
    "    print(\"Original working directory: %s\" % str(original_wd))  # type: ignore\n",
    "    \"\"\"\n",
    "        You only get here if you---by mistake or otherwise---are re-running this cell, \n",
    "        in which case the working should not be changed again.\n",
    "    \"\"\"\n",
    "except NameError:\n",
    "    original_wd = os.getcwd()\n",
    "    os.chdir('../')\n",
    "print(\"Current working directory: %s\" % str(os.getcwd()))"
   ]
  },
  {
   "cell_type": "markdown",
   "metadata": {},
   "source": [
    "Setting SVG output for Matplotlib:"
   ]
  },
  {
   "cell_type": "code",
   "execution_count": null,
   "metadata": {},
   "outputs": [],
   "source": [
    "% config InlineBackend.figure_format = 'svg'"
   ]
  },
  {
   "cell_type": "markdown",
   "metadata": {},
   "source": [
    "Example from Readme.md:"
   ]
  },
  {
   "cell_type": "code",
   "execution_count": null,
   "metadata": {},
   "outputs": [],
   "source": [
    "from pauliopt.phase import PhaseCircuit, Z, X, pi\n",
    "\n",
    "circ = PhaseCircuit(4)\n",
    "circ >>= Z(pi / 2) @ {0, 1}\n",
    "circ >>= X(pi) @ {0, 2}\n",
    "circ >>= X(-pi / 4) @ {1, 2, 3}\n",
    "circ >>= Z(pi / 4) @ {0, 3}\n",
    "circ >>= X(pi / 2) @ {0, 1, 3}\n",
    "circ"
   ]
  },
  {
   "cell_type": "code",
   "execution_count": null,
   "metadata": {},
   "outputs": [],
   "source": [
    "from pauliopt.topologies import Topology\n",
    "\n",
    "topology = Topology.cycle(4)\n",
    "topology.draw(figsize=(3, 3))"
   ]
  },
  {
   "cell_type": "code",
   "execution_count": null,
   "metadata": {},
   "outputs": [],
   "source": [
    "from pauliopt.phase import OptimizedPhaseCircuit\n",
    "\n",
    "num_cx_layers = 3\n",
    "opt_circ = OptimizedPhaseCircuit(circ, topology, num_cx_layers, rng_seed=0)\n",
    "display(opt_circ)\n",
    "print(f\"Nearest-neighbour CX count: {opt_circ.cx_count}\")\n",
    "display(opt_circ.to_qiskit().draw(\"mpl\", scale=0.6))"
   ]
  },
  {
   "cell_type": "code",
   "execution_count": null,
   "metadata": {},
   "outputs": [],
   "source": [
    "opt_circ.anneal(50)\n",
    "display(opt_circ)\n",
    "print(f\"Nearest-neighbour CX count: {opt_circ.cx_count}\")\n",
    "display(opt_circ.to_qiskit().draw(\"mpl\", scale=0.6))"
   ]
  }
 ],
 "metadata": {
  "kernelspec": {
   "display_name": "Python 3",
   "language": "python",
   "name": "python3"
  },
  "language_info": {
   "codemirror_mode": {
    "name": "ipython",
    "version": 3
   },
   "file_extension": ".py",
   "mimetype": "text/x-python",
   "name": "python",
   "nbconvert_exporter": "python",
   "pygments_lexer": "ipython3",
   "version": "3.8.3"
  }
 },
 "nbformat": 4,
 "nbformat_minor": 4
}