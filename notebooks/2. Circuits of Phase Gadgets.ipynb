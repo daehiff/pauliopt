{
 "cells": [
  {
   "cell_type": "markdown",
   "metadata": {
    "slideshow": {
     "slide_type": "slide"
    }
   },
   "source": [
    "# Circuits of Phase Gadgets"
   ]
  },
  {
   "cell_type": "markdown",
   "metadata": {
    "slideshow": {
     "slide_type": "subslide"
    }
   },
   "source": [
    "Changing working directory from `./notebooks/` to `./`, in order to import the Python packages defined in the repository."
   ]
  },
  {
   "cell_type": "code",
   "execution_count": 1,
   "metadata": {},
   "outputs": [
    {
     "name": "stdout",
     "output_type": "stream",
     "text": [
      "Current working directory: C:\\Users\\Stefa\\Documents\\git\\pauliopt\n"
     ]
    }
   ],
   "source": [
    "import os\n",
    "\n",
    "DEBUG = True\n",
    "try:\n",
    "    print(\"Original working directory: %s\" % str(original_wd))  # type: ignore\n",
    "    \"\"\"\n",
    "        You only get here if you---by mistake or otherwise---are re-running this cell, \n",
    "        in which case the working should not be changed again.\n",
    "    \"\"\"\n",
    "except NameError:\n",
    "    original_wd = os.getcwd()\n",
    "    os.chdir('../')\n",
    "print(\"Current working directory: %s\" % str(os.getcwd()))"
   ]
  },
  {
   "cell_type": "markdown",
   "metadata": {
    "slideshow": {
     "slide_type": "subslide"
    }
   },
   "source": [
    "General purpose imports:"
   ]
  },
  {
   "cell_type": "code",
   "execution_count": 2,
   "metadata": {},
   "outputs": [
    {
     "name": "stderr",
     "output_type": "stream",
     "text": [
      "<ipython-input-2-f5d723bf6ff2>:4: DeprecationWarning: `set_matplotlib_formats` is deprecated since IPython 7.23, directly use `matplotlib_inline.backend_inline.set_matplotlib_formats()`\n",
      "  set_matplotlib_formats('svg')\n"
     ]
    }
   ],
   "source": [
    "import matplotlib.pyplot as plt\n",
    "from IPython.display import set_matplotlib_formats\n",
    "% matplotlib inline\n",
    "set_matplotlib_formats('svg')\n",
    "# import qiskit"
   ]
  },
  {
   "cell_type": "markdown",
   "metadata": {
    "slideshow": {
     "slide_type": "subslide"
    }
   },
   "source": [
    "Some utility code to display HTML elements side-by-side:"
   ]
  },
  {
   "cell_type": "code",
   "execution_count": 3,
   "metadata": {},
   "outputs": [],
   "source": [
    "from typing import Union\n",
    "from IPython.display import Image, HTML  # type: ignore\n",
    "\n",
    "\n",
    "def side_by_side(*elements: Union[str, Image]) -> HTML:\n",
    "    \"\"\"\n",
    "        Returns an HTML Div element with the given elements\n",
    "        displayed side by side. Accepts raw HTML code or\n",
    "        IPython Image objects.\n",
    "    \"\"\"\n",
    "    html = f\"<div style='display:flex; align-items: center;'>\"\n",
    "    for el in elements:\n",
    "        if isinstance(el, str):\n",
    "            html += el\n",
    "        elif isinstance(el, Image):\n",
    "            html += f\"<img src='data:image/png;base64,{el._repr_png_()}'/>\"\n",
    "    html += f\"</div>\"\n",
    "    return HTML(html)"
   ]
  },
  {
   "cell_type": "markdown",
   "metadata": {
    "slideshow": {
     "slide_type": "slide"
    }
   },
   "source": [
    "## Phase Gadgets\n",
    "\n",
    "The `PhaseGadget` class can be used to construct phase gadgets starting from:\n",
    "\n",
    "- a basis (one of `Z` or `X`);\n",
    "- an angle (e.g. an instance of `pauliopt.utils.Angle`, but more generally anything satisfying the `pauliopt.utils.AngleProtocol` protocol);\n",
    "- the (non-empty) collection of qubits spanned by the phase gadget."
   ]
  },
  {
   "cell_type": "code",
   "execution_count": 4,
   "metadata": {},
   "outputs": [
    {
     "data": {
      "text/plain": [
       "PhaseGadget('Z', π/2, {0, 2, 5})"
      ]
     },
     "execution_count": 4,
     "metadata": {},
     "output_type": "execute_result"
    }
   ],
   "source": [
    "from pauliopt.utils import pi\n",
    "from pauliopt.phase import PhaseGadget\n",
    "\n",
    "gadget = PhaseGadget(\"Z\", pi / 2, {0, 2, 5})\n",
    "gadget"
   ]
  },
  {
   "cell_type": "markdown",
   "metadata": {
    "slideshow": {
     "slide_type": "subslide"
    }
   },
   "source": [
    "The basis, angle and qubits can be accessed from the homonymous properties: "
   ]
  },
  {
   "cell_type": "code",
   "execution_count": 5,
   "metadata": {},
   "outputs": [
    {
     "name": "stdout",
     "output_type": "stream",
     "text": [
      "gadget.basis = 'Z'\n",
      "gadget.angle = pi/2\n",
      "gadget.qubits = frozenset({0, 2, 5})\n"
     ]
    }
   ],
   "source": [
    "print(f\"{gadget.basis = }\")\n",
    "print(f\"{gadget.angle = }\")\n",
    "print(f\"{gadget.qubits = }\")"
   ]
  },
  {
   "cell_type": "markdown",
   "metadata": {
    "slideshow": {
     "slide_type": "subslide"
    }
   },
   "source": [
    "Phase gadgets are immutable, hashable and can be compared for equality:"
   ]
  },
  {
   "cell_type": "code",
   "execution_count": 6,
   "metadata": {},
   "outputs": [
    {
     "name": "stdout",
     "output_type": "stream",
     "text": [
      "hash(gadget) = 624374175457367365\n",
      "(gadget == same_gadget) = True\n",
      "(gadget == other_gadget) = False\n"
     ]
    }
   ],
   "source": [
    "same_gadget = PhaseGadget(\"Z\", pi / 2, {0, 2, 5})\n",
    "other_gadget = PhaseGadget(\"X\", pi / 2, {0, 2, 5})\n",
    "print(f\"{hash(gadget) = }\")\n",
    "print(f\"{(gadget == same_gadget) = }\")\n",
    "print(f\"{(gadget == other_gadget) = }\")"
   ]
  },
  {
   "cell_type": "markdown",
   "metadata": {
    "slideshow": {
     "slide_type": "subslide"
    }
   },
   "source": [
    "Special purpose classes `Z` and `X` allow phase gadgets to be constructed with a more expressive syntax:"
   ]
  },
  {
   "cell_type": "code",
   "execution_count": 7,
   "metadata": {},
   "outputs": [
    {
     "name": "stdout",
     "output_type": "stream",
     "text": [
      "Z(π/2) @ {0, 2, 5}\n",
      "PhaseGadget('Z', π/2, {0, 2, 5})\n"
     ]
    }
   ],
   "source": [
    "from pauliopt.phase import Z, X\n",
    "\n",
    "gadget = Z(pi / 2) @ {0, 2, 5}\n",
    "print(gadget)\n",
    "print(repr(gadget))"
   ]
  },
  {
   "cell_type": "markdown",
   "metadata": {
    "slideshow": {
     "slide_type": "slide"
    }
   },
   "source": [
    "## Circuits of Mixed ZX Phase Gadgets\n",
    "\n",
    "Circuits of mixed ZX phase gadgets can be constructed using the `PhaseCircuit` class, from a number of qubits and a sequence of phase gadgets. Circuits are mutable, but a read-only view (of class `PhaseCircuitView`) can be obtained from the `as_readonly` property and a copy can be made with the `clone` method.\n",
    "\n",
    "Internally, each instance of `PhaseCircuit` maintains the following data:\n",
    "\n",
    "- two binary matrices keeping track of the legs of Z and X gadgets respectively;\n",
    "- a mapping from the columns of the binary matrices to the original list of phase gadgets;\n",
    "- the collection of qubits and a mapping between qubits and rows of the binary matrices;\n",
    "- the list of angles for the phase gadgets, in the original order.\n",
    "\n",
    "The data is updated whenever the circuit is modified."
   ]
  },
  {
   "cell_type": "markdown",
   "metadata": {
    "slideshow": {
     "slide_type": "subslide"
    }
   },
   "source": [
    "We create a sample circuit on 3 qubits (labelled `0`, `1` and `2`) and 5 phase gadgets:"
   ]
  },
  {
   "cell_type": "code",
   "execution_count": 8,
   "metadata": {},
   "outputs": [],
   "source": [
    "from pauliopt.phase import PhaseCircuit\n",
    "\n",
    "gadgets = [\n",
    "    Z(pi / 2) @ {0, 1},\n",
    "    X(pi) @ {0, 2},\n",
    "    X(-pi / 4) @ {1, 2},\n",
    "    Z(pi / 4) @ {0, 2},\n",
    "    X(pi / 2) @ {0, 1},\n",
    "]\n",
    "phase_circuit = PhaseCircuit(3, gadgets)"
   ]
  },
  {
   "cell_type": "markdown",
   "metadata": {
    "slideshow": {
     "slide_type": "subslide"
    }
   },
   "source": [
    "Phase gadgets are not stored directly, but they can be accessed from the and `gadgets` property. This requires some computation, so the `num_gadgets` property is available from when the number alone is of interest:"
   ]
  },
  {
   "cell_type": "code",
   "execution_count": 9,
   "metadata": {},
   "outputs": [
    {
     "name": "stdout",
     "output_type": "stream",
     "text": [
      "phase_circuit.num_qubits = 3\n",
      "\n",
      "phase_circuit.num_gadgets = 5\n",
      "phase_circuit.gadgets = (PhaseGadget('Z', π/2, {0, 1}), PhaseGadget('X', π, {0, 2}), PhaseGadget('X', 7π/4, {1, 2}), PhaseGadget('Z', π/4, {0, 2}), PhaseGadget('X', π/2, {0, 1}))\n"
     ]
    }
   ],
   "source": [
    "print(f\"{phase_circuit.num_qubits = }\")\n",
    "print()\n",
    "print(f\"{phase_circuit.num_gadgets = }\")\n",
    "print(f\"{phase_circuit.gadgets = }\")"
   ]
  },
  {
   "cell_type": "markdown",
   "metadata": {
    "slideshow": {
     "slide_type": "subslide"
    }
   },
   "source": [
    "Circuits are mutable, and hence not hashable, but they can be compared for equality. In particular, the `clone` method returns a circuit which is initially equal to the original, but can then be modified independently:"
   ]
  },
  {
   "cell_type": "code",
   "execution_count": 10,
   "metadata": {},
   "outputs": [
    {
     "name": "stdout",
     "output_type": "stream",
     "text": [
      "Immediately after cloning: (phase_circuit == clone_circuit) = True\n",
      "After modifying the clone: (phase_circuit == clone_circuit) = False\n"
     ]
    }
   ],
   "source": [
    "clone_circuit = phase_circuit.cloned()\n",
    "print(f\"Immediately after cloning: {(phase_circuit == clone_circuit) = }\")\n",
    "clone_circuit.conj_by_cx(0, 1)  # modify the clone\n",
    "print(f\"After modifying the clone: {(phase_circuit == clone_circuit) = }\")"
   ]
  },
  {
   "cell_type": "markdown",
   "metadata": {
    "slideshow": {
     "slide_type": "subslide"
    }
   },
   "source": [
    "Phase gadgets can be added to a circuit with the `PhaseCircuit.add_gadget(gadget)` method. However, please note that this is strictly less efficient than passing all gadgets in the constructor, because the internal binary matrix must be copied every time to append a column."
   ]
  },
  {
   "cell_type": "code",
   "execution_count": 11,
   "metadata": {},
   "outputs": [
    {
     "name": "stdout",
     "output_type": "stream",
     "text": [
      "(phase_circuit == new_phase_circuit) = True\n"
     ]
    }
   ],
   "source": [
    "new_phase_circuit = PhaseCircuit(3)\n",
    "for gadget in gadgets:\n",
    "    new_phase_circuit.add_gadget(gadget)\n",
    "print(f\"{(phase_circuit == new_phase_circuit) = }\")"
   ]
  },
  {
   "cell_type": "markdown",
   "metadata": {
    "slideshow": {
     "slide_type": "subslide"
    }
   },
   "source": [
    "The in-place right-shift operator `>>=` can also be used to add gadgets to a circuit, resulting in a more compact syntax."
   ]
  },
  {
   "cell_type": "code",
   "execution_count": 12,
   "metadata": {},
   "outputs": [
    {
     "name": "stdout",
     "output_type": "stream",
     "text": [
      "(phase_circuit == new_phase_circuit) = True\n"
     ]
    }
   ],
   "source": [
    "new_phase_circuit = PhaseCircuit(3)\n",
    "for gadget in gadgets:\n",
    "    new_phase_circuit >>= gadget\n",
    "print(f\"{(phase_circuit == new_phase_circuit) = }\")"
   ]
  },
  {
   "cell_type": "markdown",
   "metadata": {
    "slideshow": {
     "slide_type": "subslide"
    }
   },
   "source": [
    "The in-place right-shift operator `>>=` further allows gadget constructors parameters to be used directly, further enhancing legibility."
   ]
  },
  {
   "cell_type": "code",
   "execution_count": 13,
   "metadata": {},
   "outputs": [
    {
     "name": "stdout",
     "output_type": "stream",
     "text": [
      "(phase_circuit == new_phase_circuit) = True\n"
     ]
    }
   ],
   "source": [
    "new_phase_circuit = PhaseCircuit(3)\n",
    "new_phase_circuit >>= Z(pi / 2) @ {0, 1}\n",
    "new_phase_circuit >>= X(pi) @ {0, 2}\n",
    "new_phase_circuit >>= X(-pi / 4) @ {1, 2}\n",
    "new_phase_circuit >>= Z(pi / 4) @ {0, 2}\n",
    "new_phase_circuit >>= X(pi / 2) @ {0, 1}\n",
    "print(f\"{(phase_circuit == new_phase_circuit) = }\")"
   ]
  },
  {
   "cell_type": "markdown",
   "metadata": {
    "slideshow": {
     "slide_type": "subslide"
    }
   },
   "source": [
    "Gadgets (or their parameter triples) can also be passed to `>>=` in a sequence."
   ]
  },
  {
   "cell_type": "code",
   "execution_count": 14,
   "metadata": {},
   "outputs": [
    {
     "name": "stdout",
     "output_type": "stream",
     "text": [
      "(phase_circuit == new_phase_circuit) = True\n"
     ]
    }
   ],
   "source": [
    "new_phase_circuit = PhaseCircuit(3)\n",
    "new_phase_circuit >>= [Z(pi / 2) @ {0, 1}, X(pi) @ {0, 2}, X(-pi / 4) @ {1, 2},\n",
    "                       Z(pi / 4) @ {0, 2}, X(pi / 2) @ {0, 1}]\n",
    "print(f\"{(phase_circuit == new_phase_circuit) = }\")"
   ]
  },
  {
   "cell_type": "markdown",
   "metadata": {
    "slideshow": {
     "slide_type": "subslide"
    }
   },
   "source": [
    "A nicer-looking alternative name `π` for `pi` is also defined, so that this is valid code:"
   ]
  },
  {
   "cell_type": "code",
   "execution_count": 15,
   "metadata": {},
   "outputs": [],
   "source": [
    "from pauliopt.utils import π\n",
    "\n",
    "circ = PhaseCircuit(3)\n",
    "circ >>= Z(π / 2) @ {0, 1}\n",
    "circ >>= X(π) @ {0, 2}\n",
    "circ >>= X(-π / 4) @ {1, 2}\n",
    "circ >>= Z(π / 4) @ {0, 2}\n",
    "circ >>= X(π / 2) @ {0, 1}"
   ]
  },
  {
   "cell_type": "markdown",
   "metadata": {
    "slideshow": {
     "slide_type": "slide"
    }
   },
   "source": [
    "## Drawing Circuits of Phase Gadgets\n",
    "\n",
    "The method `PhaseCircuit.to_svg(**kwargs)` returns an SVG representation of a circuit, for displaying purposes. The `PhaseCircuit` class defines the magic method `_repr_svg_`: in a Jupyter notebook, this display the circuit as an SVG image by default."
   ]
  },
  {
   "cell_type": "code",
   "execution_count": 16,
   "metadata": {},
   "outputs": [
    {
     "data": {
      "image/svg+xml": [
       "<?xml version=\"1.0\" encoding=\"utf-8\"?>\n",
       "<!DOCTYPE svg PUBLIC \"-//W3C//DTD SVG 1.1//EN\" \"http://www.w3.org/Graphics/SVG/1.1/DTD/svg11.dtd\">\n",
       "<svg version=\"1.1\" xmlns=\"http://www.w3.org/2000/svg\" xmlns:xlink=\"http://www.w3.org/1999/xlink\" width=\"704\" height=\"140\"><path fill=\"none\" stroke=\"black\" d=\"M 42, 50 L 662, 50\"/>\n",
       "<text x=\"0\" y=\"54\" font-size=\"16\">0</text>\n",
       "<text x=\"670\" y=\"54\" font-size=\"16\">0</text>\n",
       "<path fill=\"none\" stroke=\"black\" d=\"M 42, 80 L 662, 80\"/>\n",
       "<text x=\"0\" y=\"84\" font-size=\"16\">1</text>\n",
       "<text x=\"670\" y=\"84\" font-size=\"16\">1</text>\n",
       "<path fill=\"none\" stroke=\"black\" d=\"M 42, 110 L 662, 110\"/>\n",
       "<text x=\"0\" y=\"114\" font-size=\"16\">2</text>\n",
       "<text x=\"670\" y=\"114\" font-size=\"16\">2</text>\n",
       "<path fill=\"none\" stroke=\"black\" d=\"M 82, 50 L 112, 35\"/>\n",
       "<path fill=\"none\" stroke=\"black\" d=\"M 82, 80 L 112, 35\"/>\n",
       "<circle fill=\"#CCFFCC\" stroke=\"black\" cx=\"82\" cy=\"50\" r=\"8\"/>\n",
       "<circle fill=\"#CCFFCC\" stroke=\"black\" cx=\"82\" cy=\"80\" r=\"8\"/>\n",
       "<path fill=\"none\" stroke=\"black\" d=\"M 112, 35 L 142, 35\"/>\n",
       "<circle fill=\"#FF8888\" stroke=\"black\" cx=\"112\" cy=\"35\" r=\"8\"/>\n",
       "<circle fill=\"#CCFFCC\" stroke=\"black\" cx=\"142\" cy=\"35\" r=\"8\"/>\n",
       "<text x=\"158\" y=\"39\" font-size=\"16\">π/2</text>\n",
       "<path fill=\"none\" stroke=\"black\" d=\"M 202, 50 L 232, 35\"/>\n",
       "<path fill=\"none\" stroke=\"black\" d=\"M 202, 110 L 232, 35\"/>\n",
       "<circle fill=\"#FF8888\" stroke=\"black\" cx=\"202\" cy=\"50\" r=\"8\"/>\n",
       "<circle fill=\"#FF8888\" stroke=\"black\" cx=\"202\" cy=\"110\" r=\"8\"/>\n",
       "<path fill=\"none\" stroke=\"black\" d=\"M 232, 35 L 262, 35\"/>\n",
       "<circle fill=\"#CCFFCC\" stroke=\"black\" cx=\"232\" cy=\"35\" r=\"8\"/>\n",
       "<circle fill=\"#FF8888\" stroke=\"black\" cx=\"262\" cy=\"35\" r=\"8\"/>\n",
       "<text x=\"278\" y=\"39\" font-size=\"16\">π</text>\n",
       "<path fill=\"none\" stroke=\"black\" d=\"M 322, 80 L 352, 65\"/>\n",
       "<path fill=\"none\" stroke=\"black\" d=\"M 322, 110 L 352, 65\"/>\n",
       "<circle fill=\"#FF8888\" stroke=\"black\" cx=\"322\" cy=\"80\" r=\"8\"/>\n",
       "<circle fill=\"#FF8888\" stroke=\"black\" cx=\"322\" cy=\"110\" r=\"8\"/>\n",
       "<path fill=\"none\" stroke=\"black\" d=\"M 352, 65 L 382, 65\"/>\n",
       "<circle fill=\"#CCFFCC\" stroke=\"black\" cx=\"352\" cy=\"65\" r=\"8\"/>\n",
       "<circle fill=\"#FF8888\" stroke=\"black\" cx=\"382\" cy=\"65\" r=\"8\"/>\n",
       "<text x=\"398\" y=\"69\" font-size=\"16\">7π/4</text>\n",
       "<path fill=\"none\" stroke=\"black\" d=\"M 442, 50 L 472, 35\"/>\n",
       "<path fill=\"none\" stroke=\"black\" d=\"M 442, 110 L 472, 35\"/>\n",
       "<circle fill=\"#CCFFCC\" stroke=\"black\" cx=\"442\" cy=\"50\" r=\"8\"/>\n",
       "<circle fill=\"#CCFFCC\" stroke=\"black\" cx=\"442\" cy=\"110\" r=\"8\"/>\n",
       "<path fill=\"none\" stroke=\"black\" d=\"M 472, 35 L 502, 35\"/>\n",
       "<circle fill=\"#FF8888\" stroke=\"black\" cx=\"472\" cy=\"35\" r=\"8\"/>\n",
       "<circle fill=\"#CCFFCC\" stroke=\"black\" cx=\"502\" cy=\"35\" r=\"8\"/>\n",
       "<text x=\"518\" y=\"39\" font-size=\"16\">π/4</text>\n",
       "<path fill=\"none\" stroke=\"black\" d=\"M 562, 50 L 592, 35\"/>\n",
       "<path fill=\"none\" stroke=\"black\" d=\"M 562, 80 L 592, 35\"/>\n",
       "<circle fill=\"#FF8888\" stroke=\"black\" cx=\"562\" cy=\"50\" r=\"8\"/>\n",
       "<circle fill=\"#FF8888\" stroke=\"black\" cx=\"562\" cy=\"80\" r=\"8\"/>\n",
       "<path fill=\"none\" stroke=\"black\" d=\"M 592, 35 L 622, 35\"/>\n",
       "<circle fill=\"#CCFFCC\" stroke=\"black\" cx=\"592\" cy=\"35\" r=\"8\"/>\n",
       "<circle fill=\"#FF8888\" stroke=\"black\" cx=\"622\" cy=\"35\" r=\"8\"/>\n",
       "<text x=\"638\" y=\"39\" font-size=\"16\">π/2</text>\n",
       "</svg>"
      ],
      "text/plain": [
       "<pauliopt.phase.phase_circuits.PhaseCircuit at 0x1dde3a0bd90>"
      ]
     },
     "execution_count": 16,
     "metadata": {},
     "output_type": "execute_result"
    }
   ],
   "source": [
    "phase_circuit"
   ]
  },
  {
   "cell_type": "markdown",
   "metadata": {
    "slideshow": {
     "slide_type": "subslide"
    }
   },
   "source": [
    "The default colours for the Z and X basis are `#D8F8D8` and Burning Orange `#E8A6A6` respectively, the colours indicated in [the ZX calculus accessibility page](https://zxcalculus.com/accessibility.html) and tested using this [simulator](https://www.color-blindness.com/coblis-color-blindness-simulator/) for colour-vision deficiency. \n",
    "The default colours can be overridden with the `zcolor` and `xcolor` keyword arguments of the `to_svg` method:"
   ]
  },
  {
   "cell_type": "code",
   "execution_count": 17,
   "metadata": {},
   "outputs": [
    {
     "data": {
      "image/svg+xml": [
       "<svg xmlns=\"http://www.w3.org/2000/svg\" xmlns:xlink=\"http://www.w3.org/1999/xlink\" version=\"1.1\" width=\"704\" height=\"140\"><path fill=\"none\" stroke=\"black\" d=\"M 42, 50 L 662, 50\"/>\n",
       "<text x=\"0\" y=\"54\" font-size=\"16\">0</text>\n",
       "<text x=\"670\" y=\"54\" font-size=\"16\">0</text>\n",
       "<path fill=\"none\" stroke=\"black\" d=\"M 42, 80 L 662, 80\"/>\n",
       "<text x=\"0\" y=\"84\" font-size=\"16\">1</text>\n",
       "<text x=\"670\" y=\"84\" font-size=\"16\">1</text>\n",
       "<path fill=\"none\" stroke=\"black\" d=\"M 42, 110 L 662, 110\"/>\n",
       "<text x=\"0\" y=\"114\" font-size=\"16\">2</text>\n",
       "<text x=\"670\" y=\"114\" font-size=\"16\">2</text>\n",
       "<path fill=\"none\" stroke=\"black\" d=\"M 82, 50 L 112, 35\"/>\n",
       "<path fill=\"none\" stroke=\"black\" d=\"M 82, 80 L 112, 35\"/>\n",
       "<circle fill=\"green\" stroke=\"black\" cx=\"82\" cy=\"50\" r=\"8\"/>\n",
       "<circle fill=\"green\" stroke=\"black\" cx=\"82\" cy=\"80\" r=\"8\"/>\n",
       "<path fill=\"none\" stroke=\"black\" d=\"M 112, 35 L 142, 35\"/>\n",
       "<circle fill=\"red\" stroke=\"black\" cx=\"112\" cy=\"35\" r=\"8\"/>\n",
       "<circle fill=\"green\" stroke=\"black\" cx=\"142\" cy=\"35\" r=\"8\"/>\n",
       "<text x=\"158\" y=\"39\" font-size=\"16\">π/2</text>\n",
       "<path fill=\"none\" stroke=\"black\" d=\"M 202, 50 L 232, 35\"/>\n",
       "<path fill=\"none\" stroke=\"black\" d=\"M 202, 110 L 232, 35\"/>\n",
       "<circle fill=\"red\" stroke=\"black\" cx=\"202\" cy=\"50\" r=\"8\"/>\n",
       "<circle fill=\"red\" stroke=\"black\" cx=\"202\" cy=\"110\" r=\"8\"/>\n",
       "<path fill=\"none\" stroke=\"black\" d=\"M 232, 35 L 262, 35\"/>\n",
       "<circle fill=\"green\" stroke=\"black\" cx=\"232\" cy=\"35\" r=\"8\"/>\n",
       "<circle fill=\"red\" stroke=\"black\" cx=\"262\" cy=\"35\" r=\"8\"/>\n",
       "<text x=\"278\" y=\"39\" font-size=\"16\">π</text>\n",
       "<path fill=\"none\" stroke=\"black\" d=\"M 322, 80 L 352, 65\"/>\n",
       "<path fill=\"none\" stroke=\"black\" d=\"M 322, 110 L 352, 65\"/>\n",
       "<circle fill=\"red\" stroke=\"black\" cx=\"322\" cy=\"80\" r=\"8\"/>\n",
       "<circle fill=\"red\" stroke=\"black\" cx=\"322\" cy=\"110\" r=\"8\"/>\n",
       "<path fill=\"none\" stroke=\"black\" d=\"M 352, 65 L 382, 65\"/>\n",
       "<circle fill=\"green\" stroke=\"black\" cx=\"352\" cy=\"65\" r=\"8\"/>\n",
       "<circle fill=\"red\" stroke=\"black\" cx=\"382\" cy=\"65\" r=\"8\"/>\n",
       "<text x=\"398\" y=\"69\" font-size=\"16\">7π/4</text>\n",
       "<path fill=\"none\" stroke=\"black\" d=\"M 442, 50 L 472, 35\"/>\n",
       "<path fill=\"none\" stroke=\"black\" d=\"M 442, 110 L 472, 35\"/>\n",
       "<circle fill=\"green\" stroke=\"black\" cx=\"442\" cy=\"50\" r=\"8\"/>\n",
       "<circle fill=\"green\" stroke=\"black\" cx=\"442\" cy=\"110\" r=\"8\"/>\n",
       "<path fill=\"none\" stroke=\"black\" d=\"M 472, 35 L 502, 35\"/>\n",
       "<circle fill=\"red\" stroke=\"black\" cx=\"472\" cy=\"35\" r=\"8\"/>\n",
       "<circle fill=\"green\" stroke=\"black\" cx=\"502\" cy=\"35\" r=\"8\"/>\n",
       "<text x=\"518\" y=\"39\" font-size=\"16\">π/4</text>\n",
       "<path fill=\"none\" stroke=\"black\" d=\"M 562, 50 L 592, 35\"/>\n",
       "<path fill=\"none\" stroke=\"black\" d=\"M 562, 80 L 592, 35\"/>\n",
       "<circle fill=\"red\" stroke=\"black\" cx=\"562\" cy=\"50\" r=\"8\"/>\n",
       "<circle fill=\"red\" stroke=\"black\" cx=\"562\" cy=\"80\" r=\"8\"/>\n",
       "<path fill=\"none\" stroke=\"black\" d=\"M 592, 35 L 622, 35\"/>\n",
       "<circle fill=\"green\" stroke=\"black\" cx=\"592\" cy=\"35\" r=\"8\"/>\n",
       "<circle fill=\"red\" stroke=\"black\" cx=\"622\" cy=\"35\" r=\"8\"/>\n",
       "<text x=\"638\" y=\"39\" font-size=\"16\">π/2</text>\n",
       "</svg>"
      ],
      "text/plain": [
       "<IPython.core.display.SVG object>"
      ]
     },
     "execution_count": 17,
     "metadata": {},
     "output_type": "execute_result"
    }
   ],
   "source": [
    "phase_circuit.to_svg(zcolor=\"green\", xcolor=\"red\")"
   ]
  },
  {
   "cell_type": "markdown",
   "metadata": {
    "slideshow": {
     "slide_type": "subslide"
    }
   },
   "source": [
    "The `to_svg` method also accepts keyword arguments `hscale` and `vscale` which can be used to scale the circuit horizontally and vertically:"
   ]
  },
  {
   "cell_type": "code",
   "execution_count": 18,
   "metadata": {},
   "outputs": [
    {
     "data": {
      "image/svg+xml": [
       "<svg xmlns=\"http://www.w3.org/2000/svg\" xmlns:xlink=\"http://www.w3.org/1999/xlink\" version=\"1.1\" width=\"704\" height=\"140\"><path fill=\"none\" stroke=\"black\" d=\"M 42, 50 L 662, 50\"/>\n",
       "<text x=\"0\" y=\"54\" font-size=\"16\">0</text>\n",
       "<text x=\"670\" y=\"54\" font-size=\"16\">0</text>\n",
       "<path fill=\"none\" stroke=\"black\" d=\"M 42, 80 L 662, 80\"/>\n",
       "<text x=\"0\" y=\"84\" font-size=\"16\">1</text>\n",
       "<text x=\"670\" y=\"84\" font-size=\"16\">1</text>\n",
       "<path fill=\"none\" stroke=\"black\" d=\"M 42, 110 L 662, 110\"/>\n",
       "<text x=\"0\" y=\"114\" font-size=\"16\">2</text>\n",
       "<text x=\"670\" y=\"114\" font-size=\"16\">2</text>\n",
       "<path fill=\"none\" stroke=\"black\" d=\"M 82, 50 L 112, 35\"/>\n",
       "<path fill=\"none\" stroke=\"black\" d=\"M 82, 80 L 112, 35\"/>\n",
       "<circle fill=\"#CCFFCC\" stroke=\"black\" cx=\"82\" cy=\"50\" r=\"8\"/>\n",
       "<circle fill=\"#CCFFCC\" stroke=\"black\" cx=\"82\" cy=\"80\" r=\"8\"/>\n",
       "<path fill=\"none\" stroke=\"black\" d=\"M 112, 35 L 142, 35\"/>\n",
       "<circle fill=\"#FF8888\" stroke=\"black\" cx=\"112\" cy=\"35\" r=\"8\"/>\n",
       "<circle fill=\"#CCFFCC\" stroke=\"black\" cx=\"142\" cy=\"35\" r=\"8\"/>\n",
       "<text x=\"158\" y=\"39\" font-size=\"16\">π/2</text>\n",
       "<path fill=\"none\" stroke=\"black\" d=\"M 202, 50 L 232, 35\"/>\n",
       "<path fill=\"none\" stroke=\"black\" d=\"M 202, 110 L 232, 35\"/>\n",
       "<circle fill=\"#FF8888\" stroke=\"black\" cx=\"202\" cy=\"50\" r=\"8\"/>\n",
       "<circle fill=\"#FF8888\" stroke=\"black\" cx=\"202\" cy=\"110\" r=\"8\"/>\n",
       "<path fill=\"none\" stroke=\"black\" d=\"M 232, 35 L 262, 35\"/>\n",
       "<circle fill=\"#CCFFCC\" stroke=\"black\" cx=\"232\" cy=\"35\" r=\"8\"/>\n",
       "<circle fill=\"#FF8888\" stroke=\"black\" cx=\"262\" cy=\"35\" r=\"8\"/>\n",
       "<text x=\"278\" y=\"39\" font-size=\"16\">π</text>\n",
       "<path fill=\"none\" stroke=\"black\" d=\"M 322, 80 L 352, 65\"/>\n",
       "<path fill=\"none\" stroke=\"black\" d=\"M 322, 110 L 352, 65\"/>\n",
       "<circle fill=\"#FF8888\" stroke=\"black\" cx=\"322\" cy=\"80\" r=\"8\"/>\n",
       "<circle fill=\"#FF8888\" stroke=\"black\" cx=\"322\" cy=\"110\" r=\"8\"/>\n",
       "<path fill=\"none\" stroke=\"black\" d=\"M 352, 65 L 382, 65\"/>\n",
       "<circle fill=\"#CCFFCC\" stroke=\"black\" cx=\"352\" cy=\"65\" r=\"8\"/>\n",
       "<circle fill=\"#FF8888\" stroke=\"black\" cx=\"382\" cy=\"65\" r=\"8\"/>\n",
       "<text x=\"398\" y=\"69\" font-size=\"16\">7π/4</text>\n",
       "<path fill=\"none\" stroke=\"black\" d=\"M 442, 50 L 472, 35\"/>\n",
       "<path fill=\"none\" stroke=\"black\" d=\"M 442, 110 L 472, 35\"/>\n",
       "<circle fill=\"#CCFFCC\" stroke=\"black\" cx=\"442\" cy=\"50\" r=\"8\"/>\n",
       "<circle fill=\"#CCFFCC\" stroke=\"black\" cx=\"442\" cy=\"110\" r=\"8\"/>\n",
       "<path fill=\"none\" stroke=\"black\" d=\"M 472, 35 L 502, 35\"/>\n",
       "<circle fill=\"#FF8888\" stroke=\"black\" cx=\"472\" cy=\"35\" r=\"8\"/>\n",
       "<circle fill=\"#CCFFCC\" stroke=\"black\" cx=\"502\" cy=\"35\" r=\"8\"/>\n",
       "<text x=\"518\" y=\"39\" font-size=\"16\">π/4</text>\n",
       "<path fill=\"none\" stroke=\"black\" d=\"M 562, 50 L 592, 35\"/>\n",
       "<path fill=\"none\" stroke=\"black\" d=\"M 562, 80 L 592, 35\"/>\n",
       "<circle fill=\"#FF8888\" stroke=\"black\" cx=\"562\" cy=\"50\" r=\"8\"/>\n",
       "<circle fill=\"#FF8888\" stroke=\"black\" cx=\"562\" cy=\"80\" r=\"8\"/>\n",
       "<path fill=\"none\" stroke=\"black\" d=\"M 592, 35 L 622, 35\"/>\n",
       "<circle fill=\"#CCFFCC\" stroke=\"black\" cx=\"592\" cy=\"35\" r=\"8\"/>\n",
       "<circle fill=\"#FF8888\" stroke=\"black\" cx=\"622\" cy=\"35\" r=\"8\"/>\n",
       "<text x=\"638\" y=\"39\" font-size=\"16\">π/2</text>\n",
       "</svg>"
      ],
      "text/plain": [
       "<IPython.core.display.SVG object>"
      ]
     },
     "metadata": {},
     "output_type": "display_data"
    },
    {
     "data": {
      "image/svg+xml": [
       "<svg xmlns=\"http://www.w3.org/2000/svg\" xmlns:xlink=\"http://www.w3.org/1999/xlink\" version=\"1.1\" width=\"824\" height=\"126\"><path fill=\"none\" stroke=\"black\" d=\"M 40, 45 L 784, 45\"/>\n",
       "<text x=\"0\" y=\"48\" font-size=\"14\">0</text>\n",
       "<text x=\"791\" y=\"48\" font-size=\"14\">0</text>\n",
       "<path fill=\"none\" stroke=\"black\" d=\"M 40, 72 L 784, 72\"/>\n",
       "<text x=\"0\" y=\"75\" font-size=\"14\">1</text>\n",
       "<text x=\"791\" y=\"75\" font-size=\"14\">1</text>\n",
       "<path fill=\"none\" stroke=\"black\" d=\"M 40, 99 L 784, 99\"/>\n",
       "<text x=\"0\" y=\"102\" font-size=\"14\">2</text>\n",
       "<text x=\"791\" y=\"102\" font-size=\"14\">2</text>\n",
       "<path fill=\"none\" stroke=\"black\" d=\"M 88, 45 L 124, 31\"/>\n",
       "<path fill=\"none\" stroke=\"black\" d=\"M 88, 72 L 124, 31\"/>\n",
       "<circle fill=\"#CCFFCC\" stroke=\"black\" cx=\"88\" cy=\"45\" r=\"7\"/>\n",
       "<circle fill=\"#CCFFCC\" stroke=\"black\" cx=\"88\" cy=\"72\" r=\"7\"/>\n",
       "<path fill=\"none\" stroke=\"black\" d=\"M 124, 31 L 160, 31\"/>\n",
       "<circle fill=\"#FF8888\" stroke=\"black\" cx=\"124\" cy=\"31\" r=\"7\"/>\n",
       "<circle fill=\"#CCFFCC\" stroke=\"black\" cx=\"160\" cy=\"31\" r=\"7\"/>\n",
       "<text x=\"174\" y=\"34\" font-size=\"14\">π/2</text>\n",
       "<path fill=\"none\" stroke=\"black\" d=\"M 232, 45 L 268, 31\"/>\n",
       "<path fill=\"none\" stroke=\"black\" d=\"M 232, 99 L 268, 31\"/>\n",
       "<circle fill=\"#FF8888\" stroke=\"black\" cx=\"232\" cy=\"45\" r=\"7\"/>\n",
       "<circle fill=\"#FF8888\" stroke=\"black\" cx=\"232\" cy=\"99\" r=\"7\"/>\n",
       "<path fill=\"none\" stroke=\"black\" d=\"M 268, 31 L 304, 31\"/>\n",
       "<circle fill=\"#CCFFCC\" stroke=\"black\" cx=\"268\" cy=\"31\" r=\"7\"/>\n",
       "<circle fill=\"#FF8888\" stroke=\"black\" cx=\"304\" cy=\"31\" r=\"7\"/>\n",
       "<text x=\"318\" y=\"34\" font-size=\"14\">π</text>\n",
       "<path fill=\"none\" stroke=\"black\" d=\"M 376, 72 L 412, 58\"/>\n",
       "<path fill=\"none\" stroke=\"black\" d=\"M 376, 99 L 412, 58\"/>\n",
       "<circle fill=\"#FF8888\" stroke=\"black\" cx=\"376\" cy=\"72\" r=\"7\"/>\n",
       "<circle fill=\"#FF8888\" stroke=\"black\" cx=\"376\" cy=\"99\" r=\"7\"/>\n",
       "<path fill=\"none\" stroke=\"black\" d=\"M 412, 58 L 448, 58\"/>\n",
       "<circle fill=\"#CCFFCC\" stroke=\"black\" cx=\"412\" cy=\"58\" r=\"7\"/>\n",
       "<circle fill=\"#FF8888\" stroke=\"black\" cx=\"448\" cy=\"58\" r=\"7\"/>\n",
       "<text x=\"462\" y=\"61\" font-size=\"14\">7π/4</text>\n",
       "<path fill=\"none\" stroke=\"black\" d=\"M 520, 45 L 556, 31\"/>\n",
       "<path fill=\"none\" stroke=\"black\" d=\"M 520, 99 L 556, 31\"/>\n",
       "<circle fill=\"#CCFFCC\" stroke=\"black\" cx=\"520\" cy=\"45\" r=\"7\"/>\n",
       "<circle fill=\"#CCFFCC\" stroke=\"black\" cx=\"520\" cy=\"99\" r=\"7\"/>\n",
       "<path fill=\"none\" stroke=\"black\" d=\"M 556, 31 L 592, 31\"/>\n",
       "<circle fill=\"#FF8888\" stroke=\"black\" cx=\"556\" cy=\"31\" r=\"7\"/>\n",
       "<circle fill=\"#CCFFCC\" stroke=\"black\" cx=\"592\" cy=\"31\" r=\"7\"/>\n",
       "<text x=\"606\" y=\"34\" font-size=\"14\">π/4</text>\n",
       "<path fill=\"none\" stroke=\"black\" d=\"M 664, 45 L 700, 31\"/>\n",
       "<path fill=\"none\" stroke=\"black\" d=\"M 664, 72 L 700, 31\"/>\n",
       "<circle fill=\"#FF8888\" stroke=\"black\" cx=\"664\" cy=\"45\" r=\"7\"/>\n",
       "<circle fill=\"#FF8888\" stroke=\"black\" cx=\"664\" cy=\"72\" r=\"7\"/>\n",
       "<path fill=\"none\" stroke=\"black\" d=\"M 700, 31 L 736, 31\"/>\n",
       "<circle fill=\"#CCFFCC\" stroke=\"black\" cx=\"700\" cy=\"31\" r=\"7\"/>\n",
       "<circle fill=\"#FF8888\" stroke=\"black\" cx=\"736\" cy=\"31\" r=\"7\"/>\n",
       "<text x=\"750\" y=\"34\" font-size=\"14\">π/2</text>\n",
       "</svg>"
      ],
      "text/plain": [
       "<IPython.core.display.SVG object>"
      ]
     },
     "metadata": {},
     "output_type": "display_data"
    }
   ],
   "source": [
    "display(phase_circuit.to_svg())\n",
    "display(phase_circuit.to_svg(hscale=1.2, vscale=0.9))"
   ]
  },
  {
   "cell_type": "markdown",
   "metadata": {
    "slideshow": {
     "slide_type": "slide"
    }
   },
   "source": [
    "## Random Circuits\n",
    "\n",
    "The static method `PhaseCircuit.random(num_qubits, num_gadgets, **kwargs)` can be used to construct random circuits of mixed ZX phase gadgets. The allowed keyword arguments are:\n",
    "\n",
    "- `angle_subdivision` which sets the denominator for random multiples of $\\pi$ to be used as angles (default is 4, yielding 8 uniformly distributed angle values);\n",
    "- `min_legs` which optionally sets the minimum number of legs for the phase gadgets (default is `None`, minimum is 1);\n",
    "- `max_legs` which optionally sets the maximum number of legs for the phase gadgets (default is `None`, minimum is the value of `min_legs`);\n",
    "- `rng_seed` which optionally sets the seed for the random number generator (default is `None`, for unseeded random number generator).\n",
    "- `parametric` which optionally sets the gadget angles to be distinct angle variables, with name derived from the string passed to it."
   ]
  },
  {
   "cell_type": "code",
   "execution_count": 19,
   "metadata": {
    "scrolled": false,
    "slideshow": {
     "slide_type": "subslide"
    }
   },
   "outputs": [
    {
     "data": {
      "image/svg+xml": [
       "<?xml version=\"1.0\" encoding=\"utf-8\"?>\n",
       "<!DOCTYPE svg PUBLIC \"-//W3C//DTD SVG 1.1//EN\" \"http://www.w3.org/Graphics/SVG/1.1/DTD/svg11.dtd\">\n",
       "<svg version=\"1.1\" xmlns=\"http://www.w3.org/2000/svg\" xmlns:xlink=\"http://www.w3.org/1999/xlink\" width=\"824\" height=\"230\"><path fill=\"none\" stroke=\"black\" d=\"M 42, 50 L 782, 50\"/>\n",
       "<text x=\"0\" y=\"54\" font-size=\"16\">0</text>\n",
       "<text x=\"790\" y=\"54\" font-size=\"16\">0</text>\n",
       "<path fill=\"none\" stroke=\"black\" d=\"M 42, 80 L 782, 80\"/>\n",
       "<text x=\"0\" y=\"84\" font-size=\"16\">1</text>\n",
       "<text x=\"790\" y=\"84\" font-size=\"16\">1</text>\n",
       "<path fill=\"none\" stroke=\"black\" d=\"M 42, 110 L 782, 110\"/>\n",
       "<text x=\"0\" y=\"114\" font-size=\"16\">2</text>\n",
       "<text x=\"790\" y=\"114\" font-size=\"16\">2</text>\n",
       "<path fill=\"none\" stroke=\"black\" d=\"M 42, 140 L 782, 140\"/>\n",
       "<text x=\"0\" y=\"144\" font-size=\"16\">3</text>\n",
       "<text x=\"790\" y=\"144\" font-size=\"16\">3</text>\n",
       "<path fill=\"none\" stroke=\"black\" d=\"M 42, 170 L 782, 170\"/>\n",
       "<text x=\"0\" y=\"174\" font-size=\"16\">4</text>\n",
       "<text x=\"790\" y=\"174\" font-size=\"16\">4</text>\n",
       "<path fill=\"none\" stroke=\"black\" d=\"M 42, 200 L 782, 200\"/>\n",
       "<text x=\"0\" y=\"204\" font-size=\"16\">5</text>\n",
       "<text x=\"790\" y=\"204\" font-size=\"16\">5</text>\n",
       "<path fill=\"none\" stroke=\"black\" d=\"M 82, 50 L 112, 35\"/>\n",
       "<path fill=\"none\" stroke=\"black\" d=\"M 82, 110 L 112, 35\"/>\n",
       "<circle fill=\"#FF8888\" stroke=\"black\" cx=\"82\" cy=\"50\" r=\"8\"/>\n",
       "<circle fill=\"#FF8888\" stroke=\"black\" cx=\"82\" cy=\"110\" r=\"8\"/>\n",
       "<path fill=\"none\" stroke=\"black\" d=\"M 112, 35 L 142, 35\"/>\n",
       "<circle fill=\"#CCFFCC\" stroke=\"black\" cx=\"112\" cy=\"35\" r=\"8\"/>\n",
       "<circle fill=\"#FF8888\" stroke=\"black\" cx=\"142\" cy=\"35\" r=\"8\"/>\n",
       "<text x=\"158\" y=\"39\" font-size=\"16\">7π/8</text>\n",
       "<path fill=\"none\" stroke=\"black\" d=\"M 202, 50 L 232, 35\"/>\n",
       "<path fill=\"none\" stroke=\"black\" d=\"M 202, 140 L 232, 35\"/>\n",
       "<path fill=\"none\" stroke=\"black\" d=\"M 202, 170 L 232, 35\"/>\n",
       "<path fill=\"none\" stroke=\"black\" d=\"M 202, 200 L 232, 35\"/>\n",
       "<circle fill=\"#FF8888\" stroke=\"black\" cx=\"202\" cy=\"50\" r=\"8\"/>\n",
       "<circle fill=\"#FF8888\" stroke=\"black\" cx=\"202\" cy=\"140\" r=\"8\"/>\n",
       "<circle fill=\"#FF8888\" stroke=\"black\" cx=\"202\" cy=\"170\" r=\"8\"/>\n",
       "<circle fill=\"#FF8888\" stroke=\"black\" cx=\"202\" cy=\"200\" r=\"8\"/>\n",
       "<path fill=\"none\" stroke=\"black\" d=\"M 232, 35 L 262, 35\"/>\n",
       "<circle fill=\"#CCFFCC\" stroke=\"black\" cx=\"232\" cy=\"35\" r=\"8\"/>\n",
       "<circle fill=\"#FF8888\" stroke=\"black\" cx=\"262\" cy=\"35\" r=\"8\"/>\n",
       "<text x=\"278\" y=\"39\" font-size=\"16\">5π/8</text>\n",
       "<path fill=\"none\" stroke=\"black\" d=\"M 322, 80 L 352, 65\"/>\n",
       "<path fill=\"none\" stroke=\"black\" d=\"M 322, 200 L 352, 65\"/>\n",
       "<circle fill=\"#FF8888\" stroke=\"black\" cx=\"322\" cy=\"80\" r=\"8\"/>\n",
       "<circle fill=\"#FF8888\" stroke=\"black\" cx=\"322\" cy=\"200\" r=\"8\"/>\n",
       "<path fill=\"none\" stroke=\"black\" d=\"M 352, 65 L 382, 65\"/>\n",
       "<circle fill=\"#CCFFCC\" stroke=\"black\" cx=\"352\" cy=\"65\" r=\"8\"/>\n",
       "<circle fill=\"#FF8888\" stroke=\"black\" cx=\"382\" cy=\"65\" r=\"8\"/>\n",
       "<text x=\"398\" y=\"69\" font-size=\"16\">5π/8</text>\n",
       "<path fill=\"none\" stroke=\"black\" d=\"M 442, 80 L 472, 65\"/>\n",
       "<path fill=\"none\" stroke=\"black\" d=\"M 442, 200 L 472, 65\"/>\n",
       "<circle fill=\"#FF8888\" stroke=\"black\" cx=\"442\" cy=\"80\" r=\"8\"/>\n",
       "<circle fill=\"#FF8888\" stroke=\"black\" cx=\"442\" cy=\"200\" r=\"8\"/>\n",
       "<path fill=\"none\" stroke=\"black\" d=\"M 472, 65 L 502, 65\"/>\n",
       "<circle fill=\"#CCFFCC\" stroke=\"black\" cx=\"472\" cy=\"65\" r=\"8\"/>\n",
       "<circle fill=\"#FF8888\" stroke=\"black\" cx=\"502\" cy=\"65\" r=\"8\"/>\n",
       "<text x=\"518\" y=\"69\" font-size=\"16\">π/8</text>\n",
       "<path fill=\"none\" stroke=\"black\" d=\"M 562, 140 L 592, 125\"/>\n",
       "<path fill=\"none\" stroke=\"black\" d=\"M 562, 170 L 592, 125\"/>\n",
       "<path fill=\"none\" stroke=\"black\" d=\"M 562, 200 L 592, 125\"/>\n",
       "<circle fill=\"#FF8888\" stroke=\"black\" cx=\"562\" cy=\"140\" r=\"8\"/>\n",
       "<circle fill=\"#FF8888\" stroke=\"black\" cx=\"562\" cy=\"170\" r=\"8\"/>\n",
       "<circle fill=\"#FF8888\" stroke=\"black\" cx=\"562\" cy=\"200\" r=\"8\"/>\n",
       "<path fill=\"none\" stroke=\"black\" d=\"M 592, 125 L 622, 125\"/>\n",
       "<circle fill=\"#CCFFCC\" stroke=\"black\" cx=\"592\" cy=\"125\" r=\"8\"/>\n",
       "<circle fill=\"#FF8888\" stroke=\"black\" cx=\"622\" cy=\"125\" r=\"8\"/>\n",
       "<text x=\"638\" y=\"129\" font-size=\"16\">5π/4</text>\n",
       "<path fill=\"none\" stroke=\"black\" d=\"M 682, 110 L 712, 95\"/>\n",
       "<path fill=\"none\" stroke=\"black\" d=\"M 682, 140 L 712, 95\"/>\n",
       "<path fill=\"none\" stroke=\"black\" d=\"M 682, 170 L 712, 95\"/>\n",
       "<circle fill=\"#CCFFCC\" stroke=\"black\" cx=\"682\" cy=\"110\" r=\"8\"/>\n",
       "<circle fill=\"#CCFFCC\" stroke=\"black\" cx=\"682\" cy=\"140\" r=\"8\"/>\n",
       "<circle fill=\"#CCFFCC\" stroke=\"black\" cx=\"682\" cy=\"170\" r=\"8\"/>\n",
       "<path fill=\"none\" stroke=\"black\" d=\"M 712, 95 L 742, 95\"/>\n",
       "<circle fill=\"#FF8888\" stroke=\"black\" cx=\"712\" cy=\"95\" r=\"8\"/>\n",
       "<circle fill=\"#CCFFCC\" stroke=\"black\" cx=\"742\" cy=\"95\" r=\"8\"/>\n",
       "<text x=\"758\" y=\"99\" font-size=\"16\">π/8</text>\n",
       "</svg>"
      ],
      "text/plain": [
       "<pauliopt.phase.phase_circuits.PhaseCircuit at 0x1dde3a11460>"
      ]
     },
     "execution_count": 19,
     "metadata": {},
     "output_type": "execute_result"
    }
   ],
   "source": [
    "PhaseCircuit.random(6, 6, angle_subdivision=8,\n",
    "                    min_legs=2, max_legs=4, rng_seed=5)"
   ]
  },
  {
   "cell_type": "code",
   "execution_count": 20,
   "metadata": {
    "slideshow": {
     "slide_type": "subslide"
    }
   },
   "outputs": [
    {
     "data": {
      "image/svg+xml": [
       "<?xml version=\"1.0\" encoding=\"utf-8\"?>\n",
       "<!DOCTYPE svg PUBLIC \"-//W3C//DTD SVG 1.1//EN\" \"http://www.w3.org/Graphics/SVG/1.1/DTD/svg11.dtd\">\n",
       "<svg version=\"1.1\" xmlns=\"http://www.w3.org/2000/svg\" xmlns:xlink=\"http://www.w3.org/1999/xlink\" width=\"824\" height=\"230\"><path fill=\"none\" stroke=\"black\" d=\"M 42, 50 L 782, 50\"/>\n",
       "<text x=\"0\" y=\"54\" font-size=\"16\">0</text>\n",
       "<text x=\"790\" y=\"54\" font-size=\"16\">0</text>\n",
       "<path fill=\"none\" stroke=\"black\" d=\"M 42, 80 L 782, 80\"/>\n",
       "<text x=\"0\" y=\"84\" font-size=\"16\">1</text>\n",
       "<text x=\"790\" y=\"84\" font-size=\"16\">1</text>\n",
       "<path fill=\"none\" stroke=\"black\" d=\"M 42, 110 L 782, 110\"/>\n",
       "<text x=\"0\" y=\"114\" font-size=\"16\">2</text>\n",
       "<text x=\"790\" y=\"114\" font-size=\"16\">2</text>\n",
       "<path fill=\"none\" stroke=\"black\" d=\"M 42, 140 L 782, 140\"/>\n",
       "<text x=\"0\" y=\"144\" font-size=\"16\">3</text>\n",
       "<text x=\"790\" y=\"144\" font-size=\"16\">3</text>\n",
       "<path fill=\"none\" stroke=\"black\" d=\"M 42, 170 L 782, 170\"/>\n",
       "<text x=\"0\" y=\"174\" font-size=\"16\">4</text>\n",
       "<text x=\"790\" y=\"174\" font-size=\"16\">4</text>\n",
       "<path fill=\"none\" stroke=\"black\" d=\"M 42, 200 L 782, 200\"/>\n",
       "<text x=\"0\" y=\"204\" font-size=\"16\">5</text>\n",
       "<text x=\"790\" y=\"204\" font-size=\"16\">5</text>\n",
       "<path fill=\"none\" stroke=\"black\" d=\"M 82, 50 L 112, 35\"/>\n",
       "<path fill=\"none\" stroke=\"black\" d=\"M 82, 110 L 112, 35\"/>\n",
       "<circle fill=\"#FF8888\" stroke=\"black\" cx=\"82\" cy=\"50\" r=\"8\"/>\n",
       "<circle fill=\"#FF8888\" stroke=\"black\" cx=\"82\" cy=\"110\" r=\"8\"/>\n",
       "<path fill=\"none\" stroke=\"black\" d=\"M 112, 35 L 142, 35\"/>\n",
       "<circle fill=\"#CCFFCC\" stroke=\"black\" cx=\"112\" cy=\"35\" r=\"8\"/>\n",
       "<circle fill=\"#FF8888\" stroke=\"black\" cx=\"142\" cy=\"35\" r=\"8\"/>\n",
       "<text x=\"158\" y=\"39\" font-size=\"16\">θ[0]</text>\n",
       "<path fill=\"none\" stroke=\"black\" d=\"M 202, 50 L 232, 35\"/>\n",
       "<path fill=\"none\" stroke=\"black\" d=\"M 202, 140 L 232, 35\"/>\n",
       "<path fill=\"none\" stroke=\"black\" d=\"M 202, 170 L 232, 35\"/>\n",
       "<path fill=\"none\" stroke=\"black\" d=\"M 202, 200 L 232, 35\"/>\n",
       "<circle fill=\"#FF8888\" stroke=\"black\" cx=\"202\" cy=\"50\" r=\"8\"/>\n",
       "<circle fill=\"#FF8888\" stroke=\"black\" cx=\"202\" cy=\"140\" r=\"8\"/>\n",
       "<circle fill=\"#FF8888\" stroke=\"black\" cx=\"202\" cy=\"170\" r=\"8\"/>\n",
       "<circle fill=\"#FF8888\" stroke=\"black\" cx=\"202\" cy=\"200\" r=\"8\"/>\n",
       "<path fill=\"none\" stroke=\"black\" d=\"M 232, 35 L 262, 35\"/>\n",
       "<circle fill=\"#CCFFCC\" stroke=\"black\" cx=\"232\" cy=\"35\" r=\"8\"/>\n",
       "<circle fill=\"#FF8888\" stroke=\"black\" cx=\"262\" cy=\"35\" r=\"8\"/>\n",
       "<text x=\"278\" y=\"39\" font-size=\"16\">θ[1]</text>\n",
       "<path fill=\"none\" stroke=\"black\" d=\"M 322, 80 L 352, 65\"/>\n",
       "<path fill=\"none\" stroke=\"black\" d=\"M 322, 200 L 352, 65\"/>\n",
       "<circle fill=\"#FF8888\" stroke=\"black\" cx=\"322\" cy=\"80\" r=\"8\"/>\n",
       "<circle fill=\"#FF8888\" stroke=\"black\" cx=\"322\" cy=\"200\" r=\"8\"/>\n",
       "<path fill=\"none\" stroke=\"black\" d=\"M 352, 65 L 382, 65\"/>\n",
       "<circle fill=\"#CCFFCC\" stroke=\"black\" cx=\"352\" cy=\"65\" r=\"8\"/>\n",
       "<circle fill=\"#FF8888\" stroke=\"black\" cx=\"382\" cy=\"65\" r=\"8\"/>\n",
       "<text x=\"398\" y=\"69\" font-size=\"16\">θ[2]</text>\n",
       "<path fill=\"none\" stroke=\"black\" d=\"M 442, 80 L 472, 65\"/>\n",
       "<path fill=\"none\" stroke=\"black\" d=\"M 442, 200 L 472, 65\"/>\n",
       "<circle fill=\"#FF8888\" stroke=\"black\" cx=\"442\" cy=\"80\" r=\"8\"/>\n",
       "<circle fill=\"#FF8888\" stroke=\"black\" cx=\"442\" cy=\"200\" r=\"8\"/>\n",
       "<path fill=\"none\" stroke=\"black\" d=\"M 472, 65 L 502, 65\"/>\n",
       "<circle fill=\"#CCFFCC\" stroke=\"black\" cx=\"472\" cy=\"65\" r=\"8\"/>\n",
       "<circle fill=\"#FF8888\" stroke=\"black\" cx=\"502\" cy=\"65\" r=\"8\"/>\n",
       "<text x=\"518\" y=\"69\" font-size=\"16\">θ[3]</text>\n",
       "<path fill=\"none\" stroke=\"black\" d=\"M 562, 140 L 592, 125\"/>\n",
       "<path fill=\"none\" stroke=\"black\" d=\"M 562, 170 L 592, 125\"/>\n",
       "<path fill=\"none\" stroke=\"black\" d=\"M 562, 200 L 592, 125\"/>\n",
       "<circle fill=\"#FF8888\" stroke=\"black\" cx=\"562\" cy=\"140\" r=\"8\"/>\n",
       "<circle fill=\"#FF8888\" stroke=\"black\" cx=\"562\" cy=\"170\" r=\"8\"/>\n",
       "<circle fill=\"#FF8888\" stroke=\"black\" cx=\"562\" cy=\"200\" r=\"8\"/>\n",
       "<path fill=\"none\" stroke=\"black\" d=\"M 592, 125 L 622, 125\"/>\n",
       "<circle fill=\"#CCFFCC\" stroke=\"black\" cx=\"592\" cy=\"125\" r=\"8\"/>\n",
       "<circle fill=\"#FF8888\" stroke=\"black\" cx=\"622\" cy=\"125\" r=\"8\"/>\n",
       "<text x=\"638\" y=\"129\" font-size=\"16\">θ[4]</text>\n",
       "<path fill=\"none\" stroke=\"black\" d=\"M 682, 110 L 712, 95\"/>\n",
       "<path fill=\"none\" stroke=\"black\" d=\"M 682, 140 L 712, 95\"/>\n",
       "<path fill=\"none\" stroke=\"black\" d=\"M 682, 170 L 712, 95\"/>\n",
       "<circle fill=\"#CCFFCC\" stroke=\"black\" cx=\"682\" cy=\"110\" r=\"8\"/>\n",
       "<circle fill=\"#CCFFCC\" stroke=\"black\" cx=\"682\" cy=\"140\" r=\"8\"/>\n",
       "<circle fill=\"#CCFFCC\" stroke=\"black\" cx=\"682\" cy=\"170\" r=\"8\"/>\n",
       "<path fill=\"none\" stroke=\"black\" d=\"M 712, 95 L 742, 95\"/>\n",
       "<circle fill=\"#FF8888\" stroke=\"black\" cx=\"712\" cy=\"95\" r=\"8\"/>\n",
       "<circle fill=\"#CCFFCC\" stroke=\"black\" cx=\"742\" cy=\"95\" r=\"8\"/>\n",
       "<text x=\"758\" y=\"99\" font-size=\"16\">θ[5]</text>\n",
       "</svg>"
      ],
      "text/plain": [
       "<pauliopt.phase.phase_circuits.PhaseCircuit at 0x1dde3a359d0>"
      ]
     },
     "execution_count": 20,
     "metadata": {},
     "output_type": "execute_result"
    }
   ],
   "source": [
    "PhaseCircuit.random(6, 6, parametric=\"θ\",\n",
    "                    min_legs=2, max_legs=4, rng_seed=5)"
   ]
  },
  {
   "cell_type": "markdown",
   "metadata": {
    "slideshow": {
     "slide_type": "subslide"
    }
   },
   "source": [
    "The `AngleVar` class from `pauliopt.utils` can be used to create angle variables with given name."
   ]
  },
  {
   "cell_type": "code",
   "execution_count": 27,
   "metadata": {},
   "outputs": [
    {
     "data": {
      "image/svg+xml": [
       "<?xml version=\"1.0\" encoding=\"utf-8\"?>\n",
       "<!DOCTYPE svg PUBLIC \"-//W3C//DTD SVG 1.1//EN\" \"http://www.w3.org/Graphics/SVG/1.1/DTD/svg11.dtd\">\n",
       "<svg version=\"1.1\" xmlns=\"http://www.w3.org/2000/svg\" xmlns:xlink=\"http://www.w3.org/1999/xlink\" width=\"824\" height=\"230\"><path fill=\"none\" stroke=\"black\" d=\"M 42, 50 L 782, 50\"/>\n",
       "<text x=\"0\" y=\"54\" font-size=\"16\">0</text>\n",
       "<text x=\"790\" y=\"54\" font-size=\"16\">0</text>\n",
       "<path fill=\"none\" stroke=\"black\" d=\"M 42, 80 L 782, 80\"/>\n",
       "<text x=\"0\" y=\"84\" font-size=\"16\">1</text>\n",
       "<text x=\"790\" y=\"84\" font-size=\"16\">1</text>\n",
       "<path fill=\"none\" stroke=\"black\" d=\"M 42, 110 L 782, 110\"/>\n",
       "<text x=\"0\" y=\"114\" font-size=\"16\">2</text>\n",
       "<text x=\"790\" y=\"114\" font-size=\"16\">2</text>\n",
       "<path fill=\"none\" stroke=\"black\" d=\"M 42, 140 L 782, 140\"/>\n",
       "<text x=\"0\" y=\"144\" font-size=\"16\">3</text>\n",
       "<text x=\"790\" y=\"144\" font-size=\"16\">3</text>\n",
       "<path fill=\"none\" stroke=\"black\" d=\"M 42, 170 L 782, 170\"/>\n",
       "<text x=\"0\" y=\"174\" font-size=\"16\">4</text>\n",
       "<text x=\"790\" y=\"174\" font-size=\"16\">4</text>\n",
       "<path fill=\"none\" stroke=\"black\" d=\"M 42, 200 L 782, 200\"/>\n",
       "<text x=\"0\" y=\"204\" font-size=\"16\">5</text>\n",
       "<text x=\"790\" y=\"204\" font-size=\"16\">5</text>\n",
       "<path fill=\"none\" stroke=\"black\" d=\"M 82, 50 L 112, 35\"/>\n",
       "<path fill=\"none\" stroke=\"black\" d=\"M 82, 110 L 112, 35\"/>\n",
       "<circle fill=\"#FF8888\" stroke=\"black\" cx=\"82\" cy=\"50\" r=\"8\"/>\n",
       "<circle fill=\"#FF8888\" stroke=\"black\" cx=\"82\" cy=\"110\" r=\"8\"/>\n",
       "<path fill=\"none\" stroke=\"black\" d=\"M 112, 35 L 142, 35\"/>\n",
       "<circle fill=\"#CCFFCC\" stroke=\"black\" cx=\"112\" cy=\"35\" r=\"8\"/>\n",
       "<circle fill=\"#FF8888\" stroke=\"black\" cx=\"142\" cy=\"35\" r=\"8\"/>\n",
       "<text x=\"158\" y=\"39\" font-size=\"16\">θ[0]</text>\n",
       "<path fill=\"none\" stroke=\"black\" d=\"M 202, 50 L 232, 35\"/>\n",
       "<path fill=\"none\" stroke=\"black\" d=\"M 202, 140 L 232, 35\"/>\n",
       "<path fill=\"none\" stroke=\"black\" d=\"M 202, 170 L 232, 35\"/>\n",
       "<path fill=\"none\" stroke=\"black\" d=\"M 202, 200 L 232, 35\"/>\n",
       "<circle fill=\"#FF8888\" stroke=\"black\" cx=\"202\" cy=\"50\" r=\"8\"/>\n",
       "<circle fill=\"#FF8888\" stroke=\"black\" cx=\"202\" cy=\"140\" r=\"8\"/>\n",
       "<circle fill=\"#FF8888\" stroke=\"black\" cx=\"202\" cy=\"170\" r=\"8\"/>\n",
       "<circle fill=\"#FF8888\" stroke=\"black\" cx=\"202\" cy=\"200\" r=\"8\"/>\n",
       "<path fill=\"none\" stroke=\"black\" d=\"M 232, 35 L 262, 35\"/>\n",
       "<circle fill=\"#CCFFCC\" stroke=\"black\" cx=\"232\" cy=\"35\" r=\"8\"/>\n",
       "<circle fill=\"#FF8888\" stroke=\"black\" cx=\"262\" cy=\"35\" r=\"8\"/>\n",
       "<text x=\"278\" y=\"39\" font-size=\"16\">θ[1]</text>\n",
       "<path fill=\"none\" stroke=\"black\" d=\"M 322, 80 L 352, 65\"/>\n",
       "<path fill=\"none\" stroke=\"black\" d=\"M 322, 200 L 352, 65\"/>\n",
       "<circle fill=\"#FF8888\" stroke=\"black\" cx=\"322\" cy=\"80\" r=\"8\"/>\n",
       "<circle fill=\"#FF8888\" stroke=\"black\" cx=\"322\" cy=\"200\" r=\"8\"/>\n",
       "<path fill=\"none\" stroke=\"black\" d=\"M 352, 65 L 382, 65\"/>\n",
       "<circle fill=\"#CCFFCC\" stroke=\"black\" cx=\"352\" cy=\"65\" r=\"8\"/>\n",
       "<circle fill=\"#FF8888\" stroke=\"black\" cx=\"382\" cy=\"65\" r=\"8\"/>\n",
       "<text x=\"398\" y=\"69\" font-size=\"16\">θ[2]</text>\n",
       "<path fill=\"none\" stroke=\"black\" d=\"M 442, 80 L 472, 65\"/>\n",
       "<path fill=\"none\" stroke=\"black\" d=\"M 442, 200 L 472, 65\"/>\n",
       "<circle fill=\"#FF8888\" stroke=\"black\" cx=\"442\" cy=\"80\" r=\"8\"/>\n",
       "<circle fill=\"#FF8888\" stroke=\"black\" cx=\"442\" cy=\"200\" r=\"8\"/>\n",
       "<path fill=\"none\" stroke=\"black\" d=\"M 472, 65 L 502, 65\"/>\n",
       "<circle fill=\"#CCFFCC\" stroke=\"black\" cx=\"472\" cy=\"65\" r=\"8\"/>\n",
       "<circle fill=\"#FF8888\" stroke=\"black\" cx=\"502\" cy=\"65\" r=\"8\"/>\n",
       "<text x=\"518\" y=\"69\" font-size=\"16\">θ[3]</text>\n",
       "<path fill=\"none\" stroke=\"black\" d=\"M 562, 140 L 592, 125\"/>\n",
       "<path fill=\"none\" stroke=\"black\" d=\"M 562, 170 L 592, 125\"/>\n",
       "<path fill=\"none\" stroke=\"black\" d=\"M 562, 200 L 592, 125\"/>\n",
       "<circle fill=\"#FF8888\" stroke=\"black\" cx=\"562\" cy=\"140\" r=\"8\"/>\n",
       "<circle fill=\"#FF8888\" stroke=\"black\" cx=\"562\" cy=\"170\" r=\"8\"/>\n",
       "<circle fill=\"#FF8888\" stroke=\"black\" cx=\"562\" cy=\"200\" r=\"8\"/>\n",
       "<path fill=\"none\" stroke=\"black\" d=\"M 592, 125 L 622, 125\"/>\n",
       "<circle fill=\"#CCFFCC\" stroke=\"black\" cx=\"592\" cy=\"125\" r=\"8\"/>\n",
       "<circle fill=\"#FF8888\" stroke=\"black\" cx=\"622\" cy=\"125\" r=\"8\"/>\n",
       "<text x=\"638\" y=\"129\" font-size=\"16\">θ[4]</text>\n",
       "<path fill=\"none\" stroke=\"black\" d=\"M 682, 110 L 712, 95\"/>\n",
       "<path fill=\"none\" stroke=\"black\" d=\"M 682, 140 L 712, 95\"/>\n",
       "<path fill=\"none\" stroke=\"black\" d=\"M 682, 170 L 712, 95\"/>\n",
       "<circle fill=\"#CCFFCC\" stroke=\"black\" cx=\"682\" cy=\"110\" r=\"8\"/>\n",
       "<circle fill=\"#CCFFCC\" stroke=\"black\" cx=\"682\" cy=\"140\" r=\"8\"/>\n",
       "<circle fill=\"#CCFFCC\" stroke=\"black\" cx=\"682\" cy=\"170\" r=\"8\"/>\n",
       "<path fill=\"none\" stroke=\"black\" d=\"M 712, 95 L 742, 95\"/>\n",
       "<circle fill=\"#FF8888\" stroke=\"black\" cx=\"712\" cy=\"95\" r=\"8\"/>\n",
       "<circle fill=\"#CCFFCC\" stroke=\"black\" cx=\"742\" cy=\"95\" r=\"8\"/>\n",
       "<text x=\"758\" y=\"99\" font-size=\"16\">θ[5]</text>\n",
       "</svg>"
      ],
      "text/plain": [
       "<pauliopt.phase.phase_circuits.PhaseCircuit at 0x1ddd36c28e0>"
      ]
     },
     "execution_count": 27,
     "metadata": {},
     "output_type": "execute_result"
    }
   ],
   "source": [
    "from pauliopt.utils import AngleVar\n",
    "\n",
    "θ = [AngleVar(f\"θ[{i}]\") for i in range(6)]\n",
    "circ = PhaseCircuit(6)\n",
    "circ >>= X(θ[0]) @ {0, 2}\n",
    "circ >>= X(θ[1]) @ {0, 3, 4, 5}\n",
    "circ >>= X(θ[2]) @ {1, 5}\n",
    "circ >>= X(θ[3]) @ {1, 5}\n",
    "circ >>= X(θ[4]) @ {3, 4, 5}\n",
    "circ >>= Z(θ[5]) @ {2, 3, 4}\n",
    "circ"
   ]
  },
  {
   "cell_type": "markdown",
   "metadata": {
    "slideshow": {
     "slide_type": "slide"
    }
   },
   "source": [
    "## Conjugation by CX Gates\n",
    "\n",
    "The only operation that can be performed on mixed ZX phase gadget circuits is conjugation by a CX gate with given control and target. This is done through the method `PhaseCircuit.conj_by_cx(ctrl, trgt)`, which is unavailable on the read-only view.\n",
    "\n",
    "Consider the following circuit with a single Z phase gadget:"
   ]
  },
  {
   "cell_type": "code",
   "execution_count": 21,
   "metadata": {},
   "outputs": [
    {
     "data": {
      "image/svg+xml": [
       "<?xml version=\"1.0\" encoding=\"utf-8\"?>\n",
       "<!DOCTYPE svg PUBLIC \"-//W3C//DTD SVG 1.1//EN\" \"http://www.w3.org/Graphics/SVG/1.1/DTD/svg11.dtd\">\n",
       "<svg version=\"1.1\" xmlns=\"http://www.w3.org/2000/svg\" xmlns:xlink=\"http://www.w3.org/1999/xlink\" width=\"224\" height=\"140\"><path fill=\"none\" stroke=\"black\" d=\"M 42, 50 L 182, 50\"/>\n",
       "<text x=\"0\" y=\"54\" font-size=\"16\">0</text>\n",
       "<text x=\"190\" y=\"54\" font-size=\"16\">0</text>\n",
       "<path fill=\"none\" stroke=\"black\" d=\"M 42, 80 L 182, 80\"/>\n",
       "<text x=\"0\" y=\"84\" font-size=\"16\">1</text>\n",
       "<text x=\"190\" y=\"84\" font-size=\"16\">1</text>\n",
       "<path fill=\"none\" stroke=\"black\" d=\"M 42, 110 L 182, 110\"/>\n",
       "<text x=\"0\" y=\"114\" font-size=\"16\">2</text>\n",
       "<text x=\"190\" y=\"114\" font-size=\"16\">2</text>\n",
       "<path fill=\"none\" stroke=\"black\" d=\"M 82, 80 L 112, 65\"/>\n",
       "<path fill=\"none\" stroke=\"black\" d=\"M 82, 110 L 112, 65\"/>\n",
       "<circle fill=\"#CCFFCC\" stroke=\"black\" cx=\"82\" cy=\"80\" r=\"8\"/>\n",
       "<circle fill=\"#CCFFCC\" stroke=\"black\" cx=\"82\" cy=\"110\" r=\"8\"/>\n",
       "<path fill=\"none\" stroke=\"black\" d=\"M 112, 65 L 142, 65\"/>\n",
       "<circle fill=\"#FF8888\" stroke=\"black\" cx=\"112\" cy=\"65\" r=\"8\"/>\n",
       "<circle fill=\"#CCFFCC\" stroke=\"black\" cx=\"142\" cy=\"65\" r=\"8\"/>\n",
       "<text x=\"158\" y=\"69\" font-size=\"16\">π/2</text>\n",
       "</svg>"
      ],
      "text/plain": [
       "<pauliopt.phase.phase_circuits.PhaseCircuit at 0x1dde3a356d0>"
      ]
     },
     "execution_count": 21,
     "metadata": {},
     "output_type": "execute_result"
    }
   ],
   "source": [
    "simple_circ = PhaseCircuit(3, [Z(pi / 2) @ {1, 2}])\n",
    "simple_circ"
   ]
  },
  {
   "cell_type": "markdown",
   "metadata": {
    "slideshow": {
     "slide_type": "subslide"
    }
   },
   "source": [
    "We conjugate the circuit with a CX gate $CX_{0, 1}$ having the qubit 0 as control and the qubit 1 as target. The circuit $\\mathcal{C}$ is modified in-place, becoming $CX_{0, 1} \\circ \\mathcal{C} \\circ CX_{0, 1}$."
   ]
  },
  {
   "cell_type": "code",
   "execution_count": 22,
   "metadata": {},
   "outputs": [
    {
     "data": {
      "text/html": [
       "<div style='display:flex; align-items: center;'><?xml version=\"1.0\" encoding=\"utf-8\"?>\n",
       "<!DOCTYPE svg PUBLIC \"-//W3C//DTD SVG 1.1//EN\" \"http://www.w3.org/Graphics/SVG/1.1/DTD/svg11.dtd\">\n",
       "<svg version=\"1.1\" xmlns=\"http://www.w3.org/2000/svg\" xmlns:xlink=\"http://www.w3.org/1999/xlink\" width=\"224\" height=\"140\"><path fill=\"none\" stroke=\"black\" d=\"M 42, 50 L 182, 50\"/>\n",
       "<text x=\"0\" y=\"54\" font-size=\"16\">0</text>\n",
       "<text x=\"190\" y=\"54\" font-size=\"16\">0</text>\n",
       "<path fill=\"none\" stroke=\"black\" d=\"M 42, 80 L 182, 80\"/>\n",
       "<text x=\"0\" y=\"84\" font-size=\"16\">1</text>\n",
       "<text x=\"190\" y=\"84\" font-size=\"16\">1</text>\n",
       "<path fill=\"none\" stroke=\"black\" d=\"M 42, 110 L 182, 110\"/>\n",
       "<text x=\"0\" y=\"114\" font-size=\"16\">2</text>\n",
       "<text x=\"190\" y=\"114\" font-size=\"16\">2</text>\n",
       "<path fill=\"none\" stroke=\"black\" d=\"M 82, 80 L 112, 65\"/>\n",
       "<path fill=\"none\" stroke=\"black\" d=\"M 82, 110 L 112, 65\"/>\n",
       "<circle fill=\"#CCFFCC\" stroke=\"black\" cx=\"82\" cy=\"80\" r=\"8\"/>\n",
       "<circle fill=\"#CCFFCC\" stroke=\"black\" cx=\"82\" cy=\"110\" r=\"8\"/>\n",
       "<path fill=\"none\" stroke=\"black\" d=\"M 112, 65 L 142, 65\"/>\n",
       "<circle fill=\"#FF8888\" stroke=\"black\" cx=\"112\" cy=\"65\" r=\"8\"/>\n",
       "<circle fill=\"#CCFFCC\" stroke=\"black\" cx=\"142\" cy=\"65\" r=\"8\"/>\n",
       "<text x=\"158\" y=\"69\" font-size=\"16\">π/2</text>\n",
       "</svg><pre> ⎯⎯cx(0,1)⟶   </pre><?xml version=\"1.0\" encoding=\"utf-8\"?>\n",
       "<!DOCTYPE svg PUBLIC \"-//W3C//DTD SVG 1.1//EN\" \"http://www.w3.org/Graphics/SVG/1.1/DTD/svg11.dtd\">\n",
       "<svg version=\"1.1\" xmlns=\"http://www.w3.org/2000/svg\" xmlns:xlink=\"http://www.w3.org/1999/xlink\" width=\"224\" height=\"140\"><path fill=\"none\" stroke=\"black\" d=\"M 42, 50 L 182, 50\"/>\n",
       "<text x=\"0\" y=\"54\" font-size=\"16\">0</text>\n",
       "<text x=\"190\" y=\"54\" font-size=\"16\">0</text>\n",
       "<path fill=\"none\" stroke=\"black\" d=\"M 42, 80 L 182, 80\"/>\n",
       "<text x=\"0\" y=\"84\" font-size=\"16\">1</text>\n",
       "<text x=\"190\" y=\"84\" font-size=\"16\">1</text>\n",
       "<path fill=\"none\" stroke=\"black\" d=\"M 42, 110 L 182, 110\"/>\n",
       "<text x=\"0\" y=\"114\" font-size=\"16\">2</text>\n",
       "<text x=\"190\" y=\"114\" font-size=\"16\">2</text>\n",
       "<path fill=\"none\" stroke=\"black\" d=\"M 82, 50 L 112, 35\"/>\n",
       "<path fill=\"none\" stroke=\"black\" d=\"M 82, 80 L 112, 35\"/>\n",
       "<path fill=\"none\" stroke=\"black\" d=\"M 82, 110 L 112, 35\"/>\n",
       "<circle fill=\"#CCFFCC\" stroke=\"black\" cx=\"82\" cy=\"50\" r=\"8\"/>\n",
       "<circle fill=\"#CCFFCC\" stroke=\"black\" cx=\"82\" cy=\"80\" r=\"8\"/>\n",
       "<circle fill=\"#CCFFCC\" stroke=\"black\" cx=\"82\" cy=\"110\" r=\"8\"/>\n",
       "<path fill=\"none\" stroke=\"black\" d=\"M 112, 35 L 142, 35\"/>\n",
       "<circle fill=\"#FF8888\" stroke=\"black\" cx=\"112\" cy=\"35\" r=\"8\"/>\n",
       "<circle fill=\"#CCFFCC\" stroke=\"black\" cx=\"142\" cy=\"35\" r=\"8\"/>\n",
       "<text x=\"158\" y=\"39\" font-size=\"16\">π/2</text>\n",
       "</svg></div>"
      ],
      "text/plain": [
       "<IPython.core.display.HTML object>"
      ]
     },
     "execution_count": 22,
     "metadata": {},
     "output_type": "execute_result"
    }
   ],
   "source": [
    "svg_before = simple_circ.to_svg(svg_code_only=True)\n",
    "simple_circ.conj_by_cx(0, 1)\n",
    "svg_after = simple_circ.to_svg(svg_code_only=True)\n",
    "side_by_side(svg_before, \"<pre> ⎯⎯cx(0,1)⟶   </pre>\", svg_after)"
   ]
  },
  {
   "cell_type": "markdown",
   "metadata": {
    "slideshow": {
     "slide_type": "subslide"
    }
   },
   "source": [
    "Multiple conjugations can be concatenated (see the [fluent interface pattern](https://en.wikipedia.org/wiki/Fluent_interface))."
   ]
  },
  {
   "cell_type": "code",
   "execution_count": 23,
   "metadata": {},
   "outputs": [
    {
     "data": {
      "text/html": [
       "<div style='display:flex; align-items: center;'><?xml version=\"1.0\" encoding=\"utf-8\"?>\n",
       "<!DOCTYPE svg PUBLIC \"-//W3C//DTD SVG 1.1//EN\" \"http://www.w3.org/Graphics/SVG/1.1/DTD/svg11.dtd\">\n",
       "<svg version=\"1.1\" xmlns=\"http://www.w3.org/2000/svg\" xmlns:xlink=\"http://www.w3.org/1999/xlink\" width=\"224\" height=\"140\"><path fill=\"none\" stroke=\"black\" d=\"M 42, 50 L 182, 50\"/>\n",
       "<text x=\"0\" y=\"54\" font-size=\"16\">0</text>\n",
       "<text x=\"190\" y=\"54\" font-size=\"16\">0</text>\n",
       "<path fill=\"none\" stroke=\"black\" d=\"M 42, 80 L 182, 80\"/>\n",
       "<text x=\"0\" y=\"84\" font-size=\"16\">1</text>\n",
       "<text x=\"190\" y=\"84\" font-size=\"16\">1</text>\n",
       "<path fill=\"none\" stroke=\"black\" d=\"M 42, 110 L 182, 110\"/>\n",
       "<text x=\"0\" y=\"114\" font-size=\"16\">2</text>\n",
       "<text x=\"190\" y=\"114\" font-size=\"16\">2</text>\n",
       "<path fill=\"none\" stroke=\"black\" d=\"M 82, 50 L 112, 35\"/>\n",
       "<path fill=\"none\" stroke=\"black\" d=\"M 82, 80 L 112, 35\"/>\n",
       "<path fill=\"none\" stroke=\"black\" d=\"M 82, 110 L 112, 35\"/>\n",
       "<circle fill=\"#CCFFCC\" stroke=\"black\" cx=\"82\" cy=\"50\" r=\"8\"/>\n",
       "<circle fill=\"#CCFFCC\" stroke=\"black\" cx=\"82\" cy=\"80\" r=\"8\"/>\n",
       "<circle fill=\"#CCFFCC\" stroke=\"black\" cx=\"82\" cy=\"110\" r=\"8\"/>\n",
       "<path fill=\"none\" stroke=\"black\" d=\"M 112, 35 L 142, 35\"/>\n",
       "<circle fill=\"#FF8888\" stroke=\"black\" cx=\"112\" cy=\"35\" r=\"8\"/>\n",
       "<circle fill=\"#CCFFCC\" stroke=\"black\" cx=\"142\" cy=\"35\" r=\"8\"/>\n",
       "<text x=\"158\" y=\"39\" font-size=\"16\">π/2</text>\n",
       "</svg><pre> ⎯⎯cx(0,1)⎯⎯cx(1,2)⟶   </pre><?xml version=\"1.0\" encoding=\"utf-8\"?>\n",
       "<!DOCTYPE svg PUBLIC \"-//W3C//DTD SVG 1.1//EN\" \"http://www.w3.org/Graphics/SVG/1.1/DTD/svg11.dtd\">\n",
       "<svg version=\"1.1\" xmlns=\"http://www.w3.org/2000/svg\" xmlns:xlink=\"http://www.w3.org/1999/xlink\" width=\"224\" height=\"140\"><path fill=\"none\" stroke=\"black\" d=\"M 42, 50 L 182, 50\"/>\n",
       "<text x=\"0\" y=\"54\" font-size=\"16\">0</text>\n",
       "<text x=\"190\" y=\"54\" font-size=\"16\">0</text>\n",
       "<path fill=\"none\" stroke=\"black\" d=\"M 42, 80 L 182, 80\"/>\n",
       "<text x=\"0\" y=\"84\" font-size=\"16\">1</text>\n",
       "<text x=\"190\" y=\"84\" font-size=\"16\">1</text>\n",
       "<path fill=\"none\" stroke=\"black\" d=\"M 42, 110 L 182, 110\"/>\n",
       "<text x=\"0\" y=\"114\" font-size=\"16\">2</text>\n",
       "<text x=\"190\" y=\"114\" font-size=\"16\">2</text>\n",
       "<circle fill=\"#CCFFCC\" stroke=\"black\" cx=\"82\" cy=\"110\" r=\"8\"/>\n",
       "<text x=\"90\" y=\"104\" font-size=\"16\">π/2</text>\n",
       "</svg></div>"
      ],
      "text/plain": [
       "<IPython.core.display.HTML object>"
      ]
     },
     "execution_count": 23,
     "metadata": {},
     "output_type": "execute_result"
    }
   ],
   "source": [
    "svg_before = simple_circ.to_svg(svg_code_only=True)\n",
    "simple_circ.conj_by_cx(0, 1).conj_by_cx(1, 2)\n",
    "svg_after = simple_circ.to_svg(svg_code_only=True)\n",
    "side_by_side(svg_before, \"<pre> ⎯⎯cx(0,1)⎯⎯cx(1,2)⟶   </pre>\", svg_after)"
   ]
  },
  {
   "cell_type": "markdown",
   "metadata": {
    "slideshow": {
     "slide_type": "subslide"
    }
   },
   "source": [
    "As a more complicated example, we conjugate `phase_circuit` from before by the same CX gate."
   ]
  },
  {
   "cell_type": "code",
   "execution_count": 24,
   "metadata": {},
   "outputs": [
    {
     "name": "stdout",
     "output_type": "stream",
     "text": [
      "Original: \n"
     ]
    },
    {
     "data": {
      "image/svg+xml": [
       "<?xml version=\"1.0\" encoding=\"utf-8\"?>\n",
       "<!DOCTYPE svg PUBLIC \"-//W3C//DTD SVG 1.1//EN\" \"http://www.w3.org/Graphics/SVG/1.1/DTD/svg11.dtd\">\n",
       "<svg version=\"1.1\" xmlns=\"http://www.w3.org/2000/svg\" xmlns:xlink=\"http://www.w3.org/1999/xlink\" width=\"704\" height=\"140\"><path fill=\"none\" stroke=\"black\" d=\"M 42, 50 L 662, 50\"/>\n",
       "<text x=\"0\" y=\"54\" font-size=\"16\">0</text>\n",
       "<text x=\"670\" y=\"54\" font-size=\"16\">0</text>\n",
       "<path fill=\"none\" stroke=\"black\" d=\"M 42, 80 L 662, 80\"/>\n",
       "<text x=\"0\" y=\"84\" font-size=\"16\">1</text>\n",
       "<text x=\"670\" y=\"84\" font-size=\"16\">1</text>\n",
       "<path fill=\"none\" stroke=\"black\" d=\"M 42, 110 L 662, 110\"/>\n",
       "<text x=\"0\" y=\"114\" font-size=\"16\">2</text>\n",
       "<text x=\"670\" y=\"114\" font-size=\"16\">2</text>\n",
       "<path fill=\"none\" stroke=\"black\" d=\"M 82, 50 L 112, 35\"/>\n",
       "<path fill=\"none\" stroke=\"black\" d=\"M 82, 80 L 112, 35\"/>\n",
       "<circle fill=\"#CCFFCC\" stroke=\"black\" cx=\"82\" cy=\"50\" r=\"8\"/>\n",
       "<circle fill=\"#CCFFCC\" stroke=\"black\" cx=\"82\" cy=\"80\" r=\"8\"/>\n",
       "<path fill=\"none\" stroke=\"black\" d=\"M 112, 35 L 142, 35\"/>\n",
       "<circle fill=\"#FF8888\" stroke=\"black\" cx=\"112\" cy=\"35\" r=\"8\"/>\n",
       "<circle fill=\"#CCFFCC\" stroke=\"black\" cx=\"142\" cy=\"35\" r=\"8\"/>\n",
       "<text x=\"158\" y=\"39\" font-size=\"16\">π/2</text>\n",
       "<path fill=\"none\" stroke=\"black\" d=\"M 202, 50 L 232, 35\"/>\n",
       "<path fill=\"none\" stroke=\"black\" d=\"M 202, 110 L 232, 35\"/>\n",
       "<circle fill=\"#FF8888\" stroke=\"black\" cx=\"202\" cy=\"50\" r=\"8\"/>\n",
       "<circle fill=\"#FF8888\" stroke=\"black\" cx=\"202\" cy=\"110\" r=\"8\"/>\n",
       "<path fill=\"none\" stroke=\"black\" d=\"M 232, 35 L 262, 35\"/>\n",
       "<circle fill=\"#CCFFCC\" stroke=\"black\" cx=\"232\" cy=\"35\" r=\"8\"/>\n",
       "<circle fill=\"#FF8888\" stroke=\"black\" cx=\"262\" cy=\"35\" r=\"8\"/>\n",
       "<text x=\"278\" y=\"39\" font-size=\"16\">π</text>\n",
       "<path fill=\"none\" stroke=\"black\" d=\"M 322, 80 L 352, 65\"/>\n",
       "<path fill=\"none\" stroke=\"black\" d=\"M 322, 110 L 352, 65\"/>\n",
       "<circle fill=\"#FF8888\" stroke=\"black\" cx=\"322\" cy=\"80\" r=\"8\"/>\n",
       "<circle fill=\"#FF8888\" stroke=\"black\" cx=\"322\" cy=\"110\" r=\"8\"/>\n",
       "<path fill=\"none\" stroke=\"black\" d=\"M 352, 65 L 382, 65\"/>\n",
       "<circle fill=\"#CCFFCC\" stroke=\"black\" cx=\"352\" cy=\"65\" r=\"8\"/>\n",
       "<circle fill=\"#FF8888\" stroke=\"black\" cx=\"382\" cy=\"65\" r=\"8\"/>\n",
       "<text x=\"398\" y=\"69\" font-size=\"16\">7π/4</text>\n",
       "<path fill=\"none\" stroke=\"black\" d=\"M 442, 50 L 472, 35\"/>\n",
       "<path fill=\"none\" stroke=\"black\" d=\"M 442, 110 L 472, 35\"/>\n",
       "<circle fill=\"#CCFFCC\" stroke=\"black\" cx=\"442\" cy=\"50\" r=\"8\"/>\n",
       "<circle fill=\"#CCFFCC\" stroke=\"black\" cx=\"442\" cy=\"110\" r=\"8\"/>\n",
       "<path fill=\"none\" stroke=\"black\" d=\"M 472, 35 L 502, 35\"/>\n",
       "<circle fill=\"#FF8888\" stroke=\"black\" cx=\"472\" cy=\"35\" r=\"8\"/>\n",
       "<circle fill=\"#CCFFCC\" stroke=\"black\" cx=\"502\" cy=\"35\" r=\"8\"/>\n",
       "<text x=\"518\" y=\"39\" font-size=\"16\">π/4</text>\n",
       "<path fill=\"none\" stroke=\"black\" d=\"M 562, 50 L 592, 35\"/>\n",
       "<path fill=\"none\" stroke=\"black\" d=\"M 562, 80 L 592, 35\"/>\n",
       "<circle fill=\"#FF8888\" stroke=\"black\" cx=\"562\" cy=\"50\" r=\"8\"/>\n",
       "<circle fill=\"#FF8888\" stroke=\"black\" cx=\"562\" cy=\"80\" r=\"8\"/>\n",
       "<path fill=\"none\" stroke=\"black\" d=\"M 592, 35 L 622, 35\"/>\n",
       "<circle fill=\"#CCFFCC\" stroke=\"black\" cx=\"592\" cy=\"35\" r=\"8\"/>\n",
       "<circle fill=\"#FF8888\" stroke=\"black\" cx=\"622\" cy=\"35\" r=\"8\"/>\n",
       "<text x=\"638\" y=\"39\" font-size=\"16\">π/2</text>\n",
       "</svg>"
      ],
      "text/plain": [
       "<pauliopt.phase.phase_circuits.PhaseCircuit at 0x1dde3a0bd90>"
      ]
     },
     "metadata": {},
     "output_type": "display_data"
    },
    {
     "name": "stdout",
     "output_type": "stream",
     "text": [
      "Conjugated by CX(0, 1): \n"
     ]
    },
    {
     "data": {
      "image/svg+xml": [
       "<?xml version=\"1.0\" encoding=\"utf-8\"?>\n",
       "<!DOCTYPE svg PUBLIC \"-//W3C//DTD SVG 1.1//EN\" \"http://www.w3.org/Graphics/SVG/1.1/DTD/svg11.dtd\">\n",
       "<svg version=\"1.1\" xmlns=\"http://www.w3.org/2000/svg\" xmlns:xlink=\"http://www.w3.org/1999/xlink\" width=\"704\" height=\"140\"><path fill=\"none\" stroke=\"black\" d=\"M 42, 50 L 662, 50\"/>\n",
       "<text x=\"0\" y=\"54\" font-size=\"16\">0</text>\n",
       "<text x=\"670\" y=\"54\" font-size=\"16\">0</text>\n",
       "<path fill=\"none\" stroke=\"black\" d=\"M 42, 80 L 662, 80\"/>\n",
       "<text x=\"0\" y=\"84\" font-size=\"16\">1</text>\n",
       "<text x=\"670\" y=\"84\" font-size=\"16\">1</text>\n",
       "<path fill=\"none\" stroke=\"black\" d=\"M 42, 110 L 662, 110\"/>\n",
       "<text x=\"0\" y=\"114\" font-size=\"16\">2</text>\n",
       "<text x=\"670\" y=\"114\" font-size=\"16\">2</text>\n",
       "<circle fill=\"#CCFFCC\" stroke=\"black\" cx=\"82\" cy=\"80\" r=\"8\"/>\n",
       "<text x=\"90\" y=\"74\" font-size=\"16\">π/2</text>\n",
       "<path fill=\"none\" stroke=\"black\" d=\"M 202, 50 L 232, 35\"/>\n",
       "<path fill=\"none\" stroke=\"black\" d=\"M 202, 80 L 232, 35\"/>\n",
       "<path fill=\"none\" stroke=\"black\" d=\"M 202, 110 L 232, 35\"/>\n",
       "<circle fill=\"#FF8888\" stroke=\"black\" cx=\"202\" cy=\"50\" r=\"8\"/>\n",
       "<circle fill=\"#FF8888\" stroke=\"black\" cx=\"202\" cy=\"80\" r=\"8\"/>\n",
       "<circle fill=\"#FF8888\" stroke=\"black\" cx=\"202\" cy=\"110\" r=\"8\"/>\n",
       "<path fill=\"none\" stroke=\"black\" d=\"M 232, 35 L 262, 35\"/>\n",
       "<circle fill=\"#CCFFCC\" stroke=\"black\" cx=\"232\" cy=\"35\" r=\"8\"/>\n",
       "<circle fill=\"#FF8888\" stroke=\"black\" cx=\"262\" cy=\"35\" r=\"8\"/>\n",
       "<text x=\"278\" y=\"39\" font-size=\"16\">π</text>\n",
       "<path fill=\"none\" stroke=\"black\" d=\"M 322, 80 L 352, 65\"/>\n",
       "<path fill=\"none\" stroke=\"black\" d=\"M 322, 110 L 352, 65\"/>\n",
       "<circle fill=\"#FF8888\" stroke=\"black\" cx=\"322\" cy=\"80\" r=\"8\"/>\n",
       "<circle fill=\"#FF8888\" stroke=\"black\" cx=\"322\" cy=\"110\" r=\"8\"/>\n",
       "<path fill=\"none\" stroke=\"black\" d=\"M 352, 65 L 382, 65\"/>\n",
       "<circle fill=\"#CCFFCC\" stroke=\"black\" cx=\"352\" cy=\"65\" r=\"8\"/>\n",
       "<circle fill=\"#FF8888\" stroke=\"black\" cx=\"382\" cy=\"65\" r=\"8\"/>\n",
       "<text x=\"398\" y=\"69\" font-size=\"16\">7π/4</text>\n",
       "<path fill=\"none\" stroke=\"black\" d=\"M 442, 50 L 472, 35\"/>\n",
       "<path fill=\"none\" stroke=\"black\" d=\"M 442, 110 L 472, 35\"/>\n",
       "<circle fill=\"#CCFFCC\" stroke=\"black\" cx=\"442\" cy=\"50\" r=\"8\"/>\n",
       "<circle fill=\"#CCFFCC\" stroke=\"black\" cx=\"442\" cy=\"110\" r=\"8\"/>\n",
       "<path fill=\"none\" stroke=\"black\" d=\"M 472, 35 L 502, 35\"/>\n",
       "<circle fill=\"#FF8888\" stroke=\"black\" cx=\"472\" cy=\"35\" r=\"8\"/>\n",
       "<circle fill=\"#CCFFCC\" stroke=\"black\" cx=\"502\" cy=\"35\" r=\"8\"/>\n",
       "<text x=\"518\" y=\"39\" font-size=\"16\">π/4</text>\n",
       "<circle fill=\"#FF8888\" stroke=\"black\" cx=\"562\" cy=\"50\" r=\"8\"/>\n",
       "<text x=\"570\" y=\"44\" font-size=\"16\">π/2</text>\n",
       "</svg>"
      ],
      "text/plain": [
       "<pauliopt.phase.phase_circuits.PhaseCircuit at 0x1dde3a0bd90>"
      ]
     },
     "metadata": {},
     "output_type": "display_data"
    }
   ],
   "source": [
    "print(\"Original: \");\n",
    "display(phase_circuit)\n",
    "phase_circuit.conj_by_cx(0, 1)\n",
    "print(\"Conjugated by CX(0, 1): \");\n",
    "display(phase_circuit)"
   ]
  },
  {
   "cell_type": "markdown",
   "metadata": {
    "slideshow": {
     "slide_type": "subslide"
    }
   },
   "source": [
    "To avoid modification, a read-only view can be used in place of the actual circuit:"
   ]
  },
  {
   "cell_type": "code",
   "execution_count": 25,
   "metadata": {},
   "outputs": [
    {
     "name": "stdout",
     "output_type": "stream",
     "text": [
      "Exception: 'PhaseCircuitView' object has no attribute 'conj_by_cx'\n"
     ]
    }
   ],
   "source": [
    "phase_circuit_view = phase_circuit.as_readonly\n",
    "try:\n",
    "    phase_circuit_view.conj_by_cx(0, 1)\n",
    "except Exception as e:\n",
    "    print(\"Exception:\", e)"
   ]
  }
 ],
 "metadata": {
  "celltoolbar": "Slideshow",
  "kernelspec": {
   "display_name": "Python 3",
   "language": "python",
   "name": "python3"
  },
  "language_info": {
   "codemirror_mode": {
    "name": "ipython",
    "version": 3
   },
   "file_extension": ".py",
   "mimetype": "text/x-python",
   "name": "python",
   "nbconvert_exporter": "python",
   "pygments_lexer": "ipython3",
   "version": "3.9.7"
  }
 },
 "nbformat": 4,
 "nbformat_minor": 4
}