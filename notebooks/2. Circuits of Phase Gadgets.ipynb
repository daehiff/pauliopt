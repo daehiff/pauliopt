{
 "cells": [
  {
   "cell_type": "markdown",
   "metadata": {
    "slideshow": {
     "slide_type": "slide"
    }
   },
   "source": [
    "# Circuits of Phase Gadgets"
   ]
  },
  {
   "cell_type": "markdown",
   "metadata": {
    "slideshow": {
     "slide_type": "subslide"
    }
   },
   "source": [
    "Changing working directory from `./notebooks/` to `./`, in order to import the Python packages defined in the repository."
   ]
  },
  {
   "cell_type": "code",
   "execution_count": 1,
   "metadata": {},
   "source": [
    "import os\n",
    "DEBUG = True\n",
    "try:\n",
    "    print(\"Original working directory: %s\"%str(original_wd)) # type: ignore\n",
    "    \"\"\"\n",
    "        You only get here if you---by mistake or otherwise---are re-running this cell, \n",
    "        in which case the working should not be changed again.\n",
    "    \"\"\"\n",
    "except NameError:\n",
    "    original_wd = os.getcwd()\n",
    "    os.chdir('../')\n",
    "print(\"Current working directory: %s\"%str(os.getcwd()))"
   ],
   "outputs": []
  },
  {
   "cell_type": "markdown",
   "metadata": {
    "slideshow": {
     "slide_type": "subslide"
    }
   },
   "source": [
    "General purpose imports:"
   ]
  },
  {
   "cell_type": "code",
   "execution_count": 2,
   "metadata": {},
   "source": [
    "import matplotlib.pyplot as plt\n",
    "from IPython.display import set_matplotlib_formats\n",
    "%matplotlib inline\n",
    "set_matplotlib_formats('svg')\n",
    "# import qiskit"
   ],
   "outputs": []
  },
  {
   "cell_type": "markdown",
   "metadata": {
    "slideshow": {
     "slide_type": "subslide"
    }
   },
   "source": [
    "Some utility code to display HTML elements side-by-side:"
   ]
  },
  {
   "cell_type": "code",
   "execution_count": 3,
   "metadata": {},
   "source": [
    "from typing import Union\n",
    "from IPython.display import Image, HTML # type: ignore\n",
    "def side_by_side(*elements: Union[str, Image]) -> HTML:\n",
    "    \"\"\"\n",
    "        Returns an HTML Div element with the given elements\n",
    "        displayed side by side. Accepts raw HTML code or\n",
    "        IPython Image objects.\n",
    "    \"\"\"\n",
    "    html = f\"<div style='display:flex; align-items: center;'>\"\n",
    "    for el in elements:\n",
    "        if isinstance(el, str):\n",
    "            html += el\n",
    "        elif isinstance(el, Image):\n",
    "            html += f\"<img src='data:image/png;base64,{el._repr_png_()}'/>\"\n",
    "    html += f\"</div>\"\n",
    "    return HTML(html)"
   ],
   "outputs": []
  },
  {
   "cell_type": "markdown",
   "metadata": {
    "slideshow": {
     "slide_type": "slide"
    }
   },
   "source": [
    "## Phase Gadgets\n",
    "\n",
    "The `PhaseGadget` class can be used to construct phase gadgets starting from:\n",
    "\n",
    "- a basis (one of `Z` or `X`);\n",
    "- an angle (e.g. an instance of `pauliopt.utils.Angle`, but more generally anything satisfying the `pauliopt.utils.AngleProtocol` protocol);\n",
    "- the (non-empty) collection of qubits spanned by the phase gadget."
   ]
  },
  {
   "cell_type": "code",
   "execution_count": 4,
   "metadata": {},
   "source": [
    "from pauliopt.utils import pi\n",
    "from pauliopt.phase import PhaseGadget\n",
    "gadget = PhaseGadget(\"Z\", pi/2, {0, 2, 5})\n",
    "gadget"
   ],
   "outputs": []
  },
  {
   "cell_type": "markdown",
   "metadata": {
    "slideshow": {
     "slide_type": "subslide"
    }
   },
   "source": [
    "The basis, angle and qubits can be accessed from the homonymous properties: "
   ]
  },
  {
   "cell_type": "code",
   "execution_count": 5,
   "metadata": {},
   "source": [
    "print(f\"{gadget.basis = }\")\n",
    "print(f\"{gadget.angle = }\")\n",
    "print(f\"{gadget.qubits = }\") "
   ],
   "outputs": []
  },
  {
   "cell_type": "markdown",
   "metadata": {
    "slideshow": {
     "slide_type": "subslide"
    }
   },
   "source": [
    "Phase gadgets are immutable, hashable and can be compared for equality:"
   ]
  },
  {
   "cell_type": "code",
   "execution_count": 6,
   "metadata": {},
   "source": [
    "same_gadget = PhaseGadget(\"Z\", pi/2, {0, 2, 5})\n",
    "other_gadget = PhaseGadget(\"X\", pi/2, {0, 2, 5})\n",
    "print(f\"{hash(gadget) = }\")\n",
    "print(f\"{(gadget == same_gadget) = }\")\n",
    "print(f\"{(gadget == other_gadget) = }\")"
   ],
   "outputs": []
  },
  {
   "cell_type": "markdown",
   "metadata": {
    "slideshow": {
     "slide_type": "subslide"
    }
   },
   "source": [
    "Special purpose classes `Z` and `X` allow phase gadgets to be constructed with a more expressive syntax:"
   ]
  },
  {
   "cell_type": "code",
   "execution_count": 7,
   "metadata": {},
   "source": [
    "from pauliopt.phase import Z, X\n",
    "gadget = Z(pi/2) @ {0, 2, 5}\n",
    "print(gadget)\n",
    "print(repr(gadget))"
   ],
   "outputs": []
  },
  {
   "cell_type": "markdown",
   "metadata": {
    "slideshow": {
     "slide_type": "slide"
    }
   },
   "source": [
    "## Circuits of Mixed ZX Phase Gadgets\n",
    "\n",
    "Circuits of mixed ZX phase gadgets can be constructed using the `PhaseCircuit` class, from a number of qubits and a sequence of phase gadgets. Circuits are mutable, but a read-only view (of class `PhaseCircuitView`) can be obtained from the `as_readonly` property and a copy can be made with the `clone` method.\n",
    "\n",
    "Internally, each instance of `PhaseCircuit` maintains the following data:\n",
    "\n",
    "- two binary matrices keeping track of the legs of Z and X gadgets respectively;\n",
    "- a mapping from the columns of the binary matrices to the original list of phase gadgets;\n",
    "- the collection of qubits and a mapping between qubits and rows of the binary matrices;\n",
    "- the list of angles for the phase gadgets, in the original order.\n",
    "\n",
    "The data is updated whenever the circuit is modified."
   ]
  },
  {
   "cell_type": "markdown",
   "metadata": {
    "slideshow": {
     "slide_type": "subslide"
    }
   },
   "source": [
    "We create a sample circuit on 3 qubits (labelled `0`, `1` and `2`) and 5 phase gadgets:"
   ]
  },
  {
   "cell_type": "code",
   "execution_count": 8,
   "metadata": {},
   "source": [
    "from pauliopt.phase import PhaseCircuit\n",
    "gadgets = [\n",
    "    Z(pi/2) @ {0, 1},\n",
    "    X(pi) @ {0, 2},\n",
    "    X(-pi/4) @ {1, 2},\n",
    "    Z(pi/4) @ {0, 2},\n",
    "    X(pi/2) @ {0, 1},\n",
    "]\n",
    "phase_circuit = PhaseCircuit(3, gadgets)"
   ],
   "outputs": []
  },
  {
   "cell_type": "markdown",
   "metadata": {
    "slideshow": {
     "slide_type": "subslide"
    }
   },
   "source": [
    "Phase gadgets are not stored directly, but they can be accessed from the and `gadgets` property. This requires some computation, so the `num_gadgets` property is available from when the number alone is of interest:"
   ]
  },
  {
   "cell_type": "code",
   "execution_count": 9,
   "metadata": {},
   "source": [
    "print(f\"{phase_circuit.num_qubits = }\")\n",
    "print()\n",
    "print(f\"{phase_circuit.num_gadgets = }\")\n",
    "print(f\"{phase_circuit.gadgets = }\")"
   ],
   "outputs": []
  },
  {
   "cell_type": "markdown",
   "metadata": {
    "slideshow": {
     "slide_type": "subslide"
    }
   },
   "source": [
    "Circuits are mutable, and hence not hashable, but they can be compared for equality. In particular, the `clone` method returns a circuit which is initially equal to the original, but can then be modified independently:"
   ]
  },
  {
   "cell_type": "code",
   "execution_count": 10,
   "metadata": {},
   "source": [
    "clone_circuit = phase_circuit.cloned()\n",
    "print(f\"Immediately after cloning: {(phase_circuit == clone_circuit) = }\")\n",
    "clone_circuit.conj_by_cx(0, 1) # modify the clone\n",
    "print(f\"After modifying the clone: {(phase_circuit == clone_circuit) = }\")"
   ],
   "outputs": []
  },
  {
   "cell_type": "markdown",
   "metadata": {
    "slideshow": {
     "slide_type": "subslide"
    }
   },
   "source": [
    "Phase gadgets can be added to a circuit with the `PhaseCircuit.add_gadget(gadget)` method. However, please note that this is strictly less efficient than passing all gadgets in the constructor, because the internal binary matrix must be copied every time to append a column."
   ]
  },
  {
   "cell_type": "code",
   "execution_count": 11,
   "metadata": {},
   "source": [
    "new_phase_circuit = PhaseCircuit(3)\n",
    "for gadget in gadgets:\n",
    "    new_phase_circuit.add_gadget(gadget)\n",
    "print(f\"{(phase_circuit == new_phase_circuit) = }\")"
   ],
   "outputs": []
  },
  {
   "cell_type": "markdown",
   "metadata": {
    "slideshow": {
     "slide_type": "subslide"
    }
   },
   "source": [
    "The in-place right-shift operator `>>=` can also be used to add gadgets to a circuit, resulting in a more compact syntax."
   ]
  },
  {
   "cell_type": "code",
   "execution_count": 12,
   "metadata": {},
   "source": [
    "new_phase_circuit = PhaseCircuit(3)\n",
    "for gadget in gadgets:\n",
    "    new_phase_circuit >>= gadget\n",
    "print(f\"{(phase_circuit == new_phase_circuit) = }\")"
   ],
   "outputs": []
  },
  {
   "cell_type": "markdown",
   "metadata": {
    "slideshow": {
     "slide_type": "subslide"
    }
   },
   "source": [
    "The in-place right-shift operator `>>=` further allows gadget constructors parameters to be used directly, further enhancing legibility."
   ]
  },
  {
   "cell_type": "code",
   "execution_count": 13,
   "metadata": {},
   "source": [
    "new_phase_circuit = PhaseCircuit(3)\n",
    "new_phase_circuit >>= Z(pi/2) @ {0, 1}\n",
    "new_phase_circuit >>= X(pi) @ {0, 2}\n",
    "new_phase_circuit >>= X(-pi/4) @ {1, 2}\n",
    "new_phase_circuit >>= Z(pi/4) @ {0, 2}\n",
    "new_phase_circuit >>= X(pi/2) @ {0, 1}\n",
    "print(f\"{(phase_circuit == new_phase_circuit) = }\")"
   ],
   "outputs": []
  },
  {
   "cell_type": "markdown",
   "metadata": {
    "slideshow": {
     "slide_type": "subslide"
    }
   },
   "source": [
    "Gadgets (or their parameter triples) can also be passed to `>>=` in a sequence."
   ]
  },
  {
   "cell_type": "code",
   "execution_count": 14,
   "metadata": {},
   "source": [
    "new_phase_circuit = PhaseCircuit(3)\n",
    "new_phase_circuit >>= [Z(pi/2) @ {0, 1}, X(pi) @ {0, 2}, X(-pi/4) @ {1, 2},\n",
    "                       Z(pi/4) @ {0, 2}, X(pi/2) @ {0, 1}]\n",
    "print(f\"{(phase_circuit == new_phase_circuit) = }\")"
   ],
   "outputs": []
  },
  {
   "cell_type": "markdown",
   "metadata": {
    "slideshow": {
     "slide_type": "subslide"
    }
   },
   "source": [
    "A nicer-looking alternative name `π` for `pi` is also defined, so that this is valid code:"
   ]
  },
  {
   "cell_type": "code",
   "execution_count": 15,
   "metadata": {},
   "source": [
    "from pauliopt.utils import π\n",
    "circ = PhaseCircuit(3)\n",
    "circ >>= Z(π/2) @ {0, 1}\n",
    "circ >>= X(π) @ {0, 2}\n",
    "circ >>= X(-π/4) @ {1, 2}\n",
    "circ >>= Z(π/4) @ {0, 2}\n",
    "circ >>= X(π/2) @ {0, 1}"
   ],
   "outputs": []
  },
  {
   "cell_type": "markdown",
   "metadata": {
    "slideshow": {
     "slide_type": "slide"
    }
   },
   "source": [
    "## Drawing Circuits of Phase Gadgets\n",
    "\n",
    "The method `PhaseCircuit.to_svg(**kwargs)` returns an SVG representation of a circuit, for displaying purposes. The `PhaseCircuit` class defines the magic method `_repr_svg_`: in a Jupyter notebook, this display the circuit as an SVG image by default."
   ]
  },
  {
   "cell_type": "code",
   "execution_count": 16,
   "metadata": {},
   "source": [
    "phase_circuit"
   ],
   "outputs": []
  },
  {
   "cell_type": "markdown",
   "metadata": {
    "slideshow": {
     "slide_type": "subslide"
    }
   },
   "source": [
    "The default colours for the Z and X basis are `#D8F8D8` and Burning Orange `#E8A6A6` respectively, the colours indicated in [the ZX calculus accessibility page](https://zxcalculus.com/accessibility.html) and tested using this [simulator](https://www.color-blindness.com/coblis-color-blindness-simulator/) for colour-vision deficiency. \n",
    "The default colours can be overridden with the `zcolor` and `xcolor` keyword arguments of the `to_svg` method:"
   ]
  },
  {
   "cell_type": "code",
   "execution_count": 17,
   "metadata": {},
   "source": [
    "phase_circuit.to_svg(zcolor=\"green\", xcolor=\"red\")"
   ],
   "outputs": []
  },
  {
   "cell_type": "markdown",
   "metadata": {
    "slideshow": {
     "slide_type": "subslide"
    }
   },
   "source": [
    "The `to_svg` method also accepts keyword arguments `hscale` and `vscale` which can be used to scale the circuit horizontally and vertically:"
   ]
  },
  {
   "cell_type": "code",
   "execution_count": 18,
   "metadata": {},
   "source": [
    "display(phase_circuit.to_svg())\n",
    "display(phase_circuit.to_svg(hscale = 1.2, vscale=0.9))"
   ],
   "outputs": []
  },
  {
   "cell_type": "markdown",
   "metadata": {
    "slideshow": {
     "slide_type": "slide"
    }
   },
   "source": [
    "## Random Circuits\n",
    "\n",
    "The static method `PhaseCircuit.random(num_qubits, num_gadgets, **kwargs)` can be used to construct random circuits of mixed ZX phase gadgets. The allowed keyword arguments are:\n",
    "\n",
    "- `angle_subdivision` which sets the denominator for random multiples of $\\pi$ to be used as angles (default is 4, yielding 8 uniformly distributed angle values);\n",
    "- `min_legs` which optionally sets the minimum number of legs for the phase gadgets (default is `None`, minimum is 1);\n",
    "- `max_legs` which optionally sets the maximum number of legs for the phase gadgets (default is `None`, minimum is the value of `min_legs`);\n",
    "- `rng_seed` which optionally sets the seed for the random number generator (default is `None`, for unseeded random number generator).\n",
    "- `parametric` which optionally sets the gadget angles to be distinct angle variables, with name derived from the string passed to it."
   ]
  },
  {
   "cell_type": "code",
   "execution_count": 19,
   "metadata": {
    "scrolled": false,
    "slideshow": {
     "slide_type": "subslide"
    }
   },
   "source": [
    "PhaseCircuit.random(6, 6, angle_subdivision=8,\n",
    "                    min_legs=2, max_legs=4, rng_seed=5)"
   ],
   "outputs": []
  },
  {
   "cell_type": "code",
   "execution_count": 20,
   "metadata": {
    "slideshow": {
     "slide_type": "subslide"
    }
   },
   "source": [
    "PhaseCircuit.random(6, 6, parametric=\"θ\",\n",
    "                    min_legs=2, max_legs=4, rng_seed=5)"
   ],
   "outputs": []
  },
  {
   "cell_type": "markdown",
   "metadata": {
    "slideshow": {
     "slide_type": "subslide"
    }
   },
   "source": [
    "The `AngleVar` class from `pauliopt.utils` can be used to create angle variables with given name."
   ]
  },
  {
   "cell_type": "code",
   "execution_count": 27,
   "metadata": {},
   "source": [
    "from pauliopt.utils import AngleVar\n",
    "θ = [AngleVar(f\"θ[{i}]\") for i in range(6)]\n",
    "circ = PhaseCircuit(6)\n",
    "circ >>= X(θ[0]) @ {0, 2}\n",
    "circ >>= X(θ[1]) @ {0, 3, 4, 5}\n",
    "circ >>= X(θ[2]) @ {1, 5}\n",
    "circ >>= X(θ[3]) @ {1, 5}\n",
    "circ >>= X(θ[4]) @ {3, 4, 5}\n",
    "circ >>= Z(θ[5]) @ {2, 3, 4}\n",
    "circ"
   ],
   "outputs": []
  },
  {
   "cell_type": "markdown",
   "metadata": {
    "slideshow": {
     "slide_type": "slide"
    }
   },
   "source": [
    "## Conjugation by CX Gates\n",
    "\n",
    "The only operation that can be performed on mixed ZX phase gadget circuits is conjugation by a CX gate with given control and target. This is done through the method `PhaseCircuit.conj_by_cx(ctrl, trgt)`, which is unavailable on the read-only view.\n",
    "\n",
    "Consider the following circuit with a single Z phase gadget:"
   ]
  },
  {
   "cell_type": "code",
   "execution_count": 21,
   "metadata": {},
   "source": [
    "simple_circ = PhaseCircuit(3, [Z(pi/2) @ {1, 2}])\n",
    "simple_circ"
   ],
   "outputs": []
  },
  {
   "cell_type": "markdown",
   "metadata": {
    "slideshow": {
     "slide_type": "subslide"
    }
   },
   "source": [
    "We conjugate the circuit with a CX gate $CX_{0, 1}$ having the qubit 0 as control and the qubit 1 as target. The circuit $\\mathcal{C}$ is modified in-place, becoming $CX_{0, 1} \\circ \\mathcal{C} \\circ CX_{0, 1}$."
   ]
  },
  {
   "cell_type": "code",
   "execution_count": 22,
   "metadata": {},
   "source": [
    "svg_before = simple_circ.to_svg(svg_code_only=True)\n",
    "simple_circ.conj_by_cx(0, 1)\n",
    "svg_after = simple_circ.to_svg(svg_code_only=True)\n",
    "side_by_side(svg_before, \"<pre> ⎯⎯cx(0,1)⟶   </pre>\", svg_after)"
   ],
   "outputs": []
  },
  {
   "cell_type": "markdown",
   "metadata": {
    "slideshow": {
     "slide_type": "subslide"
    }
   },
   "source": [
    "Multiple conjugations can be concatenated (see the [fluent interface pattern](https://en.wikipedia.org/wiki/Fluent_interface))."
   ]
  },
  {
   "cell_type": "code",
   "execution_count": 23,
   "metadata": {},
   "source": [
    "svg_before = simple_circ.to_svg(svg_code_only=True)\n",
    "simple_circ.conj_by_cx(0, 1).conj_by_cx(1, 2)\n",
    "svg_after = simple_circ.to_svg(svg_code_only=True)\n",
    "side_by_side(svg_before, \"<pre> ⎯⎯cx(0,1)⎯⎯cx(1,2)⟶   </pre>\", svg_after)"
   ],
   "outputs": []
  },
  {
   "cell_type": "markdown",
   "metadata": {
    "slideshow": {
     "slide_type": "subslide"
    }
   },
   "source": [
    "As a more complicated example, we conjugate `phase_circuit` from before by the same CX gate."
   ]
  },
  {
   "cell_type": "code",
   "execution_count": 24,
   "metadata": {},
   "source": [
    "print(\"Original: \"); display(phase_circuit)\n",
    "phase_circuit.conj_by_cx(0, 1)\n",
    "print(\"Conjugated by CX(0, 1): \"); display(phase_circuit)"
   ],
   "outputs": []
  },
  {
   "cell_type": "markdown",
   "metadata": {
    "slideshow": {
     "slide_type": "subslide"
    }
   },
   "source": [
    "To avoid modification, a read-only view can be used in place of the actual circuit:"
   ]
  },
  {
   "cell_type": "code",
   "execution_count": 25,
   "metadata": {},
   "source": [
    "phase_circuit_view = phase_circuit.as_readonly\n",
    "try:\n",
    "    phase_circuit_view.conj_by_cx(0, 1)\n",
    "except Exception as e:\n",
    "    print(\"Exception:\", e)"
   ],
   "outputs": []
  }
 ],
 "metadata": {
  "celltoolbar": "Slideshow",
  "kernelspec": {
   "display_name": "Python 3",
   "language": "python",
   "name": "python3"
  },
  "language_info": {
   "codemirror_mode": {
    "name": "ipython",
    "version": 3
   },
   "file_extension": ".py",
   "mimetype": "text/x-python",
   "name": "python",
   "nbconvert_exporter": "python",
   "pygments_lexer": "ipython3",
   "version": "3.9.7"
  }
 },
 "nbformat": 4,
 "nbformat_minor": 4
}
