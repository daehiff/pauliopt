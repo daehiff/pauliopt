{
 "cells": [
  {
   "cell_type": "markdown",
   "metadata": {
    "slideshow": {
     "slide_type": "slide"
    }
   },
   "source": [
    "# Phase Circuit Simplification"
   ]
  },
  {
   "cell_type": "markdown",
   "metadata": {
    "slideshow": {
     "slide_type": "subslide"
    }
   },
   "source": [
    "Changing working directory from `./notebooks/` to `./`, in order to import the Python packages defined in the repository."
   ]
  },
  {
   "cell_type": "code",
   "execution_count": 1,
   "metadata": {},
   "source": [
    "import os\n",
    "DEBUG = True\n",
    "try:\n",
    "    print(\"Original working directory: %s\"%str(original_wd)) # type: ignore\n",
    "    \"\"\"\n",
    "        You only get here if you---by mistake or otherwise---are re-running this cell, \n",
    "        in which case the working should not be changed again.\n",
    "    \"\"\"\n",
    "except NameError:\n",
    "    original_wd = os.getcwd()\n",
    "    os.chdir('../')\n",
    "print(\"Current working directory: %s\"%str(os.getcwd()))"
   ],
   "outputs": []
  },
  {
   "cell_type": "markdown",
   "metadata": {
    "slideshow": {
     "slide_type": "subslide"
    }
   },
   "source": [
    "General purpose imports:"
   ]
  },
  {
   "cell_type": "code",
   "execution_count": 2,
   "metadata": {},
   "source": [
    "import matplotlib.pyplot as plt\n",
    "from IPython.display import set_matplotlib_formats\n",
    "%matplotlib inline\n",
    "set_matplotlib_formats('svg')\n",
    "import numpy as np\n",
    "# import qiskit"
   ],
   "outputs": []
  },
  {
   "cell_type": "markdown",
   "metadata": {
    "slideshow": {
     "slide_type": "subslide"
    }
   },
   "source": [
    "Some utility code to display HTML elements and images/figures side-by-side:"
   ]
  },
  {
   "cell_type": "code",
   "execution_count": 3,
   "metadata": {},
   "source": [
    "from io import BytesIO\n",
    "from typing import Union\n",
    "from IPython.display import Image, HTML # type: ignore\n",
    "def figure_to_image(fig: plt.Figure, fmt: str = \"png\") -> Image:\n",
    "    \"\"\" Converts a Matplotlib figure to a PNG IPython Image. \"\"\"\n",
    "    buffer = BytesIO()\n",
    "    fig.savefig(buffer, format=fmt)\n",
    "    buffer.seek(0)\n",
    "    image_png = buffer.getvalue()\n",
    "    buffer.close()\n",
    "    return Image(image_png, format=fmt, embed=True)\n",
    "def side_by_side(*elements: Union[str, Image]) -> HTML:\n",
    "    \"\"\"\n",
    "        Returns an HTML Div element with the given elements\n",
    "        displayed side by side. Accepts raw HTML code or\n",
    "        IPython Image objects.\n",
    "    \"\"\"\n",
    "    html = f\"<div style='display:flex; align-items: center;'>\"\n",
    "    for el in elements:\n",
    "        if isinstance(el, str):\n",
    "            html += el\n",
    "        elif isinstance(el, Image):\n",
    "            html += f\"<img src='data:image/png;base64,{el._repr_png_()}'/>\"\n",
    "    html += f\"</div>\"\n",
    "    return HTML(html)"
   ],
   "outputs": []
  },
  {
   "cell_type": "markdown",
   "metadata": {
    "slideshow": {
     "slide_type": "subslide"
    }
   },
   "source": [
    "Importing the necessary PauliOpt classes:"
   ]
  },
  {
   "cell_type": "code",
   "execution_count": 4,
   "metadata": {},
   "source": [
    "from pauliopt.phase import PhaseCircuit, PhaseGadget, Z, X\n",
    "from pauliopt.utils import pi, Angle\n",
    "from pauliopt.topologies import Topology"
   ],
   "outputs": []
  },
  {
   "cell_type": "markdown",
   "metadata": {
    "slideshow": {
     "slide_type": "subslide"
    }
   },
   "source": [
    "A modified version of `PhaseCircuit.simplified`, displaying intermediate steps:"
   ]
  },
  {
   "cell_type": "code",
   "execution_count": 5,
   "metadata": {},
   "source": [
    "from typing import Dict, FrozenSet, List, Literal, Tuple\n",
    "def display_step(num_qubits, pi_gates, groups):\n",
    "    # Create the new list of gadgets\n",
    "    new_gadgets: List[PhaseGadget] = []\n",
    "    for q in range(num_qubits):\n",
    "        if pi_gates[\"Z\"][q]%2 == 1:\n",
    "            # Single-qubit pi Z gate\n",
    "            new_gadgets.append(PhaseGadget(\"Z\", pi, {q}))\n",
    "    for q in range(num_qubits):\n",
    "        if pi_gates[\"X\"][q]%2 == 1:\n",
    "            # Single-qubit pi X gate\n",
    "            new_gadgets.append(PhaseGadget(\"X\", pi, {q}))\n",
    "    for basis, angles in groups:\n",
    "        for qubits, angle in angles.items():\n",
    "            angle = angle % (2*pi)\n",
    "            if angle != 0: # skip zero angle gadgets\n",
    "                new_gadgets.append(PhaseGadget(basis, angle, qubits))\n",
    "    display(PhaseCircuit(num_qubits, new_gadgets))\n",
    "def display_simplification(circ: PhaseCircuit):\n",
    "    num_qubits = circ.num_qubits\n",
    "    gadgets = [g for g in circ.gadgets if not g.angle.is_zero]\n",
    "    # Display original circuit\n",
    "    print(\"Original circuit:\")\n",
    "    display(circ)\n",
    "    # Groups of gadgets of the same basis, fused together where possible\n",
    "    GadgetGroup = Tuple[Literal[\"Z\", \"X\"], Dict[FrozenSet[int], Angle]]\n",
    "    groups: List[GadgetGroup] = [(\"Z\", {})]\n",
    "    # The pi gates will be collected separately here\n",
    "    pi_gates = {\n",
    "        \"Z\": [0 for _ in range(num_qubits)],\n",
    "        \"X\": [0 for _ in range(num_qubits)]\n",
    "    }\n",
    "    print(\"\\nIn the first phase of the algorithm, we progressively \"\n",
    "          \"grow groups of gadgets of the same colour, fusing where possible.\")\n",
    "    print(\"We start with an empty group for the Z basis.\\n\\n\")\n",
    "    step = 0\n",
    "    # Perform the grouping and fusion\n",
    "    for g in gadgets:\n",
    "        step += 1\n",
    "        basis, angles = groups[-1]\n",
    "        g_basis = g.basis\n",
    "        g_qubits = g.qubits\n",
    "        g_angle = g.angle\n",
    "        # Add the gadget to the current group, or create a new group.\n",
    "        if g_basis == basis:\n",
    "            # Add gadget to current group (fuse if possible)\n",
    "            if g_qubits in angles:\n",
    "                angles[g_qubits] += g_angle\n",
    "                print(f\"After Step {step}, fused gadget into current group:\")\n",
    "                display_step(num_qubits, pi_gates, groups)\n",
    "            else:\n",
    "                angles[g_qubits] = g_angle\n",
    "                print(f\"After Step {step}, added gadget to current group:\")\n",
    "                display_step(num_qubits, pi_gates, groups)\n",
    "        else:\n",
    "            # Create a new group (basis has changed)\n",
    "            groups.append((g_basis, {g_qubits: g_angle}))\n",
    "            print(f\"After Step {step}, created new gadget group:\")\n",
    "            display_step(num_qubits, pi_gates, groups)\n",
    "    print(\"\\nIn the second phase of the algorithm, we commute gadgets to the left.\")\n",
    "    print(\"We fuse gadgets into new groups if possible and apply pi-gadget simplification.\\n\")\n",
    "    # Perform all commutations, fusions and pi gadget simplifications\n",
    "    for i, (basis, angles) in enumerate(groups): # pylint: disable = too-many-nested-blocks\n",
    "        # Try commuting all gadgets to the left as much as possible\n",
    "        for qubits, angle in angles.items():\n",
    "            if angle == 0:\n",
    "                # Skip zeroed gadgets\n",
    "                continue\n",
    "            step += 1\n",
    "            # Try to commute the gadget to the left as much as possible\n",
    "            j = i # j is the current group to which the gadget has been commuted\n",
    "            obstacle_found = False # this records whether we found an obstacle\n",
    "            while not obstacle_found and j >= 2:\n",
    "                _, angles_commute = groups[j-1] # angles to commute through\n",
    "                for qubits_commute, angle_commute in angles_commute.items():\n",
    "                    if angle_commute.is_zero:\n",
    "                        # Zero angle gadget, not an obstable\n",
    "                        continue\n",
    "                    if len(qubits&qubits_commute) % 2 != 0:\n",
    "                        # Odd number of shared legs, obstacle found\n",
    "                        obstacle_found = True\n",
    "                        break\n",
    "                if not obstacle_found:\n",
    "                    # Go to the next group of same basis down the list\n",
    "                    j -= 2\n",
    "            # Fuse the gadget into the group, and apply pi gate simplification\n",
    "            pi_gadget = False\n",
    "            if j < i:\n",
    "                # We managed to perform some non-trivial commutation\n",
    "                angles[qubits] = Angle.zero\n",
    "                _, angles_fuse = groups[j]\n",
    "                if qubits in angles_fuse:\n",
    "                    # Fuse with existing gadget on same qubits and same basis\n",
    "                    angles_fuse[qubits] += angle\n",
    "                else:\n",
    "                    angles_fuse[qubits] = angle\n",
    "                    # Add gadget to group\n",
    "                if angles_fuse[qubits].is_pi:\n",
    "                    print(f\"Middle of Step {step}, commutation performed, pi-gadget handling to follow:\")\n",
    "                    display_step(num_qubits, pi_gates, groups)\n",
    "                    # This is a pi gadget, further simplification to be performed\n",
    "                    angles_fuse[qubits] = Angle.zero # Remove gadget from this group\n",
    "                    pi_gadget = True\n",
    "                else:\n",
    "                    print(f\"After Step {step}, commutation performed, no pi-gadget handling:\")\n",
    "                    display_step(num_qubits, pi_gates, groups)\n",
    "            elif angle.is_pi:\n",
    "                print(f\"Middle of Step {step}, no commutation performed, but pi-gadget handling to follow:\")\n",
    "                display_step(num_qubits, pi_gates, groups)\n",
    "                # We didn't manage to commute the gadget, but it is a pi gadget\n",
    "                angles[qubits] = Angle.zero # Remove gadget from this group\n",
    "                pi_gadget = True\n",
    "            else:\n",
    "                print(f\"After Step {step}, no commutation performed, no pi-gadget handling:\")\n",
    "                display_step(num_qubits, pi_gates, groups)\n",
    "            if pi_gadget:\n",
    "                # pi gadget\n",
    "                for k in range(0, j)[::-2]:\n",
    "                    # Commute through gadgets below of other basis, flipping sign if necessary\n",
    "                    _, angles_k = groups[k]\n",
    "                    for qubits_k in angles_k:\n",
    "                        if len(qubits_k&qubits)%2 == 1:\n",
    "                            # Odd number of legs in comon: flip sign\n",
    "                            angles_k[qubits_k] *= -1\n",
    "                for q in qubits:\n",
    "                    # Break into single-qubit pi gates, recorded separately (at start of circ)\n",
    "                    pi_gates[basis][q] += 1\n",
    "                print(f\"After Step {step}, pi-gadget handling performed:\")\n",
    "                display_step(num_qubits, pi_gates, groups)\n"
   ],
   "outputs": []
  },
  {
   "cell_type": "markdown",
   "metadata": {
    "slideshow": {
     "slide_type": "slide"
    }
   },
   "source": [
    "## Phase Circuit Construction\n",
    "\n",
    "The `PhaseCircuit` class has methods that can be used to add standard quantum gates to a phase circuit, implemented by phase gadgets."
   ]
  },
  {
   "cell_type": "markdown",
   "metadata": {
    "slideshow": {
     "slide_type": "subslide"
    }
   },
   "source": [
    "Pauli X, Y and Z gates:"
   ]
  },
  {
   "cell_type": "code",
   "execution_count": 6,
   "metadata": {},
   "source": [
    "circ = PhaseCircuit(3)\n",
    "circ.x(0)\n",
    "circ.y(1)\n",
    "circ.z(2)\n",
    "circ.to_svg()"
   ],
   "outputs": []
  },
  {
   "cell_type": "markdown",
   "metadata": {
    "slideshow": {
     "slide_type": "subslide"
    }
   },
   "source": [
    "Hadamard, S and T gates:"
   ]
  },
  {
   "cell_type": "code",
   "execution_count": 7,
   "metadata": {},
   "source": [
    "circ = PhaseCircuit(3)\n",
    "circ.h(0)\n",
    "circ.s(1)\n",
    "circ.t(2)\n",
    "circ.to_svg()"
   ],
   "outputs": []
  },
  {
   "cell_type": "markdown",
   "metadata": {
    "slideshow": {
     "slide_type": "subslide"
    }
   },
   "source": [
    "X, Y and Z rotation gates:"
   ]
  },
  {
   "cell_type": "code",
   "execution_count": 8,
   "metadata": {},
   "source": [
    "circ = PhaseCircuit(3)\n",
    "circ.rx(0, pi/2)\n",
    "circ.ry(1, 13*pi/8)\n",
    "circ.rz(2, 3*pi/4)\n",
    "circ.to_svg()"
   ],
   "outputs": []
  },
  {
   "cell_type": "markdown",
   "metadata": {
    "slideshow": {
     "slide_type": "subslide"
    }
   },
   "source": [
    "CX, CY and CZ gates:"
   ]
  },
  {
   "cell_type": "code",
   "execution_count": 9,
   "metadata": {},
   "source": [
    "circ = PhaseCircuit(6)\n",
    "circ.cx(0, 1)\n",
    "# circ.cy(2, 3) # to be implemented\n",
    "circ.cz(4, 5)\n",
    "circ.to_svg(scale=0.9)"
   ],
   "outputs": []
  },
  {
   "cell_type": "markdown",
   "metadata": {
    "slideshow": {
     "slide_type": "subslide"
    }
   },
   "source": [
    "Controlled X, Y and Z rotation gates and controlled U1 gate:"
   ]
  },
  {
   "cell_type": "code",
   "execution_count": 10,
   "metadata": {},
   "source": [
    "circ = PhaseCircuit(8)\n",
    "circ.crx(0, 1, pi/2)\n",
    "# circ.cry(2, 3, 13*pi/8) # to be implemented\n",
    "circ.crz(4, 5, 3*pi/4)\n",
    "circ.cu1(6, 7, 3*pi/4)\n",
    "circ.to_svg(scale=0.8)"
   ],
   "outputs": []
  },
  {
   "cell_type": "markdown",
   "metadata": {
    "slideshow": {
     "slide_type": "subslide"
    }
   },
   "source": [
    "Gate application can be concatenated for convenience (see the [fluent interface pattern](https://en.wikipedia.org/wiki/Fluent_interface))."
   ]
  },
  {
   "cell_type": "code",
   "execution_count": 11,
   "metadata": {},
   "source": [
    "circ = PhaseCircuit(4)\n",
    "circ.crx(0,2,pi).crx(0,2,pi).crz(3,1,pi/4).cx(2,1).cz(1,2).h(0)\n",
    "circ.to_svg(vscale=0.8, hscale=0.5)"
   ],
   "outputs": []
  },
  {
   "cell_type": "markdown",
   "metadata": {
    "slideshow": {
     "slide_type": "slide"
    }
   },
   "source": [
    "## Phase Circuit Simplification\n",
    "\n",
    "The commutation and fusion rules for phase gadgets can be used to deterministically simplify phase circuits:\n",
    "\n",
    "1. The gadgets are divided into contiguous blocks of same basis gadgets (alternating Z and X basis) and gadgets within the same group with the same legs are fused.\n",
    "2. Proceeding left-to-right through the groups:\n",
    "\n",
    "    1. each gadget in each group is commuted to the left as much as possible (commuting through gadgets with which it shares an even number of legs).\n",
    "    2. Once the leftmost possible group is reached by the commutation process of Step 2, the gadget is added to/fused into the group.\n",
    "    3. If the gadget just added/fused has an angle of $\\pi$, it is broken into single-qubit $\\pi$ gadgets for all its legs, which are commuted all the way to the beginning of the circuit. In this process, each single-qubit $\\pi$ gadget flips the sign of the angle for every gadget of the other basis which it commutes through and which shares a leg with it.\n",
    "    \n",
    "At the end of this process, each qubit has at most a single-qubit $\\pi$ gadget for each of the Z and X bases, at the beginning of the circuit. These $\\pi$ gates are followed by contiguous groups of gadgets of the same basis, no two gadgets in each group sharing exactly the same legs, no gadget in any group that can be non-trivially commuted leftward."
   ]
  },
  {
   "cell_type": "markdown",
   "metadata": {
    "slideshow": {
     "slide_type": "subslide"
    }
   },
   "source": [
    "A small example:"
   ]
  },
  {
   "cell_type": "code",
   "execution_count": 12,
   "metadata": {
    "scrolled": true
   },
   "source": [
    "circ = PhaseCircuit(2)\n",
    "circ.cx(0, 1).h(1).cz(0, 1)\n",
    "print(\"Original:\")\n",
    "display(circ.to_svg(vscale=0.8, hscale=0.5))\n",
    "print(\"\\nSimplified:\")\n",
    "circ_simplified = circ.simplified()\n",
    "display(circ_simplified.to_svg(vscale=0.8, hscale=0.5))"
   ],
   "outputs": []
  },
  {
   "cell_type": "markdown",
   "metadata": {
    "slideshow": {
     "slide_type": "subslide"
    }
   },
   "source": [
    "Another, longer example:"
   ]
  },
  {
   "cell_type": "code",
   "execution_count": 14,
   "metadata": {},
   "source": [
    "circ = PhaseCircuit(4)\n",
    "circ.crx(0,2,pi).crx(0,2,pi).crz(3,1,pi/4).cx(2,1).cz(1,2).h(0)\n",
    "print(\"Original:\")\n",
    "display(circ.to_svg(vscale=0.8, hscale=0.5))\n",
    "print(\"\\n\\nSimplified:\")\n",
    "circ_simplified = circ.simplified()\n",
    "display(circ_simplified.to_svg(vscale=0.7, hscale=0.6))"
   ],
   "outputs": []
  },
  {
   "cell_type": "markdown",
   "metadata": {
    "slideshow": {
     "slide_type": "subslide"
    }
   },
   "source": [
    "We take a look at the individual steps of the simplification procedure:"
   ]
  },
  {
   "cell_type": "code",
   "execution_count": 15,
   "metadata": {
    "scrolled": false
   },
   "source": [
    "topology = Topology.line(2)\n",
    "circuit = PhaseCircuit.random(topology.num_qubits, 12, min_legs=1, max_legs=2, rng_seed=6)\n",
    "display_simplification(circuit)"
   ],
   "outputs": []
  },
  {
   "cell_type": "markdown",
   "metadata": {
    "slideshow": {
     "slide_type": "slide"
    }
   },
   "source": [
    "## QASM circuit loading\n",
    "\n",
    "Phase circuits can be loaded from QASM programs, using the static `PhaseCircuit.from_qasm` method."
   ]
  },
  {
   "cell_type": "markdown",
   "metadata": {
    "slideshow": {
     "slide_type": "subslide"
    }
   },
   "source": [
    "The following is a QASM sample from the [QUEKO benchmarks](https://github.com/tbcdebug/QUEKO-benchmark): a 10-cycle circuit for the 16-qubit Rigetti Aspen-4 topology (specifically, `16QBT_10CYC_TFL_3` from the `BNTF` series)."
   ]
  },
  {
   "cell_type": "code",
   "execution_count": 16,
   "metadata": {},
   "source": [
    "qasm_code = \"\"\"\n",
    "OPENQASM 2.0;\n",
    "include \"qelib1.inc\";\n",
    "qreg q[16];\n",
    "x q[0];\n",
    "x q[2];\n",
    "x q[10];\n",
    "x q[9];\n",
    "x q[7];\n",
    "cx q[14], q[12];\n",
    "cx q[13], q[6];\n",
    "x q[0];\n",
    "x q[7];\n",
    "x q[11];\n",
    "x q[4];\n",
    "x q[5];\n",
    "cx q[12], q[1];\n",
    "cx q[6], q[10];\n",
    "x q[7];\n",
    "cx q[0], q[11];\n",
    "cx q[12], q[1];\n",
    "cx q[9], q[5];\n",
    "cx q[2], q[8];\n",
    "x q[10];\n",
    "x q[9];\n",
    "x q[4];\n",
    "x q[8];\n",
    "x q[3];\n",
    "cx q[11], q[14];\n",
    "cx q[15], q[2];\n",
    "cx q[12], q[7];\n",
    "cx q[13], q[0];\n",
    "x q[11];\n",
    "x q[7];\n",
    "x q[3];\n",
    "x q[12];\n",
    "x q[14];\n",
    "x q[8];\n",
    "cx q[6], q[10];\n",
    "cx q[13], q[0];\n",
    "x q[11];\n",
    "x q[8];\n",
    "x q[1];\n",
    "x q[14];\n",
    "x q[13];\n",
    "cx q[12], q[7];\n",
    "cx q[3], q[5];\n",
    "x q[9];\n",
    "x q[10];\n",
    "cx q[11], q[14];\n",
    "cx q[12], q[1];\n",
    "cx q[2], q[8];\n",
    "x q[11];\n",
    "x q[2];\n",
    "x q[4];\n",
    "x q[15];\n",
    "x q[8];\n",
    "x q[14];\n",
    "cx q[13], q[6];\n",
    "cx q[7], q[9];\n",
    "cx q[12], q[1];\n",
    "x q[11];\n",
    "x q[7];\n",
    "x q[9];\n",
    "x q[1];\n",
    "cx q[14], q[12];\n",
    "cx q[13], q[6];\n",
    "cx q[3], q[5];\n",
    "cx q[8], q[4];\n",
    "x q[11];\n",
    "x q[12];\n",
    "x q[0];\n",
    "x q[10];\n",
    "x q[14];\n",
    "cx q[7], q[9];\n",
    "cx q[3], q[5];\n",
    "cx q[8], q[4];\n",
    "\"\"\""
   ],
   "outputs": []
  },
  {
   "cell_type": "markdown",
   "metadata": {
    "slideshow": {
     "slide_type": "subslide"
    }
   },
   "source": [
    "We create a topology matching the one for the 16-qubit Rigetti Aspen-4 device:"
   ]
  },
  {
   "cell_type": "code",
   "execution_count": 17,
   "metadata": {},
   "source": [
    "rigetti_16q_topology = Topology(16,\n",
    "    [[i, (i+1)%8] for i in range(0,8)]\n",
    "    +[[8+i, 8+(i+1)%8] for i in range(0,8)]\n",
    "    +[[2, 13], [1, 14]]\n",
    ")\n",
    "rigetti_16q_topology.draw()"
   ],
   "outputs": []
  },
  {
   "cell_type": "markdown",
   "metadata": {
    "slideshow": {
     "slide_type": "subslide"
    }
   },
   "source": [
    "The QUEKO benchmarks come with an optimal mapping of logical-to-physical qubits for the given topology."
   ]
  },
  {
   "cell_type": "code",
   "execution_count": 18,
   "metadata": {},
   "source": [
    "optimal_mapping = [1, 10, 5, 15, 7, 14, 8, 12, 6, 13, 9, 2, 11, 0, 3, 4]"
   ],
   "outputs": []
  },
  {
   "cell_type": "markdown",
   "metadata": {
    "slideshow": {
     "slide_type": "subslide"
    }
   },
   "source": [
    "We compare the original and simplified circuits. For the CX count, we use the optimal mapping from the QUEKO benchmarks"
   ]
  },
  {
   "cell_type": "code",
   "execution_count": 19,
   "metadata": {},
   "source": [
    "circuit = PhaseCircuit.from_qasm(qasm_code)\n",
    "orig_len = len(circuit)\n",
    "orig_count = circuit.cx_count(rigetti_16q_topology, mapping=optimal_mapping)\n",
    "print(f\"Original number of gadgets: {orig_len}\")\n",
    "print(f\"Original CX count: {orig_count}\")\n",
    "display(circuit.to_svg(vscale=0.6, hscale=0.4))\n",
    "print(); print()\n",
    "circuit_simplified = circuit.simplified()\n",
    "simpl_len = len(circuit_simplified)\n",
    "simpl_count = circuit_simplified.cx_count(rigetti_16q_topology, mapping=optimal_mapping)\n",
    "len_change = (simpl_len-orig_len)/orig_len\n",
    "count_change = (simpl_count-orig_count)/orig_count\n",
    "print(f\"Simplified number of gadgets: {simpl_len} (change: {len_change:.1%})\")\n",
    "print(f\"Simplified CX count: {simpl_count} (change: {count_change:.1%})\")\n",
    "display(circuit_simplified.to_svg(vscale=0.6, hscale=0.4))"
   ],
   "outputs": []
  }
 ],
 "metadata": {
  "celltoolbar": "Slideshow",
  "kernelspec": {
   "display_name": "Python 3",
   "language": "python",
   "name": "python3"
  },
  "language_info": {
   "codemirror_mode": {
    "name": "ipython",
    "version": 3
   },
   "file_extension": ".py",
   "mimetype": "text/x-python",
   "name": "python",
   "nbconvert_exporter": "python",
   "pygments_lexer": "ipython3",
   "version": "3.9.7"
  }
 },
 "nbformat": 4,
 "nbformat_minor": 4
}
