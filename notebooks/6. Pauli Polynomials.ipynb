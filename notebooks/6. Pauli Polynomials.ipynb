{
 "cells": [
  {
   "cell_type": "code",
   "execution_count": 1,
   "id": "4abbaa6c",
   "metadata": {},
   "outputs": [],
   "source": [
    "from pauliopt.pauli.pauli_polynomial import PauliPolynomial\n",
    "from pauliopt.pauli.pauli_gadget import PPhase\n",
    "from pauliopt.pauli.utils import I, Z, X, Y\n",
    "from pauliopt.utils import Angle, pi\n",
    "from pauliopt.topologies import Topology"
   ]
  },
  {
   "cell_type": "markdown",
   "id": "173ba092",
   "metadata": {},
   "source": [
    "# Pauli Polynomials\n",
    "\n",
    "## Pauli Gadgets\n",
    "\n",
    "Pauli Gadgets are mathematical expressions defined as:\n",
    "\n",
    "$$\n",
    "P = \\exp(-i \\frac{\\alpha}{2} \\bigotimes_i P_i)\n",
    "$$\n",
    "\n",
    "Here, \\(P_i\\) represents one of the Pauli matrices:\n",
    "\n",
    "- Pauli-X:\n",
    "$$\n",
    "X = \\begin{bmatrix} 0 & 1 \\\\ 1 & 0 \\end{bmatrix}\n",
    "$$\n",
    "- Pauli-Y:\n",
    "$$\n",
    "Y = \\begin{bmatrix} 0 & -i \\\\ i & 0 \\end{bmatrix}\n",
    "$$\n",
    "- Pauli-Z:\n",
    "$$\n",
    "Z = \\begin{bmatrix} 1 & 0 \\\\ 0 & -1 \\end{bmatrix}\n",
    "$$\n",
    "- Identity:\n",
    "$$\n",
    "I = \\begin{bmatrix} 1 & 0 \\\\ 0 & 1 \\end{bmatrix}\n",
    "$$\n",
    "\n",
    "A formal definition and further information on Pauli gadgets can be found [here](https://arxiv.org/abs/1906.01734).\n",
    "\n",
    "Within `pauliopt`, Pauli gadgets are constructed in a similar way to Phase gadgets, following these steps:\n",
    "- An angle is required, which can be an instance of `pauliopt.utils.Angle` or any object that satisfies the `pauliopt.utils.AngleProtocol` protocol.\n",
    "- A list of legs is defined, where each leg corresponds to one of the Pauli matrices (X, Y, Z, I).\n",
    "- The qubits spanned by the Pauli gadget are determined by the length of the list. If there are no qubits to be acted on, the Identity matrix is used.\n",
    "\n",
    "Example:"
   ]
  },
  {
   "cell_type": "code",
   "execution_count": 2,
   "id": "a22d780c",
   "metadata": {},
   "outputs": [
    {
     "data": {
      "text/plain": [
       "(0.5) @ { I, Z, X, Y }"
      ]
     },
     "execution_count": 2,
     "metadata": {},
     "output_type": "execute_result"
    }
   ],
   "source": [
    "pauli_gadget = PPhase(0.5) @ [I, Z, X, Y] # TODO Angle(pi)\n",
    "pauli_gadget"
   ]
  },
  {
   "cell_type": "markdown",
   "id": "641c0890",
   "metadata": {},
   "source": [
    "We can define a Pauli gadget on a quantum circuit by following these steps:\n",
    "\n",
    "1. *Apply a set of Clifford gates:*\n",
    "   - If the Pauli gadget is X, place the H-Gate on the corresponding qubit.\n",
    "   - If the Pauli gadget is Y, apply the $\\sqrt{X}$ or V-Gate on the corresponding qubit.\n",
    "   - If the Pauli gadget is Z or the Identity, no additional gate is applied.\n",
    "2. *Create a CNOT-Ladder:*\n",
    "   - Implement a sequence of CNOT gates between the target qubit and the control qubits.\n",
    "3. *Perform an Rz(alpha) rotation:*\n",
    "   - Apply the Rz(alpha) gate on the target qubit.\n",
    "4. *Undo the process:*\n",
    "   - Reverse the CNOT-Ladder by applying the CNOT gates in the opposite order.\n",
    "   - Reapply the Clifford gates in the reverse order to undo their effects.\n",
    "\n",
    "Here's an example of a circuit showcasing these steps:"
   ]
  },
  {
   "cell_type": "code",
   "execution_count": 3,
   "id": "71d6fc47",
   "metadata": {},
   "outputs": [
    {
     "name": "stdout",
     "output_type": "stream",
     "text": [
      "                                                           \n",
      "q_0: ──────────────────────────────────────────────────────\n",
      "                     ┌───┐┌─────────┐┌───┐                 \n",
      "q_1: ────────────────┤ X ├┤ Rz(0.5) ├┤ X ├─────────────────\n",
      "        ┌───┐   ┌───┐└─┬─┘└─────────┘└─┬─┘┌───┐   ┌───┐    \n",
      "q_2: ───┤ H ├───┤ X ├──■───────────────■──┤ X ├───┤ H ├────\n",
      "     ┌──┴───┴──┐└─┬─┘                     └─┬─┘┌──┴───┴───┐\n",
      "q_3: ┤ Rx(π/2) ├──■─────────────────────────■──┤ Rx(-π/2) ├\n",
      "     └─────────┘                               └──────────┘\n"
     ]
    }
   ],
   "source": [
    "print(pauli_gadget.to_qiskit(Topology.line(4)))"
   ]
  },
  {
   "cell_type": "markdown",
   "id": "49fe3a52",
   "metadata": {},
   "source": [
    "## Pauli Polynomial\n",
    "\n",
    "To construct a Pauli polynomial, we can chain together multiple Pauli gadgets. Each Pauli gadget acts on a specific set of qubits and contributes to the overall transformation of the system (you can view this as n-dimensional rotations acting sequentially). \n",
    "\n",
    "Here's an example illustrating the construction of a Pauli polynomial:"
   ]
  },
  {
   "cell_type": "code",
   "execution_count": 4,
   "id": "1c72d4e0",
   "metadata": {},
   "outputs": [
    {
     "name": "stdout",
     "output_type": "stream",
     "text": [
      "(π) @ { I, I, X, Z, Y }\n",
      "(π/2) @ { X, X, I, I, Y }\n",
      "(π/256) @ { X, I, I, Z, Y }\n",
      "(π/8) @ { X, X, X, Z, Y }\n",
      "(π/4) @ { X, Z, I, I, Y }\n",
      "(π/2) @ { X, I, I, Y, Y }\n"
     ]
    }
   ],
   "source": [
    "pp = PauliPolynomial(5)\n",
    "\n",
    "pp >>= PPhase(Angle(pi)) @ [I, I, X, Z, Y]\n",
    "pp >>= PPhase(Angle(pi/2)) @ [X, X, I, I, Y]\n",
    "pp >>= PPhase(Angle(pi/256)) @ [X, I, I, Z, Y]\n",
    "pp >>= PPhase(Angle(pi/8)) @ [X, X, X, Z, Y]\n",
    "pp >>= PPhase(Angle(pi/4)) @ [X, Z, I, I, Y]\n",
    "pp >>= PPhase(Angle(pi/2)) @ [X, I, I, Y, Y]\n",
    "\n",
    "# Representation in CLI applications\n",
    "print(pp)"
   ]
  },
  {
   "cell_type": "code",
   "execution_count": 5,
   "id": "f2007e30",
   "metadata": {},
   "outputs": [
    {
     "data": {
      "image/svg+xml": [
       "<?xml version=\"1.0\" encoding=\"utf-8\"?>\n",
       "<!DOCTYPE svg PUBLIC \"-//W3C//DTD SVG 1.1//EN\" \"http://www.w3.org/Graphics/SVG/1.1/DTD/svg11.dtd\">\n",
       "<svg version=\"1.1\" xmlns=\"http://www.w3.org/2000/svg\" xmlns:xlink=\"http://www.w3.org/1999/xlink\" width=\"610\" height=\"200\"><linearGradient id=\"ycolor\" x1=\"0%\" x2=\"100%\" y1=\"100%\" y2=\"0%\"><stop offset=\"0%\"  stop-color=\"#CCFFCC\"/><stop offset=\"50%\"  stop-color=\"#CCFFCC\"/><stop offset=\"50%\"  stop-color=\"#FF8888\"/><stop offset=\"100%\"  stop-color=\"#FF8888\"/></linearGradient>\n",
       "<path fill=\"none\" stroke=\"black\" d=\"M 0, 130 L 10, 130\"/>\n",
       "<path d=\"M 60 30 Q 63 81 30 120\" fill=\"none\" stroke=\"black\"/>\n",
       "<rect fill=\"#CCFFCC\" stroke=\"black\" x=\"10\" y=\"120\" width=\"20\" height=\"20\"/>\n",
       "<path fill=\"none\" stroke=\"black\" d=\"M 0, 160 L 10, 160\"/>\n",
       "<path d=\"M 60 30 Q 74 97 30 150\" fill=\"none\" stroke=\"black\"/>\n",
       "<rect fill=\"#FF8888\" stroke=\"black\" x=\"10\" y=\"150\" width=\"20\" height=\"20\"/>\n",
       "<path fill=\"none\" stroke=\"black\" d=\"M 0, 190 L 10, 190\"/>\n",
       "<path d=\"M 60 30 Q 84 112 30 180\" fill=\"none\" stroke=\"black\"/>\n",
       "<rect fill=\"url(#ycolor)\" stroke=\"black\" x=\"10\" y=\"180\" width=\"20\" height=\"20\"/>\n",
       "<svg x=\"60\" y=\"10\" height=\"20\" width=\"50\"><rect x=\"0\" y=\"0\" width=\"100%\" height=\"100%\" stroke=\"black\" fill=\"white\" stroke-width=\"5 %\"/><text x=\"50%\" y=\"50%\" width=\"100%\" height=\"100%\" font-size=\"100%\" dominant-baseline=\"middle\" text-anchor=\"middle\" >π</text></svg>\n",
       "<path fill=\"none\" stroke=\"black\" d=\"M 0, 70 L 110, 70\"/>\n",
       "<path d=\"M 160 30 Q 145 45 130 60\" fill=\"none\" stroke=\"black\"/>\n",
       "<rect fill=\"#CCFFCC\" stroke=\"black\" x=\"110\" y=\"60\" width=\"20\" height=\"20\"/>\n",
       "<path fill=\"none\" stroke=\"black\" d=\"M 0, 100 L 110, 100\"/>\n",
       "<path d=\"M 160 30 Q 153 64 130 90\" fill=\"none\" stroke=\"black\"/>\n",
       "<rect fill=\"#CCFFCC\" stroke=\"black\" x=\"110\" y=\"90\" width=\"20\" height=\"20\"/>\n",
       "<path fill=\"none\" stroke=\"black\" d=\"M 30, 190 L 110, 190\"/>\n",
       "<path d=\"M 160 30 Q 184 112 130 180\" fill=\"none\" stroke=\"black\"/>\n",
       "<rect fill=\"url(#ycolor)\" stroke=\"black\" x=\"110\" y=\"180\" width=\"20\" height=\"20\"/>\n",
       "<svg x=\"160\" y=\"10\" height=\"20\" width=\"50\"><rect x=\"0\" y=\"0\" width=\"100%\" height=\"100%\" stroke=\"black\" fill=\"white\" stroke-width=\"5 %\"/><text x=\"50%\" y=\"50%\" width=\"100%\" height=\"100%\" font-size=\"100%\" dominant-baseline=\"middle\" text-anchor=\"middle\" >π/2</text></svg>\n",
       "<path fill=\"none\" stroke=\"black\" d=\"M 130, 70 L 210, 70\"/>\n",
       "<path d=\"M 260 30 Q 245 45 230 60\" fill=\"none\" stroke=\"black\"/>\n",
       "<rect fill=\"#CCFFCC\" stroke=\"black\" x=\"210\" y=\"60\" width=\"20\" height=\"20\"/>\n",
       "<path fill=\"none\" stroke=\"black\" d=\"M 30, 160 L 210, 160\"/>\n",
       "<path d=\"M 260 30 Q 274 97 230 150\" fill=\"none\" stroke=\"black\"/>\n",
       "<rect fill=\"#FF8888\" stroke=\"black\" x=\"210\" y=\"150\" width=\"20\" height=\"20\"/>\n",
       "<path fill=\"none\" stroke=\"black\" d=\"M 130, 190 L 210, 190\"/>\n",
       "<path d=\"M 260 30 Q 284 112 230 180\" fill=\"none\" stroke=\"black\"/>\n",
       "<rect fill=\"url(#ycolor)\" stroke=\"black\" x=\"210\" y=\"180\" width=\"20\" height=\"20\"/>\n",
       "<svg x=\"260\" y=\"10\" height=\"20\" width=\"50\"><rect x=\"0\" y=\"0\" width=\"100%\" height=\"100%\" stroke=\"black\" fill=\"white\" stroke-width=\"5 %\"/><text x=\"50%\" y=\"50%\" width=\"100%\" height=\"100%\" font-size=\"100%\" dominant-baseline=\"middle\" text-anchor=\"middle\" >π/256</text></svg>\n",
       "<path fill=\"none\" stroke=\"black\" d=\"M 230, 70 L 310, 70\"/>\n",
       "<path d=\"M 360 30 Q 345 45 330 60\" fill=\"none\" stroke=\"black\"/>\n",
       "<rect fill=\"#CCFFCC\" stroke=\"black\" x=\"310\" y=\"60\" width=\"20\" height=\"20\"/>\n",
       "<path fill=\"none\" stroke=\"black\" d=\"M 130, 100 L 310, 100\"/>\n",
       "<path d=\"M 360 30 Q 353 64 330 90\" fill=\"none\" stroke=\"black\"/>\n",
       "<rect fill=\"#CCFFCC\" stroke=\"black\" x=\"310\" y=\"90\" width=\"20\" height=\"20\"/>\n",
       "<path fill=\"none\" stroke=\"black\" d=\"M 30, 130 L 310, 130\"/>\n",
       "<path d=\"M 360 30 Q 363 81 330 120\" fill=\"none\" stroke=\"black\"/>\n",
       "<rect fill=\"#CCFFCC\" stroke=\"black\" x=\"310\" y=\"120\" width=\"20\" height=\"20\"/>\n",
       "<path fill=\"none\" stroke=\"black\" d=\"M 230, 160 L 310, 160\"/>\n",
       "<path d=\"M 360 30 Q 374 97 330 150\" fill=\"none\" stroke=\"black\"/>\n",
       "<rect fill=\"#FF8888\" stroke=\"black\" x=\"310\" y=\"150\" width=\"20\" height=\"20\"/>\n",
       "<path fill=\"none\" stroke=\"black\" d=\"M 230, 190 L 310, 190\"/>\n",
       "<path d=\"M 360 30 Q 384 112 330 180\" fill=\"none\" stroke=\"black\"/>\n",
       "<rect fill=\"url(#ycolor)\" stroke=\"black\" x=\"310\" y=\"180\" width=\"20\" height=\"20\"/>\n",
       "<svg x=\"360\" y=\"10\" height=\"20\" width=\"50\"><rect x=\"0\" y=\"0\" width=\"100%\" height=\"100%\" stroke=\"black\" fill=\"white\" stroke-width=\"5 %\"/><text x=\"50%\" y=\"50%\" width=\"100%\" height=\"100%\" font-size=\"100%\" dominant-baseline=\"middle\" text-anchor=\"middle\" >π/8</text></svg>\n",
       "<path fill=\"none\" stroke=\"black\" d=\"M 330, 70 L 410, 70\"/>\n",
       "<path d=\"M 460 30 Q 445 45 430 60\" fill=\"none\" stroke=\"black\"/>\n",
       "<rect fill=\"#CCFFCC\" stroke=\"black\" x=\"410\" y=\"60\" width=\"20\" height=\"20\"/>\n",
       "<path fill=\"none\" stroke=\"black\" d=\"M 330, 100 L 410, 100\"/>\n",
       "<path d=\"M 460 30 Q 453 64 430 90\" fill=\"none\" stroke=\"black\"/>\n",
       "<rect fill=\"#FF8888\" stroke=\"black\" x=\"410\" y=\"90\" width=\"20\" height=\"20\"/>\n",
       "<path fill=\"none\" stroke=\"black\" d=\"M 330, 190 L 410, 190\"/>\n",
       "<path d=\"M 460 30 Q 484 112 430 180\" fill=\"none\" stroke=\"black\"/>\n",
       "<rect fill=\"url(#ycolor)\" stroke=\"black\" x=\"410\" y=\"180\" width=\"20\" height=\"20\"/>\n",
       "<svg x=\"460\" y=\"10\" height=\"20\" width=\"50\"><rect x=\"0\" y=\"0\" width=\"100%\" height=\"100%\" stroke=\"black\" fill=\"white\" stroke-width=\"5 %\"/><text x=\"50%\" y=\"50%\" width=\"100%\" height=\"100%\" font-size=\"100%\" dominant-baseline=\"middle\" text-anchor=\"middle\" >π/4</text></svg>\n",
       "<path fill=\"none\" stroke=\"black\" d=\"M 430, 70 L 510, 70\"/>\n",
       "<path d=\"M 560 30 Q 545 45 530 60\" fill=\"none\" stroke=\"black\"/>\n",
       "<rect fill=\"#CCFFCC\" stroke=\"black\" x=\"510\" y=\"60\" width=\"20\" height=\"20\"/>\n",
       "<path fill=\"none\" stroke=\"black\" d=\"M 330, 160 L 510, 160\"/>\n",
       "<path d=\"M 560 30 Q 574 97 530 150\" fill=\"none\" stroke=\"black\"/>\n",
       "<rect fill=\"url(#ycolor)\" stroke=\"black\" x=\"510\" y=\"150\" width=\"20\" height=\"20\"/>\n",
       "<path fill=\"none\" stroke=\"black\" d=\"M 430, 190 L 510, 190\"/>\n",
       "<path d=\"M 560 30 Q 584 112 530 180\" fill=\"none\" stroke=\"black\"/>\n",
       "<rect fill=\"url(#ycolor)\" stroke=\"black\" x=\"510\" y=\"180\" width=\"20\" height=\"20\"/>\n",
       "<svg x=\"560\" y=\"10\" height=\"20\" width=\"50\"><rect x=\"0\" y=\"0\" width=\"100%\" height=\"100%\" stroke=\"black\" fill=\"white\" stroke-width=\"5 %\"/><text x=\"50%\" y=\"50%\" width=\"100%\" height=\"100%\" font-size=\"100%\" dominant-baseline=\"middle\" text-anchor=\"middle\" >π/2</text></svg>\n",
       "<path fill=\"none\" stroke=\"black\" d=\"M 530, 70 L 610, 70\"/>\n",
       "<path fill=\"none\" stroke=\"black\" d=\"M 430, 100 L 610, 100\"/>\n",
       "<path fill=\"none\" stroke=\"black\" d=\"M 330, 130 L 610, 130\"/>\n",
       "<path fill=\"none\" stroke=\"black\" d=\"M 530, 160 L 610, 160\"/>\n",
       "<path fill=\"none\" stroke=\"black\" d=\"M 530, 190 L 610, 190\"/>\n",
       "</svg>"
      ],
      "text/plain": [
       "(π) @ { I, I, X, Z, Y }\n",
       "(π/2) @ { X, X, I, I, Y }\n",
       "(π/256) @ { X, I, I, Z, Y }\n",
       "(π/8) @ { X, X, X, Z, Y }\n",
       "(π/4) @ { X, Z, I, I, Y }\n",
       "(π/2) @ { X, I, I, Y, Y }"
      ]
     },
     "execution_count": 5,
     "metadata": {},
     "output_type": "execute_result"
    }
   ],
   "source": [
    "# SVG representation in e.g. Jupyter notebooks\n",
    "pp"
   ]
  },
  {
   "cell_type": "markdown",
   "id": "b74b67a2",
   "metadata": {},
   "source": [
    "An example circuit of the Pauli Polynomial above, can be generated as follows:"
   ]
  },
  {
   "cell_type": "code",
   "execution_count": 6,
   "id": "08d1f442",
   "metadata": {
    "scrolled": false
   },
   "outputs": [
    {
     "name": "stdout",
     "output_type": "stream",
     "text": [
      "        ┌───┐                                                       ┌───┐┌───┐»\n",
      "q_0: ───┤ H ├───────────────────────────────────────────────────────┤ X ├┤ X ├»\n",
      "        ├───┤                                                       └─┬─┘└─┬─┘»\n",
      "q_1: ───┤ H ├─────────────────────────────────────────────────────────┼────■──»\n",
      "        ├───┤   ┌───┐┌───┐┌───────┐┌───┐┌───┐   ┌───┐       ┌───┐     │       »\n",
      "q_2: ───┤ H ├───┤ X ├┤ X ├┤ Rz(π) ├┤ X ├┤ X ├───┤ H ├───────┤ H ├─────┼───────»\n",
      "        └───┘   └─┬─┘└─┬─┘└───────┘└─┬─┘└─┬─┘   └───┘       └───┘     │       »\n",
      "q_3: ─────────────┼────■─────────────■────┼───────────────────────────┼───────»\n",
      "     ┌─────────┐  │                       │  ┌──────────┐┌─────────┐  │       »\n",
      "q_4: ┤ Rx(π/2) ├──■───────────────────────■──┤ Rx(-π/2) ├┤ Rx(π/2) ├──■───────»\n",
      "     └─────────┘                             └──────────┘└─────────┘          »\n",
      "«     ┌─────────┐┌───┐┌───┐   ┌───┐       ┌───┐   ┌───┐┌───┐┌───────────┐┌───┐»\n",
      "«q_0: ┤ Rz(π/2) ├┤ X ├┤ X ├───┤ H ├───────┤ H ├───┤ X ├┤ X ├┤ Rz(π/256) ├┤ X ├»\n",
      "«     └─────────┘└─┬─┘└─┬─┘   ├───┤       ├───┤   └─┬─┘└─┬─┘└───────────┘└─┬─┘»\n",
      "«q_1: ─────────────■────┼─────┤ H ├───────┤ H ├─────┼────┼─────────────────┼──»\n",
      "«                       │     └───┘       └───┘     │    │                 │  »\n",
      "«q_2: ──────────────────┼───────────────────────────┼────┼─────────────────┼──»\n",
      "«                       │                           │    │                 │  »\n",
      "«q_3: ──────────────────┼───────────────────────────┼────■─────────────────■──»\n",
      "«                       │  ┌──────────┐┌─────────┐  │                         »\n",
      "«q_4: ──────────────────■──┤ Rx(-π/2) ├┤ Rx(π/2) ├──■─────────────────────────»\n",
      "«                          └──────────┘└─────────┘                            »\n",
      "«     ┌───┐   ┌───┐       ┌───┐   ┌───┐┌───┐┌───┐┌───┐┌─────────┐┌───┐┌───┐»\n",
      "«q_0: ┤ X ├───┤ H ├───────┤ H ├───┤ X ├┤ X ├┤ X ├┤ X ├┤ Rz(π/8) ├┤ X ├┤ X ├»\n",
      "«     └─┬─┘   └───┘       └───┘   └─┬─┘└─┬─┘└─┬─┘└─┬─┘└─────────┘└─┬─┘└─┬─┘»\n",
      "«q_1: ──┼───────────────────────────┼────┼────┼────■───────────────■────┼──»\n",
      "«       │                           │    │    │                         │  »\n",
      "«q_2: ──┼───────────────────────────┼────┼────■─────────────────────────■──»\n",
      "«       │                           │    │                                 »\n",
      "«q_3: ──┼───────────────────────────┼────■─────────────────────────────────»\n",
      "«       │  ┌──────────┐┌─────────┐  │                                      »\n",
      "«q_4: ──■──┤ Rx(-π/2) ├┤ Rx(π/2) ├──■──────────────────────────────────────»\n",
      "«          └──────────┘└─────────┘                                         »\n",
      "«          ┌───┐┌───┐   ┌───┐       ┌───┐   ┌───┐┌───┐┌─────────┐┌───┐┌───┐»\n",
      "«q_0: ─────┤ X ├┤ X ├───┤ H ├───────┤ H ├───┤ X ├┤ X ├┤ Rz(π/4) ├┤ X ├┤ X ├»\n",
      "«     ┌───┐└─┬─┘└─┬─┘   └───┘       └───┘   └─┬─┘└─┬─┘└─────────┘└─┬─┘└─┬─┘»\n",
      "«q_1: ┤ H ├──┼────┼───────────────────────────┼────■───────────────■────┼──»\n",
      "«     ├───┤  │    │                           │                         │  »\n",
      "«q_2: ┤ H ├──┼────┼───────────────────────────┼─────────────────────────┼──»\n",
      "«     └───┘  │    │  ┌─────────┐              │                         │  »\n",
      "«q_3: ───────■────┼──┤ Rx(π/2) ├──────────────┼─────────────────────────┼──»\n",
      "«                 │  ├─────────┴┐┌─────────┐  │                         │  »\n",
      "«q_4: ────────────■──┤ Rx(-π/2) ├┤ Rx(π/2) ├──■─────────────────────────■──»\n",
      "«                    └──────────┘└─────────┘                               »\n",
      "«        ┌───┐       ┌───┐   ┌───┐┌───┐┌─────────┐┌───┐┌───┐   ┌───┐    \n",
      "«q_0: ───┤ H ├───────┤ H ├───┤ X ├┤ X ├┤ Rz(π/2) ├┤ X ├┤ X ├───┤ H ├────\n",
      "«        └───┘       └───┘   └─┬─┘└─┬─┘└─────────┘└─┬─┘└─┬─┘   └───┘    \n",
      "«q_1: ─────────────────────────┼────┼───────────────┼────┼──────────────\n",
      "«                              │    │               │    │              \n",
      "«q_2: ─────────────────────────┼────┼───────────────┼────┼──────────────\n",
      "«                              │    │               │    │  ┌──────────┐\n",
      "«q_3: ─────────────────────────┼────■───────────────■────┼──┤ Rx(-π/2) ├\n",
      "«     ┌──────────┐┌─────────┐  │                         │  ├──────────┤\n",
      "«q_4: ┤ Rx(-π/2) ├┤ Rx(π/2) ├──■─────────────────────────■──┤ Rx(-π/2) ├\n",
      "«     └──────────┘└─────────┘                               └──────────┘\n"
     ]
    }
   ],
   "source": [
    "print(pp.to_qiskit())"
   ]
  },
  {
   "cell_type": "markdown",
   "id": "dc2407ad",
   "metadata": {},
   "source": [
    "It is also possible to route such a polynomial on a certain type of architecture"
   ]
  },
  {
   "cell_type": "code",
   "execution_count": 7,
   "id": "774fb7c8",
   "metadata": {},
   "outputs": [
    {
     "name": "stdout",
     "output_type": "stream",
     "text": [
      "        ┌───┐                                                                 »\n",
      "q_0: ───┤ H ├─────────────────────────────────────────────────────────────────»\n",
      "        ├───┤                                                                 »\n",
      "q_1: ───┤ H ├─────────────────────────────────────────────────────────────────»\n",
      "        ├───┤        ┌───┐┌───────┐┌───┐┌───┐                                 »\n",
      "q_2: ───┤ H ├────────┤ X ├┤ Rz(π) ├┤ X ├┤ H ├─────────────────────────────────»\n",
      "        └───┘   ┌───┐└─┬─┘└───────┘└─┬─┘├───┤                            ┌───┐»\n",
      "q_3: ───────────┤ X ├──■─────────────■──┤ X ├─────────────────────────■──┤ X ├»\n",
      "     ┌─────────┐└─┬─┘                   └─┬─┘┌──────────┐┌─────────┐┌─┴─┐└─┬─┘»\n",
      "q_4: ┤ Rx(π/2) ├──■───────────────────────■──┤ Rx(-π/2) ├┤ Rx(π/2) ├┤ X ├──■──»\n",
      "     └─────────┘                             └──────────┘└─────────┘└───┘     »\n",
      "«                    ┌───┐┌─────────┐┌───┐┌───┐┌───┐                           »\n",
      "«q_0: ───────────────┤ X ├┤ Rz(π/2) ├┤ X ├┤ H ├┤ H ├───────────────────────────»\n",
      "«               ┌───┐└─┬─┘└─────────┘└─┬─┘├───┤├───┤                           »\n",
      "«q_1: ──────────┤ X ├──■───────────────■──┤ X ├┤ H ├───────────────────────────»\n",
      "«          ┌───┐└─┬─┘                     └─┬─┘├───┤                           »\n",
      "«q_2: ──■──┤ X ├──■─────────────────────────■──┤ X ├──■────────────────────────»\n",
      "«     ┌─┴─┐└─┬─┘                               └─┬─┘┌─┴─┐┌───┐                 »\n",
      "«q_3: ┤ X ├──■───────────────────────────────────■──┤ X ├┤ X ├──■──────────────»\n",
      "«     └───┘                                         └───┘└─┬─┘┌─┴─┐┌──────────┐»\n",
      "«q_4: ─────────────────────────────────────────────────────■──┤ X ├┤ Rx(-π/2) ├»\n",
      "«                                                             └───┘└──────────┘»\n",
      "«                                         ┌───┐┌───────────┐┌───┐┌───┐┌───┐»\n",
      "«q_0: ────────────────────────────────────┤ X ├┤ Rz(π/256) ├┤ X ├┤ H ├┤ H ├»\n",
      "«                                    ┌───┐└─┬─┘└───────────┘└─┬─┘├───┤└───┘»\n",
      "«q_1: ────────────────────────────■──┤ X ├──■─────────────────■──┤ X ├──■──»\n",
      "«                          ┌───┐┌─┴─┐└─┬─┘                       └─┬─┘┌─┴─┐»\n",
      "«q_2: ──────────────────■──┤ X ├┤ X ├──■───────────────────────────■──┤ X ├»\n",
      "«                ┌───┐┌─┴─┐└─┬─┘└───┘                                 └───┘»\n",
      "«q_3: ───────────┤ X ├┤ X ├──■─────────────────────────────────────────────»\n",
      "«     ┌─────────┐└─┬─┘└───┘                                                »\n",
      "«q_4: ┤ Rx(π/2) ├──■───────────────────────────────────────────────────────»\n",
      "«     └─────────┘                                                          »\n",
      "«                                                          ┌───┐┌─────────┐»\n",
      "«q_0: ─────────────────────────────────────────────────────┤ X ├┤ Rz(π/8) ├»\n",
      "«     ┌───┐                                           ┌───┐└─┬─┘└─────────┘»\n",
      "«q_1: ┤ H ├───────────────────────────────────────────┤ X ├──■─────────────»\n",
      "«     ├───┤     ┌───┐                            ┌───┐└─┬─┘                »\n",
      "«q_2: ┤ X ├──■──┤ H ├────────────────────────────┤ X ├──■──────────────────»\n",
      "«     └─┬─┘┌─┴─┐├───┤                       ┌───┐└─┬─┘                     »\n",
      "«q_3: ──■──┤ X ├┤ X ├───────────────────────┤ X ├──■───────────────────────»\n",
      "«          └───┘└─┬─┘┌──────────┐┌─────────┐└─┬─┘                          »\n",
      "«q_4: ────────────■──┤ Rx(-π/2) ├┤ Rx(π/2) ├──■────────────────────────────»\n",
      "«                    └──────────┘└─────────┘                               »\n",
      "«     ┌───┐┌───┐┌───┐                                                     ┌───┐»\n",
      "«q_0: ┤ X ├┤ H ├┤ H ├─────────────────────────────────────────────────────┤ X ├»\n",
      "«     └─┬─┘├───┤├───┤                                                ┌───┐└─┬─┘»\n",
      "«q_1: ──■──┤ X ├┤ H ├────────────────────────────────────────────────┤ X ├──■──»\n",
      "«          └─┬─┘├───┤┌───┐                                      ┌───┐└─┬─┘     »\n",
      "«q_2: ───────■──┤ X ├┤ H ├───────────────────────────────────■──┤ X ├──■───────»\n",
      "«               └─┬─┘├───┤                            ┌───┐┌─┴─┐└─┬─┘          »\n",
      "«q_3: ────────────■──┤ X ├─────────────────────────■──┤ X ├┤ X ├──■────────────»\n",
      "«                    └─┬─┘┌──────────┐┌─────────┐┌─┴─┐└─┬─┘└───┘               »\n",
      "«q_4: ─────────────────■──┤ Rx(-π/2) ├┤ Rx(π/2) ├┤ X ├──■──────────────────────»\n",
      "«                         └──────────┘└─────────┘└───┘                         »\n",
      "«     ┌─────────┐┌───┐┌───┐┌───┐                                           »\n",
      "«q_0: ┤ Rz(π/4) ├┤ X ├┤ H ├┤ H ├───────────────────────────────────────────»\n",
      "«     └─────────┘└─┬─┘├───┤└───┘                                           »\n",
      "«q_1: ─────────────■──┤ X ├────────────────────────────────────────────────»\n",
      "«                     └─┬─┘┌───┐                                           »\n",
      "«q_2: ──────────────────■──┤ X ├──■────────────────────────────────────────»\n",
      "«                          └─┬─┘┌─┴─┐┌───┐     ┌─────────┐            ┌───┐»\n",
      "«q_3: ───────────────────────■──┤ X ├┤ X ├──■──┤ Rx(π/2) ├────────────┤ X ├»\n",
      "«                               └───┘└─┬─┘┌─┴─┐├─────────┴┐┌─────────┐└─┬─┘»\n",
      "«q_4: ─────────────────────────────────■──┤ X ├┤ Rx(-π/2) ├┤ Rx(π/2) ├──■──»\n",
      "«                                         └───┘└──────────┘└─────────┘     »\n",
      "«                         ┌───┐┌─────────┐┌───┐┌───┐                    »\n",
      "«q_0: ────────────────────┤ X ├┤ Rz(π/2) ├┤ X ├┤ H ├────────────────────»\n",
      "«                    ┌───┐└─┬─┘└─────────┘└─┬─┘├───┤                    »\n",
      "«q_1: ────────────■──┤ X ├──■───────────────■──┤ X ├──■─────────────────»\n",
      "«          ┌───┐┌─┴─┐└─┬─┘                     └─┬─┘┌─┴─┐┌───┐          »\n",
      "«q_2: ──■──┤ X ├┤ X ├──■─────────────────────────■──┤ X ├┤ X ├──■───────»\n",
      "«     ┌─┴─┐└─┬─┘└───┘                               └───┘└─┬─┘┌─┴─┐┌───┐»\n",
      "«q_3: ┤ X ├──■─────────────────────────────────────────────■──┤ X ├┤ X ├»\n",
      "«     └───┘                                                   └───┘└─┬─┘»\n",
      "«q_4: ───────────────────────────────────────────────────────────────■──»\n",
      "«                                                                       »\n",
      "«                 \n",
      "«q_0: ────────────\n",
      "«                 \n",
      "«q_1: ────────────\n",
      "«                 \n",
      "«q_2: ────────────\n",
      "«     ┌──────────┐\n",
      "«q_3: ┤ Rx(-π/2) ├\n",
      "«     ├──────────┤\n",
      "«q_4: ┤ Rx(-π/2) ├\n",
      "«     └──────────┘\n"
     ]
    }
   ],
   "source": [
    "print(pp.to_qiskit(Topology.line(pp.num_qubits)))"
   ]
  },
  {
   "cell_type": "code",
   "execution_count": null,
   "id": "a674d6c8",
   "metadata": {},
   "outputs": [],
   "source": []
  }
 ],
 "metadata": {
  "kernelspec": {
   "display_name": "Python 3 (ipykernel)",
   "language": "python",
   "name": "python3"
  },
  "language_info": {
   "codemirror_mode": {
    "name": "ipython",
    "version": 3
   },
   "file_extension": ".py",
   "mimetype": "text/x-python",
   "name": "python",
   "nbconvert_exporter": "python",
   "pygments_lexer": "ipython3",
   "version": "3.9.16"
  }
 },
 "nbformat": 4,
 "nbformat_minor": 5
}
