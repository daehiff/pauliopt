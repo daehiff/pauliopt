{
 "cells": [
  {
   "cell_type": "code",
   "execution_count": 1,
   "id": "5897e427-ba10-44b9-a36b-b0f6eab99539",
   "metadata": {},
   "source": [
    "from pauliopt.clifford.tableau import CliffordTableau\n",
    "import qiskit\n",
    "from qiskit import QuantumCircuit, transpile\n",
    "from qiskit.quantum_info import Operator\n",
    "import pandas as pd\n",
    "import matplotlib.pyplot as plt\n",
    "import seaborn as sns\n",
    "import numpy as np"
   ],
   "outputs": []
  },
  {
   "cell_type": "markdown",
   "id": "74a06002-d8ac-482f-92af-6d2c3363cc62",
   "metadata": {},
   "source": [
    "# Clifford Tableau Synthesis\n",
    "This is an outline of our work: *Architecture-Aware Synthesis of Stabilizer Circuits from Clifford Tableaus* (arxiv: 2309.08972). \n"
   ]
  },
  {
   "cell_type": "markdown",
   "id": "b718741a-904c-4dbd-b547-b1acd1059f99",
   "metadata": {
    "jp-MarkdownHeadingCollapsed": true
   },
   "source": [
    "## Clifford Tableaus\n",
    "\n",
    "Clifford tableaus are a compact way to represent quantum states and operations in the stabilizer formalism, which is a subset of all quantum operations that can be efficiently simulated classically. These tableaus are particularly useful in the study and simulation of quantum error-correcting codes and certain quantum algorithms.\n",
    "\n",
    "In the stabilizer formalism, the state of a quantum system is described by a set of stabilizer generators, which are Pauli operators (combinations of I, X, Y, and Z) that leave the state invariant. Similarly, destabilizer states are those not stabilized by the set of generators, offering a complete description of the system.\n",
    "\n",
    "A Clifford tableau is a binary matrix representation of these stabilizer and destabilizer states. Each row represents a stabilizer or destabilizer generator, and the columns correspond to the qubits and the Pauli operators acting on them. The tableau allows for efficient computation of the evolution of stabilizer states under Clifford operations (like CNOT-, H-, and S-gates) which are central to quantum error correction and fault-tolerant quantum computing.\n",
    "\n",
    "In Pauliopt a Clifford Tableau can be constructed as follows:"
   ]
  },
  {
   "cell_type": "code",
   "execution_count": 2,
   "id": "2c5d9a64-89ee-4a41-9d6a-a7d0427d4408",
   "metadata": {},
   "source": [
    "ct = CliffordTableau(5)\n",
    "\n",
    "print(ct)"
   ],
   "outputs": []
  },
  {
   "cell_type": "markdown",
   "id": "8ae30085-830e-49ce-b8a9-0e803abedfde",
   "metadata": {},
   "source": [
    "You can append/prepend H, S and CNOT operations:"
   ]
  },
  {
   "cell_type": "code",
   "execution_count": 3,
   "id": "22484d08-76cb-495a-9166-3f0d7f196ca0",
   "metadata": {},
   "source": [
    "ct.append_h(0)\n",
    "\n",
    "print(ct)"
   ],
   "outputs": []
  },
  {
   "cell_type": "code",
   "execution_count": 4,
   "id": "c8ce6f29-14aa-4ea8-9e2e-2ea1bcd1bf5c",
   "metadata": {},
   "source": [
    "ct.prepend_cnot(0, 1)\n",
    "\n",
    "print(ct)"
   ],
   "outputs": []
  },
  {
   "cell_type": "code",
   "execution_count": 5,
   "id": "44106b1d-fff9-49a1-9edf-d6c2b790565b",
   "metadata": {},
   "source": [
    "ct.prepend_s(0)\n",
    "\n",
    "print(ct)"
   ],
   "outputs": []
  },
  {
   "cell_type": "markdown",
   "id": "c691f181-fc0c-4f30-8639-e9d8c8071922",
   "metadata": {},
   "source": [
    "Internally the tableau is stored in a $2n \\times 2n$ binary matrix, which records the appending/prepending operations according to [1]."
   ]
  },
  {
   "cell_type": "code",
   "execution_count": 6,
   "id": "fdeb3e45-e4bf-409e-bcd8-b41ed8455d57",
   "metadata": {},
   "source": [
    "ct.tableau"
   ],
   "outputs": []
  },
  {
   "cell_type": "code",
   "execution_count": 7,
   "id": "4174ecb7-a4d4-4a9a-9707-46f885d1014d",
   "metadata": {},
   "source": [
    "ct.signs"
   ],
   "outputs": []
  },
  {
   "cell_type": "markdown",
   "id": "3f90d7b2-b545-422e-a628-9552257918a8",
   "metadata": {
    "jp-MarkdownHeadingCollapsed": true
   },
   "source": [
    "## Clifford Tableau Synthesis\n",
    "\n",
    "Given now such a random clifford tableau (we will create it from a random clifford circuit) and a device connectivity (let's take a line graph for instance). You can synthesize the tableau to a circuit following the device constrains.\n",
    "\n",
    "Let's generate a random clifford circuit using qiskit:"
   ]
  },
  {
   "cell_type": "code",
   "execution_count": 8,
   "id": "ea27fe40-fe38-43bf-a029-b0edb984ae53",
   "metadata": {},
   "source": [
    "def tableau_from_circuit(tableau, circ):\n",
    "    qreg = circ.qregs[0]\n",
    "    circ = transpile(circ, basis_gates=[\"h\", \"s\", \"cx\"])\n",
    "    for op in circ:\n",
    "        if op.operation.name == \"h\":\n",
    "            tableau.append_h(qreg.index(op.qubits[0]))\n",
    "        elif op.operation.name == \"s\":\n",
    "            tableau.append_s(qreg.index(op.qubits[0]))\n",
    "        elif op.operation.name == \"cx\":\n",
    "            tableau.append_cnot(qreg.index(op.qubits[0]), qreg.index(op.qubits[1]))\n",
    "        else:\n",
    "            raise TypeError(\n",
    "                f\"Unrecongnized Gate type: {op.operation.name} for Clifford Tableaus\")\n",
    "    return tableau\n"
   ],
   "outputs": []
  },
  {
   "cell_type": "code",
   "execution_count": 9,
   "id": "2153ff91-82c9-41ed-b82e-dc19c23da2c9",
   "metadata": {},
   "source": [
    "n_qubits = 5\n",
    "\n",
    "tableau = qiskit.quantum_info.random_clifford(n_qubits, seed=42)\n",
    "\n",
    "ct = CliffordTableau(n_qubits)\n",
    "ct = tableau_from_circuit(ct, tableau.to_circuit())\n",
    "print(ct)"
   ],
   "outputs": []
  },
  {
   "cell_type": "markdown",
   "id": "5105b84a-9d78-406e-a485-e300b68b8cc3",
   "metadata": {},
   "source": [
    "Now let's assume that there exists a quantum device with a line connectivity."
   ]
  },
  {
   "cell_type": "code",
   "execution_count": 10,
   "id": "382518df-ddd8-405f-90f1-cfef98f3b1a8",
   "metadata": {},
   "source": [
    "from pauliopt.topologies import Topology\n",
    "\n",
    "topo = Topology.line(n_qubits)\n",
    "\n",
    "topo"
   ],
   "outputs": []
  },
  {
   "cell_type": "markdown",
   "id": "47cbcc00-70c2-44ed-824f-a9a6fe63c29a",
   "metadata": {},
   "source": [
    "The standard (highly simplified process !!) in a compilation framework is now to first optimize the clifford tableau and then route it to the specific qubit device.\n",
    "\n",
    "Let's do that using qiskit:"
   ]
  },
  {
   "cell_type": "code",
   "execution_count": 11,
   "id": "2b251361-989b-42fd-942b-bd057ea1f1e3",
   "metadata": {},
   "source": [
    "couplings = [[i, j] for i, j in topo.couplings]\n",
    "print(couplings)\n",
    "\n",
    "inital_circuit = tableau.to_circuit()\n",
    "qc = transpile(inital_circuit, \n",
    "               basis_gates=[\"h\", \"s\", \"cx\"],                                       \n",
    "               coupling_map=couplings,                      \n",
    "               routing_method=\"sabre\",                      \n",
    "               initial_layout=[i for i in range(n_qubits)])\n",
    "\n",
    "print(qc)\n",
    "print(\"Operations: \", qc.count_ops())\n",
    "print(\"Depth: \", qc.depth())"
   ],
   "outputs": []
  },
  {
   "cell_type": "markdown",
   "id": "6f6fa79d-1d49-48a4-90bf-d1d152e7e126",
   "metadata": {},
   "source": [
    "In pauliopt you can achieve architecture-aware synthesis by using the `synthesize_tableau` method:"
   ]
  },
  {
   "cell_type": "code",
   "execution_count": 12,
   "id": "a454549c-f43f-4ae2-aaec-ceec61e71688",
   "metadata": {},
   "source": [
    "from pauliopt.clifford.tableau_synthesis import synthesize_tableau"
   ],
   "outputs": []
  },
  {
   "cell_type": "code",
   "execution_count": 13,
   "id": "015b1352-346c-4f0b-931c-74feb7dc2598",
   "metadata": {},
   "source": [
    "qc_po, _ = synthesize_tableau(ct, topo, include_swaps=False)\n",
    "qc_po = qc_po.to_qiskit()\n",
    "\n",
    "print(qc_po)\n",
    "print(\"Operations: \", qc_po.count_ops())\n",
    "print(\"Depth: \", qc_po.depth())"
   ],
   "outputs": []
  },
  {
   "cell_type": "code",
   "execution_count": 14,
   "id": "bc6b3fb4-4a2e-4995-9114-89ff21041f81",
   "metadata": {},
   "source": [
    "print(\"Circuits Match: \", Operator.from_circuit(qc_po).equiv(Operator.from_circuit(inital_circuit)))"
   ],
   "outputs": []
  },
  {
   "cell_type": "markdown",
   "id": "d19d19f7-8b85-4a58-ab2c-62354fc58d05",
   "metadata": {},
   "source": [
    "We can see that this clearly improves the performance of a sampling a random clifford operator"
   ]
  },
  {
   "cell_type": "markdown",
   "id": "792705e3-2602-46fc-8fd2-464b6ba5c380",
   "metadata": {
    "jp-MarkdownHeadingCollapsed": true
   },
   "source": [
    "## Initial and final placement\n",
    "\n",
    "You can additionally let the algorithm select a initial and final placement for you (which will typically decrease the CNOT-count further)"
   ]
  },
  {
   "cell_type": "code",
   "execution_count": 15,
   "id": "11b72639-a5c9-4416-b295-8ae1e4888a29",
   "metadata": {},
   "source": [
    "qc_po, _ = synthesize_tableau(ct, topo, include_swaps=True)\n",
    "qc_po = qc_po.to_qiskit()\n",
    "\n",
    "print(qc_po)\n",
    "print(qc_po.count_ops())\n"
   ],
   "outputs": []
  },
  {
   "cell_type": "markdown",
   "id": "2bb0e9f6-e2f4-431e-82a5-e04106aeebb1",
   "metadata": {},
   "source": [
    "## Experiments in arxiv: 2309.08972\n",
    "\n",
    "To verify our results we conducted a numerical study evaluating our algorithm against the typical used IBM Backends (2022).\n",
    "\n",
    "Let's just repeat this study for `IBM_Guadalupe`"
   ]
  },
  {
   "cell_type": "code",
   "execution_count": 16,
   "id": "cbb5a60f-dd4d-4ef6-ba21-03299e6980af",
   "metadata": {},
   "source": [
    "def random_clifford_circuit(nr_gates=20, nr_qubits=4, gate_choice=None):\n",
    "    qc = QuantumCircuit(nr_qubits)\n",
    "    if gate_choice is None:\n",
    "        gate_choice = [\"CY\", \"CZ\", \"CX\", \"H\", \"S\", \"V\"]\n",
    "    for _ in range(nr_gates):\n",
    "        gate_t = np.random.choice(gate_choice)\n",
    "        if gate_t == \"CX\":\n",
    "            control = np.random.choice([i for i in range(nr_qubits)])\n",
    "            target = np.random.choice([i for i in range(nr_qubits) if i != control])\n",
    "            qc.cx(control, target)\n",
    "        elif gate_t == \"CY\":\n",
    "            control = np.random.choice([i for i in range(nr_qubits)])\n",
    "            target = np.random.choice([i for i in range(nr_qubits) if i != control])\n",
    "            qc.cy(control, target)\n",
    "        elif gate_t == \"CZ\":\n",
    "            control = np.random.choice([i for i in range(nr_qubits)])\n",
    "            target = np.random.choice([i for i in range(nr_qubits) if i != control])\n",
    "            qc.cz(control, target)\n",
    "        elif gate_t == \"H\":\n",
    "            qubit = np.random.choice([i for i in range(nr_qubits)])\n",
    "            qc.h(qubit)\n",
    "        elif gate_t == \"S\":\n",
    "            qubit = np.random.choice([i for i in range(nr_qubits)])\n",
    "            qc.s(qubit)\n",
    "        elif gate_t == \"V\":\n",
    "            qubit = np.random.choice([i for i in range(nr_qubits)])\n",
    "            qc.sx(qubit)\n",
    "        elif gate_t == \"CX\":\n",
    "            control = np.random.choice([i for i in range(nr_qubits)])\n",
    "            target = np.random.choice([i for i in range(nr_qubits) if i != control])\n",
    "            qc.cx(control, target)\n",
    "    return qc\n",
    "\n",
    "\n",
    "def random_hscx_circuit(nr_gates=20, nr_qubits=4):\n",
    "    gate_choice = [\"CX\", \"H\", \"S\"]\n",
    "    return random_clifford_circuit(nr_gates=nr_gates,\n",
    "                                   nr_qubits=nr_qubits,\n",
    "                                   gate_choice=gate_choice)\n",
    "\n",
    "def get_ops_count(qc: QuantumCircuit):\n",
    "    count = {\"h\": 0, \"cx\": 0, \"s\": 0, \"depth\": qc.depth()}\n",
    "    ops = qc.count_ops()\n",
    "    if \"cx\" in ops.keys():\n",
    "        count[\"cx\"] += ops['cx']\n",
    "    if \"h\" in ops.keys():\n",
    "        count[\"h\"] += ops[\"h\"]\n",
    "    if \"s\" in ops.keys():\n",
    "        count[\"s\"] += ops[\"s\"]\n",
    "    return count\n",
    "\n",
    "\n",
    "def our_compilation(circ: QuantumCircuit, topology):\n",
    "    ct = CliffordTableau(circ.num_qubits)\n",
    "    ct = tableau_from_circuit(ct, circ)\n",
    "    circ_out, _ = synthesize_tableau(ct, topo, include_swaps=True)\n",
    "    circ_out = circ_out.to_qiskit()\n",
    "    column = get_ops_count(circ_out)\n",
    "    return column\n",
    "\n",
    "def qiskit_compilation(circ: QuantumCircuit, topology):\n",
    "    couplings = [[i, j] for i, j in topo.couplings]\n",
    "    qc = qiskit.quantum_info.Clifford(circ).to_circuit()\n",
    "    circ_out = transpile(qc, \n",
    "               basis_gates=[\"h\", \"s\", \"cx\"],                                       \n",
    "               coupling_map=couplings,                      \n",
    "               routing_method=\"sabre\")\n",
    "\n",
    "    column = get_ops_count(circ_out)\n",
    "    return column"
   ],
   "outputs": []
  },
  {
   "cell_type": "code",
   "execution_count": 17,
   "id": "4dc25ce4-4982-4363-bdd6-a760c4941417",
   "metadata": {},
   "source": [
    "# see our paper for an outline of all connectivity graphs.\n",
    "guadalupe_connectivity = [[0, 1], [1, 0], [1, 2], [1, 4], [2, 1], [2, 3], [3, 2], [3, 5], [4, 1], [4, 7], [5, 3], [5, 8], [6, 7], [7, 4], [7, 6], [7, 10], [8, 5], [8, 9], [8, 11], [9, 8], [10, 7], [10, 12], [11, 8], [11, 14], [12, 10], [12, 13], [12, 15], [13, 12], [13, 14], [14, 11], [14, 13], [15, 12]]\n",
    "\n",
    "topo = Topology.from_dict({\n",
    "    \"num_qubits\": 16,\n",
    "    \"couplings\": guadalupe_connectivity})"
   ],
   "outputs": []
  },
  {
   "cell_type": "code",
   "execution_count": 18,
   "id": "d5bce23e-52ef-4cfd-a10c-141d13eebac8",
   "metadata": {},
   "source": [
    "df = pd.DataFrame(columns=[\"n_rep\", \"nr_gates\", \"method\", \"h\", \"s\", \"cx\", \"depth\"])\n",
    "\n",
    "for num_gates in range(1, 400, 40):\n",
    "    for _ in range(20):\n",
    "        circ = random_hscx_circuit(nr_qubits=topo.num_qubits, nr_gates=num_gates)\n",
    "\n",
    "        column = {\"n_rep\": _, \"nr_gates\": num_gates, \"method\": \"ours\"} | our_compilation(circ, topo)\n",
    "\n",
    "        df.loc[len(df)] = column\n",
    "\n",
    "        column = {\"n_rep\": _, \"nr_gates\": num_gates, \"method\": \"qiskit\"} | qiskit_compilation(circ, topo)\n",
    "\n",
    "        df.loc[len(df)] = column\n"
   ],
   "outputs": []
  },
  {
   "cell_type": "code",
   "execution_count": 19,
   "id": "4080f94d-fbb0-41cd-b1cf-6a627ae030bb",
   "metadata": {},
   "source": [
    "sns.lineplot(df, x=\"nr_gates\", y=\"h\", hue=\"method\")\n",
    "plt.title(\"H-Gates\")\n",
    "plt.xlabel(\"Number of input Gates\")\n",
    "plt.ylabel(\"Number of H-Gates\")\n",
    "plt.show()\n",
    "\n",
    "sns.lineplot(df, x=\"nr_gates\", y=\"s\", hue=\"method\")\n",
    "plt.title(\"S-Gates\")\n",
    "plt.xlabel(\"Number of input gates\")\n",
    "plt.ylabel(\"Number of S-Gates\")\n",
    "plt.show()\n",
    "\n",
    "sns.lineplot(df, x=\"nr_gates\", y=\"cx\", hue=\"method\")\n",
    "plt.title(\"CNOT-Gates\")\n",
    "plt.xlabel(\"Number of input Gates\")\n",
    "plt.ylabel(\"Number of CNOT-Gates\")\n",
    "plt.show()\n",
    "\n",
    "sns.lineplot(df, x=\"nr_gates\", y=\"depth\", hue=\"method\")\n",
    "plt.title(\"Depth\")\n",
    "plt.xlabel(\"Number of input Gates\")\n",
    "plt.ylabel(\"Circuit Depth\")\n",
    "plt.show()\n"
   ],
   "outputs": []
  },
  {
   "cell_type": "markdown",
   "id": "05876290-72c6-4b11-9269-c28d9880b769",
   "metadata": {},
   "source": [
    "We can see that on average we can improve the CNOT count. \n",
    "\n",
    "Nevertheless there is quite some room for improvement, since we converge fast to the asymptotic upperbound of $\\mathcal{O}(n^2)$ in terms of H, S and CNOT-Gates,"
   ]
  },
  {
   "cell_type": "markdown",
   "id": "5e9e51d1-27af-4eea-9b87-3a00a36dcf77",
   "metadata": {},
   "source": [
    "Note that this is just a outline of our experiments. \n",
    "For a complete implementation, see: https://github.com/daehiff/pauliopt/blob/dev/experiments/clifford_experiment.py "
   ]
  },
  {
   "cell_type": "code",
   "execution_count": null,
   "id": "821b792f-5161-437a-ad17-1144a683cb7f",
   "metadata": {},
   "source": [],
   "outputs": []
  }
 ],
 "metadata": {
  "kernelspec": {
   "display_name": "Python 3 (ipykernel)",
   "language": "python",
   "name": "python3"
  },
  "language_info": {
   "codemirror_mode": {
    "name": "ipython",
    "version": 3
   },
   "file_extension": ".py",
   "mimetype": "text/x-python",
   "name": "python",
   "nbconvert_exporter": "python",
   "pygments_lexer": "ipython3",
   "version": "3.9.18"
  }
 },
 "nbformat": 4,
 "nbformat_minor": 5
}
