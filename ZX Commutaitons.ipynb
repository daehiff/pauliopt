{
 "cells": [
  {
   "cell_type": "code",
   "execution_count": 1,
   "metadata": {},
   "outputs": [
    {
     "ename": "ModuleNotFoundError",
     "evalue": "No module named 'numpy'",
     "output_type": "error",
     "traceback": [
      "\u001b[0;31m---------------------------------------------------------------------------\u001b[0m",
      "\u001b[0;31mModuleNotFoundError\u001b[0m                       Traceback (most recent call last)",
      "\u001b[0;32m<ipython-input-1-0aa0b027fcb6>\u001b[0m in \u001b[0;36m<module>\u001b[0;34m\u001b[0m\n\u001b[0;32m----> 1\u001b[0;31m \u001b[0;32mimport\u001b[0m \u001b[0mnumpy\u001b[0m \u001b[0;32mas\u001b[0m \u001b[0mnp\u001b[0m\u001b[0;34m\u001b[0m\u001b[0;34m\u001b[0m\u001b[0m\n\u001b[0m",
      "\u001b[0;31mModuleNotFoundError\u001b[0m: No module named 'numpy'"
     ]
    }
   ],
   "source": [
    "import numpy as np"
   ]
  },
  {
   "cell_type": "code",
   "execution_count": 2,
   "metadata": {},
   "outputs": [
    {
     "ename": "NameError",
     "evalue": "name 'np' is not defined",
     "output_type": "error",
     "traceback": [
      "\u001b[0;31m---------------------------------------------------------------------------\u001b[0m",
      "\u001b[0;31mNameError\u001b[0m                                 Traceback (most recent call last)",
      "\u001b[0;32m<ipython-input-2-8c82f982bea1>\u001b[0m in \u001b[0;36m<module>\u001b[0;34m\u001b[0m\n\u001b[0;32m----> 1\u001b[0;31m \u001b[0mX\u001b[0m \u001b[0;34m=\u001b[0m \u001b[0mnp\u001b[0m\u001b[0;34m.\u001b[0m\u001b[0masarray\u001b[0m\u001b[0;34m(\u001b[0m\u001b[0;34m[\u001b[0m\u001b[0;34m[\u001b[0m\u001b[0;36m0\u001b[0m\u001b[0;34m,\u001b[0m \u001b[0;36m1\u001b[0m\u001b[0;34m]\u001b[0m\u001b[0;34m,\u001b[0m \u001b[0;34m[\u001b[0m\u001b[0;36m1\u001b[0m\u001b[0;34m,\u001b[0m \u001b[0;36m0\u001b[0m\u001b[0;34m]\u001b[0m\u001b[0;34m]\u001b[0m\u001b[0;34m)\u001b[0m\u001b[0;34m\u001b[0m\u001b[0;34m\u001b[0m\u001b[0m\n\u001b[0m\u001b[1;32m      2\u001b[0m \u001b[0mY\u001b[0m \u001b[0;34m=\u001b[0m \u001b[0mnp\u001b[0m\u001b[0;34m.\u001b[0m\u001b[0masarray\u001b[0m\u001b[0;34m(\u001b[0m\u001b[0;34m[\u001b[0m\u001b[0;34m[\u001b[0m\u001b[0;36m0\u001b[0m\u001b[0;34m,\u001b[0m \u001b[0;34m-\u001b[0m\u001b[0;36m1j\u001b[0m\u001b[0;34m]\u001b[0m\u001b[0;34m,\u001b[0m \u001b[0;34m[\u001b[0m\u001b[0;36m1j\u001b[0m\u001b[0;34m,\u001b[0m \u001b[0;36m0\u001b[0m\u001b[0;34m]\u001b[0m\u001b[0;34m]\u001b[0m\u001b[0;34m)\u001b[0m\u001b[0;34m\u001b[0m\u001b[0;34m\u001b[0m\u001b[0m\n\u001b[1;32m      3\u001b[0m \u001b[0mZ\u001b[0m \u001b[0;34m=\u001b[0m \u001b[0mnp\u001b[0m\u001b[0;34m.\u001b[0m\u001b[0masarray\u001b[0m\u001b[0;34m(\u001b[0m\u001b[0;34m[\u001b[0m\u001b[0;34m[\u001b[0m\u001b[0;36m1\u001b[0m\u001b[0;34m,\u001b[0m \u001b[0;36m0\u001b[0m\u001b[0;34m]\u001b[0m\u001b[0;34m,\u001b[0m \u001b[0;34m[\u001b[0m\u001b[0;36m0\u001b[0m\u001b[0;34m,\u001b[0m \u001b[0;34m-\u001b[0m\u001b[0;36m1\u001b[0m\u001b[0;34m]\u001b[0m\u001b[0;34m]\u001b[0m\u001b[0;34m)\u001b[0m\u001b[0;34m\u001b[0m\u001b[0;34m\u001b[0m\u001b[0m\n\u001b[1;32m      4\u001b[0m \u001b[0mI\u001b[0m \u001b[0;34m=\u001b[0m \u001b[0mnp\u001b[0m\u001b[0;34m.\u001b[0m\u001b[0masarray\u001b[0m\u001b[0;34m(\u001b[0m\u001b[0;34m[\u001b[0m\u001b[0;34m[\u001b[0m\u001b[0;36m1\u001b[0m\u001b[0;34m,\u001b[0m \u001b[0;36m0\u001b[0m\u001b[0;34m]\u001b[0m\u001b[0;34m,\u001b[0m \u001b[0;34m[\u001b[0m\u001b[0;36m0\u001b[0m\u001b[0;34m,\u001b[0m \u001b[0;36m1\u001b[0m\u001b[0;34m]\u001b[0m\u001b[0;34m]\u001b[0m\u001b[0;34m)\u001b[0m\u001b[0;34m\u001b[0m\u001b[0;34m\u001b[0m\u001b[0m\n\u001b[1;32m      5\u001b[0m \u001b[0;34m\u001b[0m\u001b[0m\n",
      "\u001b[0;31mNameError\u001b[0m: name 'np' is not defined"
     ]
    }
   ],
   "source": [
    "X = np.asarray([[0, 1], [1, 0]])\n",
    "Y = np.asarray([[0, -1j], [1j, 0]])\n",
    "Z = np.asarray([[1, 0], [0, -1]])\n",
    "I = np.asarray([[1, 0], [0, 1]])\n",
    "\n",
    "S = np.asarray([[1, 0], [0, 1.j]])\n",
    "Sdg = S.conj().T\n",
    "\n",
    "V = (1/2) * np.array([[1+1j, 1-1j], [1-1j, 1+1j]])\n",
    "Vdg = V.conj().T\n",
    "\n",
    "CX = np.asarray([[1, 0, 0, 0],\n",
    "                 [0, 1, 0, 0],\n",
    "                 [0, 0, 0, 1],\n",
    "                 [0, 0, 1, 0]])\n",
    "CY = np.array([[1, 0, 0, 0],\n",
    "               [0, 1, 0, 0],\n",
    "               [0, 0, 0, -1.j],\n",
    "               [0, 0, 1.j, 0]])\n",
    "\n",
    "CZ = np.array([[1, 0, 0, 0],\n",
    "               [0, 1, 0, 0],\n",
    "               [0, 0, 1, 0],\n",
    "               [0, 0, 0, -1]])"
   ]
  },
  {
   "cell_type": "code",
   "execution_count": 39,
   "metadata": {},
   "outputs": [
    {
     "name": "stdout",
     "output_type": "stream",
     "text": [
      "XI =>  1.0 XX\n",
      "YI =>  1.0 YX\n",
      "ZI =>  1.0 ZI\n",
      "IX =>  1.0 IX\n",
      "IY =>  1.0 ZY\n",
      "IZ =>  1.0 ZZ\n",
      "ZX =>  1.0 ZX\n",
      "XZ => -1.0 YY\n",
      "XY =>  1.0 YZ\n"
     ]
    }
   ],
   "source": [
    "def get_output_xz(mat_1):\n",
    "    for x_0_name, x_0 in zip([\"X\", \"Z\", \"I\", \"Y\"], [X, Z, I, Y]):\n",
    "        for x_1_name, x_1 in zip([\"X\", \"Z\", \"I\", \"Y\"], [X, Z, I, Y]):\n",
    "            for phase in [-1.0, 1.0, 1.j, -1.j]:\n",
    "                    mat_2 = phase*np.kron(x_0, x_1)\n",
    "                    if np.allclose(mat_1, mat_2):\n",
    "                        return (phase, x_0_name, x_1_name)\n",
    "    return (None, None, None)\n",
    "    \n",
    "\n",
    "def pauli_from_name(name):\n",
    "    if name == \"X\":\n",
    "        return X\n",
    "    elif name == \"Y\":\n",
    "        return Y\n",
    "    elif name == \"Z\":\n",
    "        return Z\n",
    "    elif name == \"I\":\n",
    "        return I\n",
    "    else:\n",
    "        raise Exception(\"Unknown Name\")\n",
    "\n",
    "relevant_legs = [\n",
    "                 (\"X\", \"I\"), (\"Y\", \"I\"), (\"Z\", \"I\"), \n",
    "                 (\"I\", \"X\"), (\"I\", \"Y\"), (\"I\", \"Z\"),\n",
    "                 (\"Z\", \"X\"), (\"X\", \"Z\"), (\"X\", \"Y\")\n",
    "                ]\n",
    "\n",
    "for x_0, x_1 in relevant_legs:\n",
    "    x_0_mat = pauli_from_name(x_0)\n",
    "    x_1_mat = pauli_from_name(x_1)\n",
    "    p_mat = CX@np.kron(x_0_mat, x_1_mat)@CX.conj().T\n",
    "    phase, x_0_out, x_1_out = get_output_xz(p_mat)\n",
    "    pad = 4- len(str(phase))\n",
    "    pad = \" \".join([\" \" for _ in range(pad)])\n",
    "    print(f\"{x_0}{x_1} => {pad}{phase} {x_0_out}{x_1_out}\")"
   ]
  },
  {
   "cell_type": "code",
   "execution_count": 43,
   "metadata": {},
   "outputs": [
    {
     "name": "stdout",
     "output_type": "stream",
     "text": [
      "IZ =>  1.0 ZZ\n",
      "IX =>  1.0 ZX\n",
      "IY =>  1.0 IY\n",
      "ZI =>  1.0 ZI\n",
      "XI =>  1.0 XY\n",
      "YI =>  1.0 YY\n",
      "XZ =>  1.0 YX\n",
      "YZ => -1.0 XX\n",
      "ZY =>  1.0 ZY\n"
     ]
    }
   ],
   "source": [
    "relevant_legs = [\n",
    "                 (\"I\", \"Z\"), (\"I\", \"X\"), (\"I\", \"Y\"),\n",
    "                 (\"Z\", \"I\"), (\"X\", \"I\"), (\"Y\", \"I\"), \n",
    "                 (\"X\", \"Z\"), (\"Y\", \"Z\"), (\"Z\", \"Y\")\n",
    "                ]\n",
    "\n",
    "for x_0, x_1 in relevant_legs:\n",
    "    x_0_mat = pauli_from_name(x_0)\n",
    "    x_1_mat = pauli_from_name(x_1)\n",
    "    p_mat = CY@np.kron(x_0_mat, x_1_mat)@CY.conj().T\n",
    "    phase, x_0_out, x_1_out = get_output_xz(p_mat)\n",
    "    pad = 4- len(str(phase))\n",
    "    pad = \" \".join([\" \" for _ in range(pad)])\n",
    "    print(f\"{x_0}{x_1} => {pad}{phase} {x_0_out}{x_1_out}\")"
   ]
  },
  {
   "cell_type": "code",
   "execution_count": 50,
   "metadata": {},
   "outputs": [
    {
     "name": "stdout",
     "output_type": "stream",
     "text": [
      "IZ =>  1.0 IZ\n",
      "IX =>  1.0 ZX\n",
      "IY =>  1.0 ZY\n",
      "ZI =>  1.0 ZI\n",
      "XI =>  1.0 XZ\n",
      "YI =>  1.0 YZ\n",
      "ZZ =>  1.0 ZZ\n",
      "XY => -1.0 YX\n",
      "XX =>  1.0 YY\n"
     ]
    }
   ],
   "source": [
    "relevant_legs = [\n",
    "                 (\"I\", \"Z\"), (\"I\", \"X\"), (\"I\", \"Y\"),\n",
    "                 (\"Z\", \"I\"), (\"X\", \"I\"), (\"Y\", \"I\"), \n",
    "                 (\"Z\", \"Z\"), (\"X\", \"Y\"), (\"X\", \"X\")\n",
    "                ]\n",
    "\n",
    "for x_0, x_1 in relevant_legs:\n",
    "    x_0_mat = pauli_from_name(x_0)\n",
    "    x_1_mat = pauli_from_name(x_1)\n",
    "    p_mat = CZ@np.kron(x_0_mat, x_1_mat)@CZ.conj().T\n",
    "    phase, x_0_out, x_1_out = get_output_xz(p_mat)\n",
    "    pad = 4- len(str(phase))\n",
    "    pad = \" \".join([\" \" for _ in range(pad)])\n",
    "    print(f\"{x_0}{x_1} => {pad}{phase} {x_0_out}{x_1_out}\")"
   ]
  },
  {
   "cell_type": "code",
   "execution_count": 35,
   "metadata": {},
   "outputs": [
    {
     "name": "stdout",
     "output_type": "stream",
     "text": [
      "I_0Z_1X_1 => NoneNone_0None_1\n",
      "I_0Z_1I_1 => NoneNone_0None_1\n",
      "I_0I_1X_1 => NoneNone_0None_1\n",
      "I_0I_1I_1 => NoneNone_0None_1\n"
     ]
    }
   ],
   "source": [
    "for x_0_name, x_0 in zip([\"Z\", \"I\"], [Z, I]):\n",
    "    for x_1_name, x_1 in zip([\"X\", \"I\"], [X, I]):\n",
    "            mat_1 = np.linalg.inv(CX) @ np.kron(I, x_0 @ x_1) @ CX\n",
    "            if x_0_name == \"Z\" and x_1_name == \"X\":\n",
    "                mat_1 = mat_1*1.j\n",
    "            phase, x_0_out, x_1_out = get_output_xz(mat_1)\n",
    "            print(f\"I_0{x_0_name}_1{x_1_name}_1 => {phase}{x_0_out}_0{x_1_out}_1\")"
   ]
  },
  {
   "cell_type": "code",
   "execution_count": 24,
   "metadata": {},
   "outputs": [
    {
     "name": "stdout",
     "output_type": "stream",
     "text": [
      "XI => 1j*XZ\n",
      "XZ => (-0-1j)*XZ\n",
      "II => (-0-1j)*XZ\n",
      "IZ => 1j*XZ\n"
     ]
    }
   ],
   "source": [
    "def get_output_xz(mat_1):\n",
    "    for x_0_name, x_0 in zip([\"X\", \"Z\", \"I\", \"Y\"], [X, Z, I, Y]):\n",
    "            for phase in [-1.0, 1.0, 1.j, -1.j]:\n",
    "                    mat_2 = phase*x_0\n",
    "                    if np.allclose(mat_1, mat_2):\n",
    "                        if x_0_name == \"Y\":\n",
    "                            x_0_name = \"XZ\"\n",
    "                        return (phase, x_0_name)\n",
    "    return (None, None)\n",
    "\n",
    "for x_0_name, x_0 in zip([\"X\", \"I\"], [X, I]):\n",
    "    for x_1_name, x_1 in zip([\"I\", \"Z\"], [I, Z]):\n",
    "        mat_1 = np.linalg.inv(x_0@x_1)@(X@Z)@x_0@x_1\n",
    "        phase, x_out_0 = get_output_xz(mat_1)\n",
    "        print(f\"{x_0_name}{x_1_name} => {phase}*{x_out_0}\")\n",
    "        "
   ]
  },
  {
   "cell_type": "code",
   "execution_count": 2,
   "metadata": {},
   "outputs": [
    {
     "ename": "NameError",
     "evalue": "name 'X' is not defined",
     "output_type": "error",
     "traceback": [
      "\u001b[0;31m---------------------------------------------------------------------------\u001b[0m",
      "\u001b[0;31mNameError\u001b[0m                                 Traceback (most recent call last)",
      "\u001b[0;32m<ipython-input-2-660e7d1e143b>\u001b[0m in \u001b[0;36m<module>\u001b[0;34m\u001b[0m\n\u001b[1;32m      7\u001b[0m     \u001b[0;32mreturn\u001b[0m \u001b[0;34m(\u001b[0m\u001b[0;32mNone\u001b[0m\u001b[0;34m,\u001b[0m \u001b[0;32mNone\u001b[0m\u001b[0;34m)\u001b[0m\u001b[0;34m\u001b[0m\u001b[0;34m\u001b[0m\u001b[0m\n\u001b[1;32m      8\u001b[0m \u001b[0;34m\u001b[0m\u001b[0m\n\u001b[0;32m----> 9\u001b[0;31m \u001b[0;32mfor\u001b[0m \u001b[0mx_0_name\u001b[0m\u001b[0;34m,\u001b[0m \u001b[0mx_0\u001b[0m \u001b[0;32min\u001b[0m \u001b[0mzip\u001b[0m\u001b[0;34m(\u001b[0m\u001b[0;34m[\u001b[0m\u001b[0;34m\"X\"\u001b[0m\u001b[0;34m,\u001b[0m \u001b[0;34m\"Y\"\u001b[0m\u001b[0;34m,\u001b[0m \u001b[0;34m\"Z\"\u001b[0m\u001b[0;34m,\u001b[0m \u001b[0;34m\"I\"\u001b[0m\u001b[0;34m]\u001b[0m\u001b[0;34m,\u001b[0m \u001b[0;34m[\u001b[0m\u001b[0mX\u001b[0m\u001b[0;34m,\u001b[0m \u001b[0mY\u001b[0m\u001b[0;34m,\u001b[0m \u001b[0mZ\u001b[0m\u001b[0;34m,\u001b[0m \u001b[0mI\u001b[0m\u001b[0;34m]\u001b[0m\u001b[0;34m)\u001b[0m\u001b[0;34m:\u001b[0m\u001b[0;34m\u001b[0m\u001b[0;34m\u001b[0m\u001b[0m\n\u001b[0m\u001b[1;32m     10\u001b[0m         \u001b[0mmat_1\u001b[0m \u001b[0;34m=\u001b[0m \u001b[0mSdg\u001b[0m\u001b[0;34m.\u001b[0m\u001b[0mconj\u001b[0m\u001b[0;34m(\u001b[0m\u001b[0;34m)\u001b[0m\u001b[0;34m.\u001b[0m\u001b[0mT\u001b[0m\u001b[0;34m@\u001b[0m\u001b[0mx_0\u001b[0m\u001b[0;34m@\u001b[0m\u001b[0mSdg\u001b[0m\u001b[0;34m\u001b[0m\u001b[0;34m\u001b[0m\u001b[0m\n\u001b[1;32m     11\u001b[0m         \u001b[0mphase\u001b[0m\u001b[0;34m,\u001b[0m \u001b[0mx_out_0\u001b[0m \u001b[0;34m=\u001b[0m \u001b[0mget_output_xz\u001b[0m\u001b[0;34m(\u001b[0m\u001b[0mmat_1\u001b[0m\u001b[0;34m)\u001b[0m\u001b[0;34m\u001b[0m\u001b[0;34m\u001b[0m\u001b[0m\n",
      "\u001b[0;31mNameError\u001b[0m: name 'X' is not defined"
     ]
    }
   ],
   "source": [
    "def get_output_xz(mat_1):\n",
    "    for x_0_name, x_0 in zip([\"X\", \"Y\", \"Z\", \"I\"], [X, Y, Z, I]):\n",
    "        for phase in [-1.0, 1.0, -1.j, 1.j]:\n",
    "            mat_2 = phase*x_0\n",
    "            if np.allclose(mat_1, mat_2):\n",
    "                return (phase, x_0_name)\n",
    "    return (None, None)\n",
    "\n",
    "for x_0_name, x_0 in zip([\"X\", \"Y\", \"Z\", \"I\"], [X, Y, Z, I]):\n",
    "        mat_1 = Sdg.conj().T@x_0@Sdg\n",
    "        phase, x_out_0 = get_output_xz(mat_1)\n",
    "        print(f\"{x_0_name} => {phase}*{x_out_0}\")"
   ]
  },
  {
   "cell_type": "code",
   "execution_count": null,
   "metadata": {},
   "outputs": [],
   "source": []
  }
 ],
 "metadata": {
  "kernelspec": {
   "display_name": "Python 3",
   "language": "python",
   "name": "python3"
  },
  "language_info": {
   "codemirror_mode": {
    "name": "ipython",
    "version": 3
   },
   "file_extension": ".py",
   "mimetype": "text/x-python",
   "name": "python",
   "nbconvert_exporter": "python",
   "pygments_lexer": "ipython3",
   "version": "3.8.6"
  }
 },
 "nbformat": 4,
 "nbformat_minor": 5
}
